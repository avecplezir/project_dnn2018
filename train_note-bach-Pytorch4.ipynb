{
 "cells": [
  {
   "cell_type": "code",
   "execution_count": 1,
   "metadata": {},
   "outputs": [
    {
     "name": "stderr",
     "output_type": "stream",
     "text": [
      "/opt/miniconda/lib/python3.6/site-packages/h5py/__init__.py:36: FutureWarning: Conversion of the second argument of issubdtype from `float` to `np.floating` is deprecated. In future, it will be treated as `np.float64 == np.dtype(float).type`.\n",
      "  from ._conv import register_converters as _register_converters\n"
     ]
    }
   ],
   "source": [
    "import argparse\n",
    "import midi\n",
    "import os\n",
    "\n",
    "from constants import *\n",
    "from dataset import load_all\n",
    "from generate import write_file, generate\n",
    "from play_music_util import play_music\n",
    "\n",
    "import pygame\n",
    "import base64\n",
    "\n",
    "# from playsound import playsound\n",
    "import numpy as np\n",
    "import copy "
   ]
  },
  {
   "cell_type": "code",
   "execution_count": 2,
   "metadata": {},
   "outputs": [],
   "source": [
    "import math\n",
    "import time\n",
    "from IPython import display\n",
    "import matplotlib.pyplot as plt\n",
    "from tqdm import tqdm\n",
    "from torch import optim\n",
    "%matplotlib inline\n",
    "\n",
    "import torch, torch.nn as nn\n",
    "import torch.nn.functional as F\n",
    "from torch.autograd import Variable\n",
    "import torch"
   ]
  },
  {
   "cell_type": "code",
   "execution_count": 3,
   "metadata": {},
   "outputs": [
    {
     "data": {
      "text/plain": [
       "['data/Bach1']"
      ]
     },
     "execution_count": 3,
     "metadata": {},
     "output_type": "execute_result"
    }
   ],
   "source": [
    "styles = [['data/Bach1']]\n",
    "styles[0]"
   ]
  },
  {
   "cell_type": "code",
   "execution_count": 4,
   "metadata": {},
   "outputs": [
    {
     "name": "stdout",
     "output_type": "stream",
     "text": [
      "Loading data\n"
     ]
    }
   ],
   "source": [
    "print('Loading data')\n",
    "train_data, train_labels = load_all(styles, BATCH_SIZE, SEQ_LEN)"
   ]
  },
  {
   "cell_type": "code",
   "execution_count": 5,
   "metadata": {},
   "outputs": [
    {
     "data": {
      "text/plain": [
       "(81, 128, 48, 3)"
      ]
     },
     "execution_count": 5,
     "metadata": {},
     "output_type": "execute_result"
    }
   ],
   "source": [
    "train_data[0].shape"
   ]
  },
  {
   "cell_type": "code",
   "execution_count": 6,
   "metadata": {},
   "outputs": [],
   "source": [
    "from model import Generator, iterate_minibatches, compute_loss, train"
   ]
  },
  {
   "cell_type": "code",
   "execution_count": 7,
   "metadata": {},
   "outputs": [],
   "source": [
    "def pitch_pos_in_f(x):\n",
    "    \"\"\"\n",
    "    Returns a constant containing pitch position of each note\n",
    "    \"\"\"\n",
    "#     print('x', x.shape[:-2])\n",
    "    pos_in = torch.FloatTensor(np.arange(NUM_NOTES)/NUM_NOTES)\n",
    "#     print(pos_in.shape)\n",
    "    pos_in = pos_in.repeat(x.shape[:-2]+(1,))[:,:,:,None]\n",
    "#     print(pos_in.shape)\n",
    "    \n",
    "    return get_variable(pos_in)\n",
    "\n",
    "def pitch_class_in_f(x):\n",
    "    \"\"\"\n",
    "    Returns a constant containing pitch class of each note\n",
    "    \"\"\"\n",
    "\n",
    "    pitch_class_matrix = np.array([one_hot(n % OCTAVE, OCTAVE) for n in range(NUM_NOTES)])\n",
    "    pitch_class_matrix = torch.FloatTensor(pitch_class_matrix)\n",
    "    pitch_class_matrix = pitch_class_matrix.view(1, 1, NUM_NOTES, OCTAVE)\n",
    "    pitch_class_matrix = pitch_class_matrix.repeat((x.shape[:2]+ (1, 1)))\n",
    "#     print('pitch_class_matrix', pitch_class_matrix.shape)\n",
    "    \n",
    "    return get_variable(pitch_class_matrix)\n",
    "\n",
    "def pitch_bins_f(x):\n",
    "\n",
    "        bins = [x[:, :, i::OCTAVE, :1].sum(2) for i in range(OCTAVE)]\n",
    "#         print(bins[0].shape)\n",
    "        bins = torch.cat(bins, dim = -1)\n",
    "#         print(bins.shape)\n",
    "        bins = bins.repeat(NUM_OCTAVES, 1, 1)\n",
    "#         print(bins.shape)\n",
    "        bins = bins.view(x.shape[:2]+(NUM_NOTES, 1))\n",
    "#         print(bins.shape)\n",
    "        \n",
    "        return bins\n",
    "\n",
    "# def pitch_bins_f(time_steps):\n",
    "#     def f(x):\n",
    "#         bins = tf.reduce_sum([x[:, :, i::OCTAVE, 0] for i in range(OCTAVE)], axis=3)\n",
    "#         bins = tf.tile(bins, [NUM_OCTAVES, 1, 1])\n",
    "#         bins = tf.reshape(bins, [tf.shape(x)[0], time_steps, NUM_NOTES, 1])\n",
    "#         return bins\n",
    "#     return f"
   ]
  },
  {
   "cell_type": "code",
   "execution_count": 8,
   "metadata": {},
   "outputs": [
    {
     "data": {
      "text/plain": [
       "26"
      ]
     },
     "execution_count": 8,
     "metadata": {},
     "output_type": "execute_result"
    }
   ],
   "source": [
    "78//3"
   ]
  },
  {
   "cell_type": "code",
   "execution_count": 9,
   "metadata": {},
   "outputs": [],
   "source": [
    "def get_variable(x):\n",
    "    if cuda:      \n",
    "        return  Variable(x.cuda(), requires_grad=False)\n",
    "    else:\n",
    "        return Variable(x, requires_grad=False)"
   ]
  },
  {
   "cell_type": "code",
   "execution_count": 99,
   "metadata": {},
   "outputs": [],
   "source": [
    "import torch, torch.nn as nn\n",
    "import torch.nn.functional as F\n",
    "from torch.autograd import Variable\n",
    "from constants import *\n",
    "import numpy as np\n",
    "import copy \n",
    "\n",
    "import math\n",
    "import time\n",
    "from IPython import display\n",
    "import matplotlib.pyplot as plt\n",
    "from tqdm import tqdm\n",
    "from torch import optim\n",
    "from util import one_hot\n",
    "\n",
    "criterion_bce_play = nn.BCELoss()  \n",
    "criterion_bce_replay = nn.BCELoss() \n",
    "criterion_mse = nn.MSELoss()  \n",
    "\n",
    "def compute_loss(y_pred, y_true):\n",
    "    \n",
    "    played = y_true[:, :, :, 0]\n",
    "    \n",
    "    bce_note = criterion_bce_play(y_pred[:, :, :, 0], y_true[:, :, :, 0])\n",
    "\n",
    "    replay = played*y_pred[:, :, :, 1] + (1 - played)*y_true[:, :, :, 1]\n",
    "    \n",
    "    bce_replay = criterion_bce_replay(replay, y_true[:, :, :, 1])\n",
    "    \n",
    "    volume = played*y_pred[:, :, :, 2] + (1 - played)*y_true[:, :, :, 2]\n",
    "    mse = criterion_mse(volume, y_true[:, :, :, 2] )\n",
    "    \n",
    "    return bce_note + bce_replay + mse\n",
    "\n",
    "\n",
    "def iterate_minibatches(train_data, train_labels, batchsize):\n",
    "    indices = np.random.permutation(np.arange(len(train_labels)))\n",
    "#     indices = np.arange(len(train_labels))\n",
    "    for start in range(0, len(indices), batchsize):\n",
    "        ix = indices[start: start + batchsize]\n",
    "        \n",
    "        if cuda:      \n",
    "            yield  Variable(torch.FloatTensor(train_data[ix])).cuda(), Variable(torch.FloatTensor(train_labels[ix])).cuda()\n",
    "        else:\n",
    "            yield Variable(torch.FloatTensor(train_data[ix])), Variable(torch.FloatTensor(train_labels[ix]))\n",
    "\n",
    "# def note2batch(notes):\n",
    "\n",
    "\n",
    "    \n",
    "    \n",
    "    \n",
    "class time_axis(nn.Module):\n",
    "    def __init__(self):\n",
    "        super(self.__class__, self).__init__() \n",
    "        self.n_layers = TIME_AXIS_LAYERS\n",
    "        self.hidden_size = TIME_AXIS_UNITS\n",
    "        \n",
    "        self.attention_layer = MultiHeadedAttention()\n",
    "        self.self_attention = True\n",
    "        \n",
    "        self.note_features = True\n",
    "        \n",
    "#         if self.self_attention:\n",
    "#             self.input_size = 256#PROJECTION_DIM*N_HEADS\n",
    "#         else:\n",
    "        self.input_size = 78 #64#78\n",
    "         \n",
    "        self.padding = nn.ZeroPad2d(((2 * OCTAVE - 1)//2,  math.ceil((2 * OCTAVE - 1)/2), 0, 0))\n",
    "        self.conv = nn.Conv1d(NOTE_UNITS,  OCTAVE_UNITS, 2 * OCTAVE)\n",
    "\n",
    "        self.time_lstm = nn.LSTM(self.input_size, self.hidden_size, self.n_layers, dropout=0.1, \n",
    "                                 batch_first=True, )\n",
    "        self.dropout = nn.Dropout(p=0.5, inplace=True)\n",
    "        \n",
    "    def forward(self, notes):\n",
    "        \n",
    "        \"\"\"\n",
    "        arg:\n",
    "            notes - (batch, time_seq, note_seq, note_features)\n",
    "        \n",
    "        out: \n",
    "            (batch, time_seq, note_seq, hidden_features)\n",
    "            \n",
    "        \"\"\"\n",
    "        \n",
    "        initial_shape = notes.shape\n",
    "        \n",
    "        # convolution\n",
    "        notes = notes.contiguous().view((-1,)+ notes.shape[-2:]).contiguous()\n",
    "        notes = notes.permute(0, 2, 1).contiguous()\n",
    "        notes = self.padding(notes)\n",
    "        notes = self.conv(notes)\n",
    "        notes = nn.Tanh()(notes)\n",
    "        notes = notes.permute(0, 2, 1).contiguous()\n",
    "        notes = notes.contiguous().view(initial_shape[:2] + notes.shape[-2:])\n",
    "        \n",
    "        pos_in = pitch_pos_in_f(notes)\n",
    "        class_in = pitch_class_in_f(notes)\n",
    "        bins = pitch_bins_f(notes)\n",
    "        \n",
    "        note_features = torch.cat([notes, pos_in, class_in, bins], dim = -1)\n",
    "#         note_features = torch.cat([notes, pos_in, class_in, bins], dim = -1)\n",
    "#         print(note_features.shape)\n",
    "        notes = note_features\n",
    "#         print(notes.shape)\n",
    "\n",
    "        \n",
    "        initial_shape = notes.shape\n",
    "        \n",
    "#         self.dropout(notes)\n",
    "        \n",
    "        if self.self_attention:\n",
    "            notes = notes.contiguous().view((-1,)+ notes.shape[-2:]).contiguous()\n",
    "            notes = self.attention_layer(notes, notes, notes)\n",
    "            notes = notes.contiguous().view(initial_shape[:2] + notes.shape[-2:])\n",
    "        \n",
    "        notes = notes+note_features\n",
    "        \n",
    "        initial_shape = notes.shape\n",
    "        \n",
    "        notes = notes.permute(0, 2, 1, 3).contiguous()\n",
    "        notes = notes.view((-1,)+ notes.shape[-2:]).contiguous()\n",
    "        \n",
    "#         print(notes.shape)\n",
    "\n",
    "        out, hidden = self.time_lstm(notes) \n",
    "                \n",
    "        time_output = out.contiguous().view((initial_shape[0],) + (initial_shape[2],) + out.shape[-2:])\n",
    "        time_output = time_output.permute(0, 2, 1, 3)        \n",
    "        \n",
    "        return time_output        \n",
    "    \n",
    "class note_axis(nn.Module):\n",
    "    def __init__(self):\n",
    "        super(self.__class__, self).__init__()   \n",
    "        \n",
    "        self.n_layers = NOTE_AXIS_LAYERS\n",
    "        self.hidden_size = NOTE_AXIS_UNITS\n",
    "        # number of time features plus number of previous higher note in the same time momemt\n",
    "        self.input_size = TIME_AXIS_UNITS + NOTE_UNITS\n",
    "       \n",
    "        self.note_lstm = nn.LSTM(self.input_size, self.hidden_size, self.n_layers, dropout=0.1, \n",
    "                                 batch_first=True, )\n",
    "        \n",
    "        self.dropout = nn.Dropout(p=0.2, inplace=True)\n",
    "        \n",
    "        self.logits = nn.Linear(self.hidden_size, NOTE_UNITS) \n",
    "        \n",
    "    def forward(self, notes, chosen, to_train):\n",
    "        \"\"\"\n",
    "        arg:\n",
    "            notes - (batch, time_seq, note_seq, time_hidden_features)\n",
    "        \n",
    "        out: \n",
    "            (batch, time_seq, note_seq, next_notes_features)\n",
    "            \n",
    "        \"\"\"\n",
    "                \n",
    "        # Shift target one note to the left.\n",
    "        shift_chosen = nn.ZeroPad2d((0, 0, 1, 0))(chosen[:, :, :-1, :]) \n",
    "#         print('shift_chosen', shift_chosen.shape)\n",
    "#         print('shift_chosen', shift_chosen[0,0,:,0])\n",
    "        note_input = torch.cat([notes, shift_chosen], dim=-1)\n",
    "#         note_input = notes\n",
    "        \n",
    "        initial_shape = note_input.shape\n",
    "        \n",
    "        note_input = note_input.contiguous().view((-1,)+ note_input.shape[-2:]).contiguous()\n",
    "        \n",
    "        if to_train:\n",
    "            out, hidden = self.note_lstm(note_input) \n",
    "        else:\n",
    "            pass\n",
    "            \n",
    "        \n",
    "        note_output = out.contiguous().view(initial_shape[:2] + out.shape[-2:])\n",
    "\n",
    "#         self.dropout(note_output)\n",
    "\n",
    "        logits = self.logits(note_output) \n",
    "        next_notes = nn.Sigmoid()(logits)\n",
    "        \n",
    "        return next_notes \n",
    "    \n",
    "def clones(module, N):\n",
    "    \"Produce N identical layers.\"\n",
    "    return nn.ModuleList([copy.deepcopy(module) for _ in range(N)])\n",
    "    \n",
    "def attention(query, key, value):\n",
    "    \"Compute 'Scaled Dot Product Attention'\"\n",
    "    d_k = query.size(-1)\n",
    "    scores = torch.matmul(query, key.transpose(-2, -1)) \\\n",
    "             / math.sqrt(d_k)\n",
    "    p_attn = F.softmax(scores, dim = -1)\n",
    "\n",
    "    return torch.matmul(p_attn, value), p_attn\n",
    "    \n",
    "class MultiHeadedAttention(nn.Module):\n",
    "    def __init__(self, dropout=0.1):\n",
    "        super(MultiHeadedAttention, self).__init__()\n",
    "        \n",
    "        self.d_model = 78 #3#78 #OCTAVE_UNITS\n",
    "        self.h = 3 #N_HEADS\n",
    "        self.d_k = 26 #78//3#PROJECTION_DIM\n",
    "        \n",
    "        self.linears = clones(nn.Linear(self.d_model, self.d_k*self.h), 3)\n",
    "#         self.linear = nn.Linear(self.d_k*self.h, self.d_k*self.h)\n",
    "        self.linear = nn.Linear(self.d_k*self.h, self.d_k*self.h)\n",
    "        self.attn = None\n",
    "        self.dropout = nn.Dropout(p=dropout)\n",
    "        \n",
    "    def forward(self, query, key, value):\n",
    "\n",
    "        nbatches = query.size(0)\n",
    "        \n",
    "        # 1) Do all the linear projections in batch from d_model => h x d_k \n",
    "        query, key, value = \\\n",
    "            [l(x).view(nbatches, -1, self.h, self.d_k).transpose(1, 2)\n",
    "             for l, x in zip(self.linears, (query, key, value))]\n",
    "        \n",
    "        # 2) Apply attention on all the projected vectors in batch. \n",
    "        x, self.attn = attention(query, key, value)\n",
    "        \n",
    "        # 3) \"Concat\" using a view and apply a final linear. \n",
    "        x = x.transpose(1, 2).contiguous() \\\n",
    "             .view(nbatches, -1, self.h * self.d_k)\n",
    "            \n",
    "#         print('x', x.shape)\n",
    "            \n",
    "        return self.linear(x)\n",
    "    \n",
    "class Generator(nn.Module):\n",
    "    def __init__(self, dropout=0.5):\n",
    "        super(self.__class__, self).__init__()        \n",
    "        \n",
    "        self.dropout = nn.Dropout(p=dropout)\n",
    "        self.time_ax = time_axis() \n",
    "        self.note_ax = note_axis()\n",
    "        \n",
    "    def forward(self, notes, chosen, to_train=True):\n",
    "        \n",
    "        notes = self.dropout(notes)\n",
    "        chosen = self.dropout(chosen)\n",
    "        \n",
    "        note_ax_output = self.time_ax(notes)\n",
    "        output = self.note_ax(note_ax_output, chosen, to_train)\n",
    "        \n",
    "        return output   \n",
    "    \n",
    "def train(generator, X_tr, X_te, y_tr, y_te, batchsize=3, n_epochs = 3):\n",
    "    \n",
    "    optimizer = optim.Adam(generator.parameters())\n",
    "    n_train_batches = math.ceil(len(X_tr)/batchsize)\n",
    "    n_validation_batches = math.ceil(len(X_te)/batchsize)\n",
    "\n",
    "    epoch_history = {'train_loss':[], 'val_loss':[]}\n",
    "\n",
    "    for epoch in range(n_epochs):\n",
    "\n",
    "        start_time = time.time()\n",
    "\n",
    "        train_loss = 0\n",
    "        generator.train(True)    \n",
    "        for X, y in tqdm(iterate_minibatches(X_tr, y_tr, batchsize)):\n",
    "\n",
    "            optimizer.zero_grad()\n",
    "\n",
    "            pred = generator(X, y)\n",
    "            loss = compute_loss(pred, y)        \n",
    "            loss.backward()\n",
    "\n",
    "            optimizer.step()\n",
    "\n",
    "            train_loss += loss.cpu().data.numpy()[0]\n",
    "\n",
    "        train_loss /= n_train_batches\n",
    "        epoch_history['train_loss'].append(train_loss)\n",
    "    #     print('train_loss', train_loss)\n",
    "\n",
    "        generator.train(False)\n",
    "        val_loss = 0\n",
    "        for X, y in tqdm(iterate_minibatches(X_te, y_te, batchsize)):\n",
    "            pred = generator(X, y)\n",
    "            loss = compute_loss(pred, y) \n",
    "\n",
    "            val_loss += loss.cpu().data.numpy()[0]\n",
    "\n",
    "        val_loss /= n_validation_batches\n",
    "        epoch_history['val_loss'].append(val_loss)\n",
    "    #     print('val_loss', val_loss)\n",
    "\n",
    "        # Visualize\n",
    "        display.clear_output(wait=True)\n",
    "        plt.figure(figsize=(16, 6))\n",
    "        # Then we print the results for this epoch:\n",
    "        print(\"Epoch {} of {} took {:.3f}s\".format(\n",
    "            epoch + 1, n_epochs, time.time() - start_time)) \n",
    "        print('current train loss: {}'.format(epoch_history['train_loss'][-1]))\n",
    "        print('current val loss: {}'.format(epoch_history['val_loss'][-1]))\n",
    "\n",
    "        plt.title(\"losses\")\n",
    "        plt.xlabel(\"#epoch\")\n",
    "        plt.ylabel(\"loss\")\n",
    "        plt.plot(epoch_history['train_loss'], 'b', label = 'train_loss')\n",
    "        plt.plot(epoch_history['val_loss'], 'g', label = 'val_loss')\n",
    "        plt.legend()\n",
    "        plt.show()\n",
    "\n",
    "    print(\"Finished!\")\n",
    "    \n",
    "    return generator, epoch_history"
   ]
  },
  {
   "cell_type": "code",
   "execution_count": 100,
   "metadata": {},
   "outputs": [
    {
     "data": {
      "text/plain": [
       "Generator(\n",
       "  (dropout): Dropout(p=0.5)\n",
       "  (time_ax): time_axis(\n",
       "    (attention_layer): MultiHeadedAttention(\n",
       "      (linears): ModuleList(\n",
       "        (0): Linear(in_features=78, out_features=78, bias=True)\n",
       "        (1): Linear(in_features=78, out_features=78, bias=True)\n",
       "        (2): Linear(in_features=78, out_features=78, bias=True)\n",
       "      )\n",
       "      (linear): Linear(in_features=78, out_features=78, bias=True)\n",
       "      (dropout): Dropout(p=0.1)\n",
       "    )\n",
       "    (padding): ZeroPad2d((11, 12, 0, 0))\n",
       "    (conv): Conv1d(3, 64, kernel_size=(24,), stride=(1,))\n",
       "    (time_lstm): LSTM(78, 256, num_layers=2, batch_first=True, dropout=0.1)\n",
       "    (dropout): Dropout(p=0.5, inplace)\n",
       "  )\n",
       "  (note_ax): note_axis(\n",
       "    (note_lstm): LSTM(259, 128, num_layers=2, batch_first=True, dropout=0.1)\n",
       "    (dropout): Dropout(p=0.2, inplace)\n",
       "    (logits): Linear(in_features=128, out_features=3, bias=True)\n",
       "  )\n",
       ")"
      ]
     },
     "execution_count": 100,
     "metadata": {},
     "output_type": "execute_result"
    }
   ],
   "source": [
    "generator = Generator()\n",
    "generator.cuda()"
   ]
  },
  {
   "cell_type": "code",
   "execution_count": 101,
   "metadata": {},
   "outputs": [],
   "source": [
    "X_tr = train_data[0][:-1]\n",
    "X_te = train_data[0][-1:]\n",
    "y_tr = train_labels[0][:-1]\n",
    "y_te = train_labels[0][-1:]"
   ]
  },
  {
   "cell_type": "code",
   "execution_count": 102,
   "metadata": {},
   "outputs": [
    {
     "data": {
      "text/plain": [
       "((80, 128, 48, 3), (1, 128, 48, 3))"
      ]
     },
     "execution_count": 102,
     "metadata": {},
     "output_type": "execute_result"
    }
   ],
   "source": [
    "X_tr.shape, X_te.shape"
   ]
  },
  {
   "cell_type": "code",
   "execution_count": 103,
   "metadata": {},
   "outputs": [
    {
     "name": "stdout",
     "output_type": "stream",
     "text": [
      "Epoch 50 of 50 took 3.898s\n",
      "current train loss: 0.012933876279566903\n",
      "current val loss: 0.01187816821038723\n"
     ]
    },
    {
     "data": {
      "image/png": "[encoded data removed]",
      "text/plain": [
       "<Figure size 1152x432 with 1 Axes>"
      ]
     },
     "metadata": {},
     "output_type": "display_data"
    },
    {
     "name": "stdout",
     "output_type": "stream",
     "text": [
      "Finished!\n"
     ]
    }
   ],
   "source": [
    "generator, epoch_history = train(generator, X_tr, X_te, y_tr, y_te, \n",
    "                                 batchsize=1, n_epochs = 50)"
   ]
  },
  {
   "cell_type": "code",
   "execution_count": 32,
   "metadata": {},
   "outputs": [
    {
     "name": "stdout",
     "output_type": "stream",
     "text": [
      "Epoch 50 of 50 took 3.620s\n",
      "current train loss: 0.013189128920566872\n",
      "current val loss: 0.012273742817342281\n"
     ]
    },
    {
     "data": {
      "image/png": "[encoded data removed]",
      "text/plain": [
       "<Figure size 1152x432 with 1 Axes>"
      ]
     },
     "metadata": {},
     "output_type": "display_data"
    },
    {
     "name": "stdout",
     "output_type": "stream",
     "text": [
      "Finished!\n"
     ]
    }
   ],
   "source": [
    "generator, epoch_history = train(generator, X_tr, X_te, y_tr, y_te, \n",
    "                                 batchsize=1, n_epochs = 50)"
   ]
  },
  {
   "cell_type": "code",
   "execution_count": 33,
   "metadata": {},
   "outputs": [],
   "source": [
    "# generator.eval"
   ]
  },
  {
   "cell_type": "markdown",
   "metadata": {},
   "source": [
    "## Save/load the model"
   ]
  },
  {
   "cell_type": "code",
   "execution_count": 34,
   "metadata": {},
   "outputs": [],
   "source": [
    "# from model import Generator, iterate_minibatches, compute_loss, train\n",
    "# torch.save(generator.state_dict(), os.path.join(OUT_DIR, 'model_canonical'))\n",
    "# the_model = Generator()\n",
    "# the_model.load_state_dict(torch.load(os.path.join(OUT_DIR, 'model_canonical')))"
   ]
  },
  {
   "cell_type": "code",
   "execution_count": 35,
   "metadata": {},
   "outputs": [],
   "source": [
    "# print(the_model)\n",
    "# for i in list(the_model.note_ax.note_lstm.parameters()):\n",
    "#     print(i.shape)"
   ]
  },
  {
   "cell_type": "code",
   "execution_count": 36,
   "metadata": {},
   "outputs": [],
   "source": [
    "# dummy_note = Variable(torch.Tensor(train_data[0]))\n",
    "# chosen = Variable(torch.Tensor(train_data[1]))\n",
    "\n",
    "# # output = generator.forward(dummy_note, chosen)\n",
    "# output = the_model.forward(dummy_note, chosen)\n",
    "\n",
    "# print('dummy_time_features :', output.shape)\n",
    "# output[0][0][3], output2[0][0][3]"
   ]
  },
  {
   "cell_type": "markdown",
   "metadata": {},
   "source": [
    "# Canonical"
   ]
  },
  {
   "cell_type": "code",
   "execution_count": 104,
   "metadata": {},
   "outputs": [
    {
     "name": "stderr",
     "output_type": "stream",
     "text": [
      "\r",
      "  0%|          | 0/128 [00:00<?, ?it/s]"
     ]
    },
    {
     "name": "stdout",
     "output_type": "stream",
     "text": [
      "Generating with no styles:\n"
     ]
    },
    {
     "name": "stderr",
     "output_type": "stream",
     "text": [
      "100%|██████████| 128/128 [00:18<00:00,  6.92it/s]"
     ]
    },
    {
     "name": "stdout",
     "output_type": "stream",
     "text": [
      "Writing file out/samples/output/canonical_test_0.mid\n"
     ]
    },
    {
     "name": "stderr",
     "output_type": "stream",
     "text": [
      "\n"
     ]
    }
   ],
   "source": [
    "generator.cuda()\n",
    "write_file('output/canonical_test', generate(generator, 8))"
   ]
  },
  {
   "cell_type": "code",
   "execution_count": 93,
   "metadata": {},
   "outputs": [],
   "source": [
    "# midi_file = 'out/samples/output/canonical_test_0.mid'\n",
    "# play_music(midi_file)"
   ]
  },
  {
   "cell_type": "code",
   "execution_count": null,
   "metadata": {},
   "outputs": [],
   "source": []
  }
 ],
 "metadata": {
  "kernelspec": {
   "display_name": "Python 3",
   "language": "python",
   "name": "python3"
  },
  "language_info": {
   "codemirror_mode": {
    "name": "ipython",
    "version": 3
   },
   "file_extension": ".py",
   "mimetype": "text/x-python",
   "name": "python",
   "nbconvert_exporter": "python",
   "pygments_lexer": "ipython3",
   "version": "3.6.4"
  }
 },
 "nbformat": 4,
 "nbformat_minor": 2
}
