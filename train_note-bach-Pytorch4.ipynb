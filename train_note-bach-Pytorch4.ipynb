{
 "cells": [
  {
   "cell_type": "code",
   "execution_count": 1,
   "metadata": {},
   "outputs": [
    {
     "name": "stderr",
     "output_type": "stream",
     "text": [
      "/opt/miniconda/lib/python3.6/site-packages/h5py/__init__.py:36: FutureWarning: Conversion of the second argument of issubdtype from `float` to `np.floating` is deprecated. In future, it will be treated as `np.float64 == np.dtype(float).type`.\n",
      "  from ._conv import register_converters as _register_converters\n"
     ]
    }
   ],
   "source": [
    "import argparse\n",
    "import midi\n",
    "import os\n",
    "\n",
    "from constants import *\n",
    "from dataset import load_all\n",
    "from generate import write_file, generate\n",
    "from play_music_util import play_music\n",
    "\n",
    "import pygame\n",
    "import base64\n",
    "\n",
    "# from playsound import playsound\n",
    "import numpy as np\n",
    "import copy "
   ]
  },
  {
   "cell_type": "code",
   "execution_count": 2,
   "metadata": {},
   "outputs": [],
   "source": [
    "import math\n",
    "import time\n",
    "from IPython import display\n",
    "import matplotlib.pyplot as plt\n",
    "from tqdm import tqdm\n",
    "from torch import optim\n",
    "%matplotlib inline\n",
    "\n",
    "import torch, torch.nn as nn\n",
    "import torch.nn.functional as F\n",
    "from torch.autograd import Variable\n",
    "import torch"
   ]
  },
  {
   "cell_type": "code",
   "execution_count": 3,
   "metadata": {},
   "outputs": [
    {
     "data": {
      "text/plain": [
       "['data/Bach1']"
      ]
     },
     "execution_count": 3,
     "metadata": {},
     "output_type": "execute_result"
    }
   ],
   "source": [
    "styles = [['data/Bach1']]\n",
    "styles[0]"
   ]
  },
  {
   "cell_type": "code",
   "execution_count": 4,
   "metadata": {},
   "outputs": [
    {
     "name": "stdout",
     "output_type": "stream",
     "text": [
      "Loading data\n"
     ]
    }
   ],
   "source": [
    "print('Loading data')\n",
    "train_data, train_labels = load_all(styles, BATCH_SIZE, SEQ_LEN)"
   ]
  },
  {
   "cell_type": "code",
   "execution_count": 5,
   "metadata": {},
   "outputs": [
    {
     "data": {
      "text/plain": [
       "(81, 128, 48, 3)"
      ]
     },
     "execution_count": 5,
     "metadata": {},
     "output_type": "execute_result"
    }
   ],
   "source": [
    "train_data[0].shape"
   ]
  },
  {
   "cell_type": "code",
   "execution_count": 6,
   "metadata": {},
   "outputs": [],
   "source": [
    "from model import Generator, iterate_minibatches, compute_loss, train, time_axis"
   ]
  },
  {
   "cell_type": "code",
   "execution_count": 7,
   "metadata": {},
   "outputs": [
    {
     "data": {
      "text/plain": [
       "Generator(\n",
       "  (dropout): Dropout(p=0.3)\n",
       "  (time_ax): time_axis(\n",
       "    (attention_layer): MultiHeadedAttention(\n",
       "      (linears): ModuleList(\n",
       "        (0): Linear(in_features=78, out_features=78, bias=False)\n",
       "        (1): Linear(in_features=78, out_features=78, bias=False)\n",
       "        (2): Linear(in_features=78, out_features=78, bias=False)\n",
       "      )\n",
       "      (linear): Linear(in_features=78, out_features=78, bias=False)\n",
       "      (dropout): Dropout(p=0.1)\n",
       "    )\n",
       "    (FF): PositionwiseFeedForward(\n",
       "      (w_1): Linear(in_features=78, out_features=312, bias=True)\n",
       "      (w_2): Linear(in_features=312, out_features=78, bias=True)\n",
       "      (dropout): Dropout(p=0.1)\n",
       "    )\n",
       "    (time_lstm): LSTM(78, 256, num_layers=2, batch_first=True, dropout=0.1)\n",
       "    (dropout): Dropout(p=0.5, inplace)\n",
       "    (generate_features): feature_generation(\n",
       "      (padding): ZeroPad2d(padding=(11, 12, 0, 0), value=0)\n",
       "      (conv): Conv1d(3, 64, kernel_size=(24,), stride=(1,))\n",
       "    )\n",
       "  )\n",
       "  (note_ax): note_axis(\n",
       "    (note_lstm): LSTM(259, 128, num_layers=2, batch_first=True, dropout=0.1)\n",
       "    (dropout): Dropout(p=0.2, inplace)\n",
       "    (logits): Linear(in_features=128, out_features=3, bias=True)\n",
       "  )\n",
       ")"
      ]
     },
     "execution_count": 7,
     "metadata": {},
     "output_type": "execute_result"
    }
   ],
   "source": [
    "generator = Generator()\n",
    "generator.cuda()"
   ]
  },
  {
   "cell_type": "code",
   "execution_count": 8,
   "metadata": {},
   "outputs": [
    {
     "name": "stdout",
     "output_type": "stream",
     "text": [
      "1\n",
      "False\n"
     ]
    }
   ],
   "source": [
    "print(generator.note_ax.temperature)\n",
    "print(generator.note_ax.apply_T)"
   ]
  },
  {
   "cell_type": "code",
   "execution_count": 9,
   "metadata": {},
   "outputs": [],
   "source": [
    "X_tr = train_data[0][:-1]\n",
    "X_te = train_data[0][-1:]\n",
    "y_tr = train_labels[0][:-1]\n",
    "y_te = train_labels[0][-1:]"
   ]
  },
  {
   "cell_type": "code",
   "execution_count": 10,
   "metadata": {},
   "outputs": [
    {
     "data": {
      "text/plain": [
       "((80, 128, 48, 3), (1, 128, 48, 3))"
      ]
     },
     "execution_count": 10,
     "metadata": {},
     "output_type": "execute_result"
    }
   ],
   "source": [
    "X_tr.shape, X_te.shape"
   ]
  },
  {
   "cell_type": "code",
   "execution_count": null,
   "metadata": {},
   "outputs": [
    {
     "name": "stdout",
     "output_type": "stream",
     "text": [
      "Epoch 18 of 50 took 2.987s\n",
      "current train loss: 0.051090751877563886\n",
      "current val loss: 0.04026041924953461\n"
     ]
    },
    {
     "data": {
      "image/png": "[encoded data removed]",
      "text/plain": [
       "<Figure size 1152x432 with 1 Axes>"
      ]
     },
     "metadata": {},
     "output_type": "display_data"
    },
    {
     "name": "stderr",
     "output_type": "stream",
     "text": [
      "18it [00:00, 23.44it/s]"
     ]
    }
   ],
   "source": [
    "generator, epoch_history = train(generator, X_tr, X_te, y_tr, y_te, \n",
    "                                 batchsize=1, n_epochs = 50)"
   ]
  },
  {
   "cell_type": "code",
   "execution_count": null,
   "metadata": {},
   "outputs": [],
   "source": [
    "generator, epoch_history = train(generator, X_tr, X_te, y_tr, y_te, \n",
    "                                 batchsize=1, n_epochs = 50)"
   ]
  },
  {
   "cell_type": "code",
   "execution_count": 23,
   "metadata": {},
   "outputs": [],
   "source": [
    "# generator, epoch_history = train(generator, X_tr, X_te, y_tr, y_te, \n",
    "#                                  batchsize=1, n_epochs = 50)"
   ]
  },
  {
   "cell_type": "code",
   "execution_count": 24,
   "metadata": {},
   "outputs": [],
   "source": [
    "# generator.eval"
   ]
  },
  {
   "cell_type": "markdown",
   "metadata": {},
   "source": [
    "## Save/load the model"
   ]
  },
  {
   "cell_type": "code",
   "execution_count": 37,
   "metadata": {},
   "outputs": [],
   "source": [
    "# from model import Generator, iterate_minibatches, compute_loss, train\n",
    "# torch.save(generator.state_dict(), os.path.join(OUT_DIR, 'model_test'))\n",
    "# torch.save(generator.state_dict(), os.path.join(OUT_DIR, 'model_canonical_attention'))\n",
    "# torch.save(generator.state_dict(), os.path.join(OUT_DIR, 'model_canonical_attention_without_mul'))\n",
    "# the_model = Generator()\n",
    "# generator = Generator()\n",
    "# generator.load_state_dict(torch.load(os.path.join(OUT_DIR, 'model_canonical_attention')))\n",
    "# generator.load_state_dict(torch.load(os.path.join(OUT_DIR, 'generator_rl')))"
   ]
  },
  {
   "cell_type": "code",
   "execution_count": 36,
   "metadata": {},
   "outputs": [
    {
     "data": {
      "text/plain": [
       "1"
      ]
     },
     "execution_count": 36,
     "metadata": {},
     "output_type": "execute_result"
    }
   ],
   "source": [
    "generator.note_ax.temperature"
   ]
  },
  {
   "cell_type": "code",
   "execution_count": 27,
   "metadata": {},
   "outputs": [],
   "source": [
    "# print(the_model)\n",
    "# for i in list(the_model.note_ax.note_lstm.parameters()):\n",
    "#     print(i.shape)"
   ]
  },
  {
   "cell_type": "code",
   "execution_count": null,
   "metadata": {},
   "outputs": [],
   "source": []
  },
  {
   "cell_type": "markdown",
   "metadata": {},
   "source": [
    "# Canonical"
   ]
  },
  {
   "cell_type": "code",
   "execution_count": 34,
   "metadata": {},
   "outputs": [
    {
     "name": "stderr",
     "output_type": "stream",
     "text": [
      "\n",
      "  0%|          | 0/256 [00:00<?, ?it/s]\u001b[A\n",
      "  1%|          | 2/256 [00:00<00:16, 15.23it/s]\u001b[A"
     ]
    },
    {
     "name": "stdout",
     "output_type": "stream",
     "text": [
      "Generating with no styles:\n"
     ]
    },
    {
     "name": "stderr",
     "output_type": "stream",
     "text": [
      "\n",
      "  2%|▏         | 5/256 [00:00<00:13, 19.21it/s]\u001b[A\n",
      "  3%|▎         | 8/256 [00:00<00:11, 21.13it/s]\u001b[A\n",
      "  4%|▍         | 11/256 [00:00<00:11, 22.17it/s]\u001b[A\n",
      "  5%|▌         | 14/256 [00:00<00:10, 22.72it/s]\u001b[A\n",
      "  7%|▋         | 17/256 [00:00<00:10, 23.15it/s]\u001b[A\n",
      "  8%|▊         | 20/256 [00:00<00:10, 23.47it/s]\u001b[A\n",
      "  9%|▉         | 23/256 [00:00<00:09, 23.75it/s]\u001b[A\n",
      " 10%|█         | 26/256 [00:01<00:09, 24.12it/s]\u001b[A\n",
      " 11%|█▏        | 29/256 [00:01<00:09, 24.50it/s]\u001b[A\n",
      " 12%|█▎        | 32/256 [00:01<00:09, 24.76it/s]\u001b[A\n",
      " 14%|█▎        | 35/256 [00:01<00:08, 25.00it/s]\u001b[A\n",
      " 15%|█▍        | 38/256 [00:01<00:08, 25.20it/s]\u001b[A\n",
      " 16%|█▌        | 41/256 [00:01<00:08, 25.41it/s]\u001b[A\n",
      " 17%|█▋        | 44/256 [00:01<00:08, 25.57it/s]\u001b[A\n",
      " 18%|█▊        | 47/256 [00:01<00:08, 25.78it/s]\u001b[A\n",
      " 20%|█▉        | 50/256 [00:01<00:07, 25.90it/s]\u001b[A\n",
      " 21%|██        | 53/256 [00:02<00:07, 26.05it/s]\u001b[A\n",
      " 22%|██▏       | 56/256 [00:02<00:07, 26.17it/s]\u001b[A\n",
      " 23%|██▎       | 59/256 [00:02<00:07, 26.31it/s]\u001b[A\n",
      " 24%|██▍       | 62/256 [00:02<00:07, 26.42it/s]\u001b[A\n",
      " 25%|██▌       | 65/256 [00:02<00:07, 26.56it/s]\u001b[A\n",
      " 27%|██▋       | 68/256 [00:02<00:07, 26.68it/s]\u001b[A\n",
      " 28%|██▊       | 71/256 [00:02<00:06, 26.80it/s]\u001b[A\n",
      " 29%|██▉       | 74/256 [00:02<00:06, 26.90it/s]\u001b[A\n",
      " 30%|███       | 77/256 [00:02<00:06, 26.97it/s]\u001b[A\n",
      " 31%|███▏      | 80/256 [00:02<00:06, 27.02it/s]\u001b[A\n",
      " 32%|███▏      | 83/256 [00:03<00:06, 26.59it/s]\u001b[A\n",
      " 34%|███▎      | 86/256 [00:03<00:06, 26.59it/s]\u001b[A\n",
      " 35%|███▍      | 89/256 [00:03<00:06, 26.56it/s]\u001b[A\n",
      " 36%|███▌      | 92/256 [00:03<00:06, 26.55it/s]\u001b[A\n",
      " 37%|███▋      | 95/256 [00:03<00:06, 26.53it/s]\u001b[A\n",
      " 38%|███▊      | 98/256 [00:03<00:06, 26.10it/s]\u001b[A\n",
      " 39%|███▉      | 101/256 [00:03<00:05, 26.10it/s]\u001b[A\n",
      " 41%|████      | 104/256 [00:03<00:05, 26.10it/s]\u001b[A\n",
      " 42%|████▏     | 107/256 [00:04<00:05, 26.09it/s]\u001b[A\n",
      " 43%|████▎     | 110/256 [00:04<00:05, 26.06it/s]\u001b[A\n",
      " 44%|████▍     | 113/256 [00:04<00:05, 25.87it/s]\u001b[A\n",
      " 45%|████▌     | 116/256 [00:04<00:05, 25.80it/s]\u001b[A\n",
      " 46%|████▋     | 119/256 [00:04<00:05, 25.55it/s]\u001b[A\n",
      " 48%|████▊     | 122/256 [00:04<00:05, 25.24it/s]\u001b[A\n",
      " 49%|████▉     | 125/256 [00:04<00:05, 25.24it/s]\u001b[A\n",
      " 50%|█████     | 128/256 [00:05<00:05, 25.27it/s]\u001b[A\n",
      " 51%|█████     | 131/256 [00:05<00:04, 25.29it/s]\u001b[A\n",
      " 52%|█████▏    | 134/256 [00:05<00:04, 25.31it/s]\u001b[A\n",
      " 54%|█████▎    | 137/256 [00:05<00:04, 25.33it/s]\u001b[A\n",
      " 55%|█████▍    | 140/256 [00:05<00:04, 25.36it/s]\u001b[A\n",
      " 56%|█████▌    | 143/256 [00:05<00:04, 25.39it/s]\u001b[A\n",
      " 57%|█████▋    | 146/256 [00:05<00:04, 25.46it/s]\u001b[A\n",
      " 59%|█████▊    | 150/256 [00:05<00:04, 25.58it/s]\u001b[A\n",
      " 60%|██████    | 154/256 [00:05<00:03, 25.68it/s]\u001b[A\n",
      " 61%|██████▏   | 157/256 [00:06<00:03, 25.75it/s]\u001b[A\n",
      " 62%|██████▎   | 160/256 [00:06<00:03, 25.81it/s]\u001b[A\n",
      " 64%|██████▎   | 163/256 [00:06<00:03, 25.87it/s]\u001b[A\n",
      " 65%|██████▍   | 166/256 [00:06<00:03, 25.93it/s]\u001b[A\n",
      " 66%|██████▋   | 170/256 [00:06<00:03, 26.02it/s]\u001b[A\n",
      " 68%|██████▊   | 173/256 [00:06<00:03, 25.81it/s]\u001b[A\n",
      " 69%|██████▉   | 176/256 [00:06<00:03, 25.81it/s]\u001b[A\n",
      " 70%|██████▉   | 179/256 [00:06<00:02, 25.82it/s]\u001b[A\n",
      " 71%|███████   | 182/256 [00:07<00:02, 25.84it/s]\u001b[A\n",
      " 72%|███████▏  | 185/256 [00:07<00:02, 25.87it/s]\u001b[A\n",
      " 73%|███████▎  | 188/256 [00:07<00:02, 25.90it/s]\u001b[A\n",
      " 75%|███████▍  | 191/256 [00:07<00:02, 25.92it/s]\u001b[A\n",
      " 76%|███████▌  | 194/256 [00:07<00:02, 25.95it/s]\u001b[A\n",
      " 77%|███████▋  | 197/256 [00:07<00:02, 26.00it/s]\u001b[A\n",
      " 79%|███████▊  | 201/256 [00:07<00:02, 26.07it/s]\u001b[A\n",
      " 80%|███████▉  | 204/256 [00:07<00:01, 26.10it/s]\u001b[A\n",
      " 81%|████████  | 207/256 [00:07<00:01, 26.14it/s]\u001b[A\n",
      " 82%|████████▏ | 210/256 [00:08<00:01, 26.17it/s]\u001b[A\n",
      " 83%|████████▎ | 213/256 [00:08<00:01, 26.21it/s]\u001b[A\n",
      " 84%|████████▍ | 216/256 [00:08<00:01, 26.24it/s]\u001b[A\n",
      " 86%|████████▌ | 219/256 [00:08<00:01, 26.28it/s]\u001b[A\n",
      " 87%|████████▋ | 222/256 [00:08<00:01, 26.31it/s]\u001b[A\n",
      " 88%|████████▊ | 225/256 [00:08<00:01, 26.36it/s]\u001b[A\n",
      " 89%|████████▉ | 228/256 [00:08<00:01, 26.39it/s]\u001b[A\n",
      " 90%|█████████ | 231/256 [00:08<00:00, 26.40it/s]\u001b[A\n",
      " 91%|█████████▏| 234/256 [00:08<00:00, 26.42it/s]\u001b[A\n",
      " 93%|█████████▎| 237/256 [00:08<00:00, 26.44it/s]\u001b[A\n",
      " 94%|█████████▍| 240/256 [00:09<00:00, 26.48it/s]\u001b[A\n",
      " 95%|█████████▍| 243/256 [00:09<00:00, 26.50it/s]\u001b[A\n",
      " 96%|█████████▌| 246/256 [00:09<00:00, 26.52it/s]\u001b[A\n",
      " 97%|█████████▋| 249/256 [00:09<00:00, 26.51it/s]\u001b[A\n",
      " 98%|█████████▊| 252/256 [00:09<00:00, 26.54it/s]\u001b[A\n",
      "100%|█████████▉| 255/256 [00:09<00:00, 26.56it/s]\u001b[A\n",
      "100%|██████████| 256/256 [00:09<00:00, 26.56it/s]\u001b[A"
     ]
    },
    {
     "name": "stdout",
     "output_type": "stream",
     "text": [
      "Writing file out/samples/output/canonical_test_0.mid\n"
     ]
    }
   ],
   "source": [
    "generator.cuda()\n",
    "write_file('output/canonical_test', generate(generator, 16, to_train=False))"
   ]
  },
  {
   "cell_type": "code",
   "execution_count": 20,
   "metadata": {},
   "outputs": [],
   "source": [
    "# midi_file = 'out/samples/output/canonical_test_0.mid'\n",
    "# play_music(midi_file)"
   ]
  },
  {
   "cell_type": "code",
   "execution_count": null,
   "metadata": {},
   "outputs": [],
   "source": []
  }
 ],
 "metadata": {
  "kernelspec": {
   "display_name": "Python 3",
   "language": "python",
   "name": "python3"
  },
  "language_info": {
   "codemirror_mode": {
    "name": "ipython",
    "version": 3
   },
   "file_extension": ".py",
   "mimetype": "text/x-python",
   "name": "python",
   "nbconvert_exporter": "python",
   "pygments_lexer": "ipython3",
   "version": "3.6.4"
  }
 },
 "nbformat": 4,
 "nbformat_minor": 2
}
