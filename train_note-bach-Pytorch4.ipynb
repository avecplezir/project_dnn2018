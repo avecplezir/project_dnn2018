{
 "cells": [
  {
   "cell_type": "code",
   "execution_count": 1,
   "metadata": {},
   "outputs": [
    {
     "name": "stderr",
     "output_type": "stream",
     "text": [
      "/opt/miniconda/lib/python3.6/site-packages/h5py/__init__.py:36: FutureWarning: Conversion of the second argument of issubdtype from `float` to `np.floating` is deprecated. In future, it will be treated as `np.float64 == np.dtype(float).type`.\n",
      "  from ._conv import register_converters as _register_converters\n"
     ]
    }
   ],
   "source": [
    "import argparse\n",
    "import midi\n",
    "import os\n",
    "\n",
    "from constants import *\n",
    "from dataset import load_all\n",
    "from generate import write_file, generate\n",
    "from play_music_util import play_music\n",
    "\n",
    "import pygame\n",
    "import base64\n",
    "\n",
    "# from playsound import playsound\n",
    "import numpy as np\n",
    "import copy \n",
    "\n",
    "import math\n",
    "import time\n",
    "from IPython import display\n",
    "import matplotlib.pyplot as plt\n",
    "from tqdm import tqdm\n",
    "from torch import optim\n",
    "%matplotlib inline\n",
    "\n",
    "import torch, torch.nn as nn\n",
    "import torch.nn.functional as F\n",
    "from torch.autograd import Variable\n",
    "import torch"
   ]
  },
  {
   "cell_type": "code",
   "execution_count": 4,
   "metadata": {},
   "outputs": [],
   "source": [
    "from collections import Counter\n",
    "g_tokens = [1,3,5,3,]\n",
    "a_tokens = [1,3,5,]"
   ]
  },
  {
   "cell_type": "code",
   "execution_count": 5,
   "metadata": {},
   "outputs": [
    {
     "data": {
      "text/plain": [
       "Counter({1: 1, 3: 1, 5: 1})"
      ]
     },
     "execution_count": 5,
     "metadata": {},
     "output_type": "execute_result"
    }
   ],
   "source": [
    "Counter(g_tokens) & Counter(a_tokens)"
   ]
  },
  {
   "cell_type": "code",
   "execution_count": 2,
   "metadata": {},
   "outputs": [],
   "source": [
    "from train_fn import train\n",
    "from model import Generator, time_axis "
   ]
  },
  {
   "cell_type": "code",
   "execution_count": 3,
   "metadata": {},
   "outputs": [
    {
     "name": "stdout",
     "output_type": "stream",
     "text": [
      "['/data/i.anokhin/music_out/data/Bach']\n",
      "Loading data\n",
      "(5727, 128, 48, 3) (5727, 128, 48, 3)\n"
     ]
    }
   ],
   "source": [
    "styles = [['/data/i.anokhin/music_out/data/Bach']]\n",
    "print(styles[0])\n",
    "print('Loading data')\n",
    "X, y = load_all(styles, BATCH_SIZE, SEQ_LEN)\n",
    "print(X.shape, y.shape )\n",
    "\n",
    "X_tr = X[:-1]\n",
    "X_te = X[-1:]\n",
    "y_tr = y[:-1]\n",
    "y_te = y[-1:]"
   ]
  },
  {
   "cell_type": "code",
   "execution_count": 4,
   "metadata": {},
   "outputs": [
    {
     "data": {
      "text/plain": [
       "Generator(\n",
       "  (time_ax): time_axis(\n",
       "    (attention_note_layer): MultiHeadAttention(\n",
       "      (attention): ScaledDotProductAttention(\n",
       "        (dropout): Dropout(p=0.1)\n",
       "      )\n",
       "      (proj): Linear(in_features=291, out_features=97, bias=True)\n",
       "      (dropout): Dropout(p=0.1)\n",
       "    )\n",
       "    (FF_note): PositionwiseFeedForward(\n",
       "      (w_1): Linear(in_features=97, out_features=388, bias=True)\n",
       "      (w_2): Linear(in_features=388, out_features=97, bias=True)\n",
       "      (dropout): Dropout(p=0.1)\n",
       "    )\n",
       "    (attention_time_layer): MultiHeadAttention(\n",
       "      (attention): ScaledDotProductAttention(\n",
       "        (dropout): Dropout(p=0.1)\n",
       "      )\n",
       "      (proj): Linear(in_features=256, out_features=256, bias=True)\n",
       "      (dropout): Dropout(p=0.1)\n",
       "    )\n",
       "    (FF_time): PositionwiseFeedForward(\n",
       "      (w_1): Linear(in_features=256, out_features=1024, bias=True)\n",
       "      (w_2): Linear(in_features=1024, out_features=256, bias=True)\n",
       "      (dropout): Dropout(p=0.1)\n",
       "    )\n",
       "    (time_lstm): LSTM(113, 256, num_layers=2, batch_first=True, dropout=0.1)\n",
       "    (dropout): Dropout(p=0.2)\n",
       "    (generate_features): feature_generation(\n",
       "      (padding): ZeroPad2d(padding=(11, 12, 0, 0), value=0)\n",
       "      (conv): Conv1d(3, 64, kernel_size=(24,), stride=(1,))\n",
       "      (pos_embedding): Embedding(48, 20)\n",
       "      (pitch_class_embedding): Embedding(12, 12)\n",
       "    )\n",
       "    (beat_embedding): Embedding(16, 16)\n",
       "  )\n",
       "  (note_ax): note_axis(\n",
       "    (note_lstm): LSTM(259, 128, num_layers=2, batch_first=True, dropout=0.1)\n",
       "    (dropout): Dropout(p=0.2)\n",
       "    (logits): Linear(in_features=158, out_features=3, bias=True)\n",
       "  )\n",
       "  (overall_information): track_feature(\n",
       "    (overall_information): Conv2d(3, 20, kernel_size=(32, 48), stride=(16, 16))\n",
       "    (l): Linear(in_features=140, out_features=30, bias=True)\n",
       "  )\n",
       ")"
      ]
     },
     "execution_count": 4,
     "metadata": {},
     "output_type": "execute_result"
    }
   ],
   "source": [
    "generator = Generator()\n",
    "generator.cuda()"
   ]
  },
  {
   "cell_type": "code",
   "execution_count": null,
   "metadata": {},
   "outputs": [
    {
     "name": "stdout",
     "output_type": "stream",
     "text": [
      "Epoch 2 of 100 took 109.944s\n",
      "current train loss: 0.08277499143492077\n",
      "current val loss: 0.0620446652173996\n"
     ]
    },
    {
     "data": {
      "image/png": "[encoded data removed]",
      "text/plain": [
       "<Figure size 1152x432 with 1 Axes>"
      ]
     },
     "metadata": {},
     "output_type": "display_data"
    },
    {
     "name": "stderr",
     "output_type": "stream",
     "text": [
      "523it [01:20,  6.46it/s]"
     ]
    }
   ],
   "source": [
    "generator.note_ax.to_train = True\n",
    "generator.note_ax.apply_T = False\n",
    "generator, epoch, epoch_history = train(generator, X_tr, X_te, y_tr, y_te, \n",
    "                                 batchsize=8, n_epochs = 100, verbose=True)"
   ]
  },
  {
   "cell_type": "code",
   "execution_count": 10,
   "metadata": {},
   "outputs": [
    {
     "data": {
      "image/png": "[encoded data removed]",
      "text/plain": [
       "<Figure size 1152x432 with 1 Axes>"
      ]
     },
     "metadata": {},
     "output_type": "display_data"
    }
   ],
   "source": [
    "# Visualize\n",
    "display.clear_output(wait=True)\n",
    "plt.figure(figsize=(16, 6))\n",
    "\n",
    "plt.title(\"losses\")\n",
    "plt.xlabel(\"#epoch\")\n",
    "plt.ylabel(\"loss\")\n",
    "plt.plot(epoch_history['train_loss'], 'b', label = 'train_loss')\n",
    "plt.plot(epoch_history['val_loss'], 'g', label = 'val_loss')\n",
    "plt.legend()\n",
    "plt.show()"
   ]
  },
  {
   "cell_type": "code",
   "execution_count": 2,
   "metadata": {},
   "outputs": [
    {
     "ename": "NameError",
     "evalue": "name 'epoch_history' is not defined",
     "output_type": "error",
     "traceback": [
      "\u001b[0;31m\u001b[0m",
      "\u001b[0;31mNameError\u001b[0mTraceback (most recent call last)",
      "\u001b[0;32m<ipython-input-2-9ac749b9c5b2>\u001b[0m in \u001b[0;36m<module>\u001b[0;34m()\u001b[0m\n\u001b[0;32m----> 1\u001b[0;31m \u001b[0mepoch_history\u001b[0m\u001b[0;34m\u001b[0m\u001b[0m\n\u001b[0m",
      "\u001b[0;31mNameError\u001b[0m: name 'epoch_history' is not defined"
     ]
    }
   ],
   "source": [
    "epoch_history"
   ]
  },
  {
   "cell_type": "code",
   "execution_count": 3,
   "metadata": {},
   "outputs": [],
   "source": [
    "# generator = Generator()\n",
    "# generator.cuda()"
   ]
  },
  {
   "cell_type": "markdown",
   "metadata": {},
   "source": [
    "## Save/load the model"
   ]
  },
  {
   "cell_type": "code",
   "execution_count": 13,
   "metadata": {},
   "outputs": [],
   "source": [
    "# from model import Generator, iterate_minibatches, compute_loss, train\n",
    "torch.save(generator.state_dict(), os.path.join(OUT_DIR, 'generator'))\n",
    "# torch.save(generator.state_dict(), os.path.join(OUT_DIR, 'model_track_featured'))\n",
    "# torch.save(generator.state_dict(), os.path.join(OUT_DIR, 'model_canonical_attention'))\n",
    "# the_model = Generator()\n",
    "# generator = Generator()\n",
    "# generator.load_state_dict(torch.load(os.path.join(OUT_DIR, 'model_test3')))\n",
    "# generator.load_state_dict(torch.load(os.path.join(OUT_DIR, 'generator3')))\n",
    "# generator.load_state_dict(torch.load(os.path.join(OUT_DIR, 'model_track_featured')))\n"
   ]
  },
  {
   "cell_type": "code",
   "execution_count": 6,
   "metadata": {},
   "outputs": [],
   "source": [
    "# def generate_sample(generator,batch_size):\n",
    "#     sound = torch.zeros(batch_size,SEQ_LEN,OCTAVE*NUM_OCTAVES,3).cuda()\n",
    "#     print(sound.shape)\n",
    "#     generator.note_ax.to_train = False\n",
    "#     time_model, note_model, track_feature_model = generator.time_ax, generator.note_ax, generator.overall_information\n",
    "#     for t in range(SEQ_LEN):\n",
    "#         note_features = time_model(sound.data)\n",
    "#         note_features = note_features[:, -1:, :]\n",
    "# #         print('note_features', note_features.shape)\n",
    "#         track_features = track_feature_model(sound.data)      \n",
    "#         current_sound,prob = note_model(note_features, None, track_features)\n",
    "#     generator.note_ax.to_train = True\n",
    "#     return prob ,current_sound"
   ]
  },
  {
   "cell_type": "code",
   "execution_count": 7,
   "metadata": {},
   "outputs": [],
   "source": [
    "# generate_sample(generator, 2)"
   ]
  },
  {
   "cell_type": "code",
   "execution_count": 13,
   "metadata": {},
   "outputs": [
    {
     "data": {
      "text/plain": [
       "1"
      ]
     },
     "execution_count": 13,
     "metadata": {},
     "output_type": "execute_result"
    }
   ],
   "source": [
    "generator.note_ax.temperature"
   ]
  },
  {
   "cell_type": "code",
   "execution_count": 8,
   "metadata": {},
   "outputs": [],
   "source": [
    "# print(the_model)\n",
    "# for i in list(the_model.note_ax.note_lstm.parameters()):\n",
    "#     print(i.shape)"
   ]
  },
  {
   "cell_type": "code",
   "execution_count": 10,
   "metadata": {},
   "outputs": [],
   "source": []
  },
  {
   "cell_type": "markdown",
   "metadata": {},
   "source": [
    "# Canonical"
   ]
  },
  {
   "cell_type": "code",
   "execution_count": 8,
   "metadata": {},
   "outputs": [
    {
     "name": "stderr",
     "output_type": "stream",
     "text": [
      "  0%|          | 1/256 [00:00<00:44,  5.71it/s]"
     ]
    },
    {
     "name": "stdout",
     "output_type": "stream",
     "text": [
      "Generating with no styles:\n"
     ]
    },
    {
     "name": "stderr",
     "output_type": "stream",
     "text": [
      "100%|██████████| 256/256 [00:26<00:00,  9.58it/s]"
     ]
    },
    {
     "name": "stdout",
     "output_type": "stream",
     "text": [
      "Writing file out/samples/output/canonical_test_0.mid\n"
     ]
    },
    {
     "name": "stderr",
     "output_type": "stream",
     "text": [
      "\n"
     ]
    }
   ],
   "source": [
    "generator.cuda()\n",
    "generator.eval()\n",
    "# generator.note_ax.to_train=False\n",
    "# generator.note_ax.apply_T=False\n",
    "write_file('out/samples/output/canonical_test', generate(generator, 16, to_train=True))"
   ]
  },
  {
   "cell_type": "code",
   "execution_count": 12,
   "metadata": {},
   "outputs": [
    {
     "name": "stderr",
     "output_type": "stream",
     "text": [
      "  0%|          | 2/768 [00:00<01:00, 12.62it/s]"
     ]
    },
    {
     "name": "stdout",
     "output_type": "stream",
     "text": [
      "Generating with no styles:\n"
     ]
    },
    {
     "name": "stderr",
     "output_type": "stream",
     "text": [
      "100%|██████████| 768/768 [00:31<00:00, 24.57it/s]\n"
     ]
    },
    {
     "name": "stdout",
     "output_type": "stream",
     "text": [
      "Writing file out/samples/output/canonical_test1_0.mid\n"
     ]
    }
   ],
   "source": [
    "write_file('out/samples/output/canonical_test1', generate(generator, 48, to_train=False))"
   ]
  },
  {
   "cell_type": "code",
   "execution_count": null,
   "metadata": {},
   "outputs": [],
   "source": [
    "# midi_file = 'out/samples/output/canonical_test_0.mid'\n",
    "# play_music(midi_file)"
   ]
  },
  {
   "cell_type": "code",
   "execution_count": null,
   "metadata": {},
   "outputs": [],
   "source": []
  },
  {
   "cell_type": "code",
   "execution_count": null,
   "metadata": {},
   "outputs": [],
   "source": []
  }
 ],
 "metadata": {
  "kernelspec": {
   "display_name": "Python 3",
   "language": "python",
   "name": "python3"
  },
  "language_info": {
   "codemirror_mode": {
    "name": "ipython",
    "version": 3
   },
   "file_extension": ".py",
   "mimetype": "text/x-python",
   "name": "python",
   "nbconvert_exporter": "python",
   "pygments_lexer": "ipython3",
   "version": "3.6.4"
  }
 },
 "nbformat": 4,
 "nbformat_minor": 2
}
