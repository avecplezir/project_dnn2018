{
 "cells": [
  {
   "cell_type": "code",
   "execution_count": 1,
   "metadata": {},
   "outputs": [
    {
     "name": "stderr",
     "output_type": "stream",
     "text": [
      "/opt/miniconda/lib/python3.6/site-packages/h5py/__init__.py:36: FutureWarning: Conversion of the second argument of issubdtype from `float` to `np.floating` is deprecated. In future, it will be treated as `np.float64 == np.dtype(float).type`.\n",
      "  from ._conv import register_converters as _register_converters\n"
     ]
    }
   ],
   "source": [
    "import torch,torch.nn as nn\n",
    "import torch.nn.functional as F\n",
    "from torch.autograd import Variable\n",
    "import numpy as np\n",
    "from model import Generator, iterate_minibatches, compute_loss, train\n",
    "from IPython import display\n",
    "import matplotlib.pyplot as plt\n",
    "%matplotlib inline\n",
    "import time"
   ]
  },
  {
   "cell_type": "code",
   "execution_count": 2,
   "metadata": {},
   "outputs": [],
   "source": [
    "OCTAVE_NUM = 4\n",
    "NOTE_NUM = 12\n",
    "TIME_SCALE = 128\n",
    "\n",
    "\n",
    "class LSTM_discriminator(nn.Module):\n",
    "    def __init__(self,hidden_size = 1000,last_dim = 3):\n",
    "        super(self.__class__, self).__init__()\n",
    "        self.last_dim = last_dim\n",
    "        self.hidden_size = hidden_size\n",
    "        self.note_lstm = nn.LSTM(input_size = OCTAVE_NUM*last_dim,hidden_size = hidden_size)\n",
    "        self.time_lstm = nn.LSTM(input_size = hidden_size,hidden_size = hidden_size)\n",
    "        self.dense = nn.Linear(hidden_size,1)\n",
    "\n",
    "    def forward(self,data):\n",
    "        # data.size() =  (batch_size, TIME_SCALE, NOTE_NUM*OCTAVE_NUM, last_dim)\n",
    "        # octave_data.size() =  (batch_size, TIME_SCALE, NOTE_NUM,OCTAVE_NUM*last_dim)\n",
    "        batch_size,_,_,_ = data.size()\n",
    "        octave_data = data.view(batch_size,TIME_SCALE,NOTE_NUM,OCTAVE_NUM,self.last_dim)\\\n",
    "                          .view(batch_size,TIME_SCALE,NOTE_NUM,OCTAVE_NUM*self.last_dim)\n",
    "            \n",
    "        # note_lstm_input.size() = (NOTE_NUM, batch_size*TIME_SCALE,OCTAVE_NUM*last_dim)\n",
    "        note_lstm_input = octave_data.view(batch_size*TIME_SCALE,NOTE_NUM,OCTAVE_NUM*self.last_dim)\\\n",
    "                                     .transpose(0,1)\n",
    "        # note_lstm_output.size() = (NOTE_NUM,batch_size*TIME_SCALE,hidden_size)\n",
    "        note_lstm_output, _ = self.note_lstm(note_lstm_input)\n",
    "        # time_lstm_input.size() = (TIME_SCALE,batch_size,hidden_size)\n",
    "        time_lstm_input = note_lstm_output[-1].view(batch_size,TIME_SCALE,self.hidden_size)\\\n",
    "                                          .transpose(0,1)\\\n",
    "        # time_lstm_output.size() = (TIME_SCALE,batch_size,1000)\n",
    "        time_lstm_output, _  = self.time_lstm(time_lstm_input)\n",
    "        # dense_input.size() = (batch_size,1000)\n",
    "        dense_input = time_lstm_output[-1]\n",
    "        # dense_output.size() = (batch_size,1)\n",
    "        dense_output = self.dense(dense_input)\n",
    "        probs = F.sigmoid(dense_output)\n",
    "        return probs\n",
    "        \n",
    "        \n",
    "        "
   ]
  },
  {
   "cell_type": "code",
   "execution_count": 3,
   "metadata": {},
   "outputs": [],
   "source": [
    "class LSTM_baseline(nn.Module):\n",
    "    def __init__(self,hidden_size = 1000):\n",
    "        super(self.__class__, self).__init__()\n",
    "        self.hidden_size = hidden_size\n",
    "        self.note_lstm = nn.LSTM(input_size = OCTAVE_NUM*3,hidden_size = hidden_size)\n",
    "        self.time_lstm = nn.LSTM(input_size = hidden_size,hidden_size = hidden_size)\n",
    "        self.dense = nn.Linear(hidden_size,1)\n",
    "\n",
    "    def forward(self,data,_):\n",
    "        # data.size() =  (batch_size, TIME_SCALE, NOTE_NUM*OCTAVE_NUM, 3)\n",
    "        # octave_data.size() =  (batch_size, TIME_SCALE, NOTE_NUM,OCTAVE_NUM*3)\n",
    "        batch_size,_,_,_ = data.size()\n",
    "        octave_data = data.view(batch_size,TIME_SCALE,NOTE_NUM,OCTAVE_NUM,3)\\\n",
    "                          .view(batch_size,TIME_SCALE,NOTE_NUM,OCTAVE_NUM*3)\n",
    "            \n",
    "        # note_lstm_input.size() = (NOTE_NUM, batch_size*TIME_SCALE,OCTAVE_NUM*3)\n",
    "        note_lstm_input = octave_data.view(batch_size*TIME_SCALE,NOTE_NUM,OCTAVE_NUM*3)\\\n",
    "                                     .transpose(0,1)\n",
    "        # note_lstm_output.size() = (NOTE_NUM,batch_size*TIME_SCALE,hidden_size)\n",
    "        note_lstm_output, _ = self.note_lstm(note_lstm_input)\n",
    "        # time_lstm_input.size() = (TIME_SCALE,batch_size,hidden_size)\n",
    "        time_lstm_input = note_lstm_output[-1].view(batch_size,TIME_SCALE,self.hidden_size)\\\n",
    "                                          .transpose(0,1)\\\n",
    "        # time_lstm_output.size() = (TIME_SCALE,batch_size,1000)\n",
    "        time_lstm_output, _  = self.time_lstm(time_lstm_input)\n",
    "        # dense_input.size() = (batch_size,1000)\n",
    "        dense_input = time_lstm_output[-1]\n",
    "        # dense_output.size() = (batch_size,1)\n",
    "        dense_output = self.dense(dense_input)\n",
    "        probs = F.sigmoid(dense_output)\n",
    "        return probs"
   ]
  },
  {
   "cell_type": "code",
   "execution_count": 4,
   "metadata": {},
   "outputs": [],
   "source": [
    "class BasicGenerator(nn.Module):\n",
    "    def __init__(self,hidden_size = 1000):\n",
    "        super(self.__class__, self).__init__()\n",
    "        self.dense_in = nn.Linear(TIME_SCALE*NOTE_NUM*OCTAVE_NUM*3,hidden_size)\n",
    "        self.dense_out = nn.Linear(hidden_size,TIME_SCALE*NOTE_NUM*OCTAVE_NUM*3)\n",
    "\n",
    "    def forward(self,data,_):\n",
    "        batch_size,_,_,_ = data.size()\n",
    "        data = data.view(batch_size,-1)\n",
    "        hid_data = self.dense_in(data)\n",
    "        out_data = self.dense_out(hid_data)\n",
    "        output = F.sigmoid(out_data.view(batch_size, TIME_SCALE, NOTE_NUM*OCTAVE_NUM, 3))\n",
    "        return output\n",
    "        "
   ]
  },
  {
   "cell_type": "code",
   "execution_count": 5,
   "metadata": {},
   "outputs": [],
   "source": [
    "class BasicDiscriminator(nn.Module):\n",
    "    def __init__(self,hidden_size = 1000):\n",
    "        super(self.__class__, self).__init__()\n",
    "        self.dense_in = nn.Linear(TIME_SCALE*NOTE_NUM*OCTAVE_NUM*3,hidden_size)\n",
    "        self.dense_out = nn.Linear(hidden_size,1)\n",
    "\n",
    "    def forward(self,data):\n",
    "        batch_size,_,_,_ = data.size()\n",
    "        data = data.view(batch_size,-1)\n",
    "        hid_data = self.dense_in(data)\n",
    "        out_data = self.dense_out(hid_data)\n",
    "        output = F.sigmoid(out_data)\n",
    "        return output"
   ]
  },
  {
   "cell_type": "code",
   "execution_count": 6,
   "metadata": {},
   "outputs": [],
   "source": [
    "def g_loss(p_fake,sound,in_probs,baseline_pred,eps = 1e-8):\n",
    "#     probs = sound[:,TIME_SCALE//2:,:,:2]*in_probs[:,TIME_SCALE//2:,:,:2]\\\n",
    "#             +(1-sound[:,TIME_SCALE//2:,:,:2])*(1-in_probs[:,TIME_SCALE//2:,:,:2])\n",
    "    probs = sound[:,:,:,:2]*in_probs[:,:,:,:2]\\\n",
    "            +(1-sound[:,:,:,:2])*(1-in_probs[:,:,:,:2])\n",
    "    return -((probs+eps).log().sum(dim =-1).sum(dim =-1).sum(dim =-1)*(p_fake)).mean()\n",
    "\n",
    "def d_loss(p_fake, p_true,eps = 1e-8):\n",
    "    return -(1-p_fake+eps).log().mean()-(p_true+eps).log().mean()\n",
    "    \n",
    "def bl_loss(bl_pred,real_reward):\n",
    "    return (bl_pred-real_reward).pow(2).mean()\n"
   ]
  },
  {
   "cell_type": "code",
   "execution_count": 7,
   "metadata": {},
   "outputs": [],
   "source": [
    "import torch.utils.data\n",
    "\n",
    "def sample_sound(data_gen):\n",
    "    size = data_gen.size()\n",
    "    rand = torch.rand(*size).cuda()\n",
    "    sample = (rand<data_gen).type(torch.FloatTensor).cuda()\n",
    "#     sample[:,:,:,2] = data_gen[:,:,:,2]\n",
    "    sample[:,:,:,2] = 1\n",
    "    return sample"
   ]
  },
  {
   "cell_type": "code",
   "execution_count": 8,
   "metadata": {},
   "outputs": [
    {
     "data": {
      "text/plain": [
       "((81, 128, 48, 3),)"
      ]
     },
     "execution_count": 8,
     "metadata": {},
     "output_type": "execute_result"
    }
   ],
   "source": [
    "from dataset import load_all\n",
    "from constants import *\n",
    "\n",
    "styles= [['data/Bach1']]\n",
    "train_data, train_labels = load_all(styles, BATCH_SIZE, TIME_SCALE)\n",
    "N = 2500\n",
    "X_tr = train_data[0][:N]\n",
    "y_tr = train_labels[0][:N]\n",
    "train_data[0].shape,"
   ]
  },
  {
   "cell_type": "code",
   "execution_count": 9,
   "metadata": {},
   "outputs": [],
   "source": [
    "X_loader = torch.utils.data.DataLoader(\\\n",
    "            torch.utils.data.TensorDataset(\\\n",
    "            *(torch.FloatTensor(X_tr),\n",
    "            torch.FloatTensor(y_tr))),\\\n",
    "            batch_size=10,shuffle=True)"
   ]
  },
  {
   "cell_type": "code",
   "execution_count": 10,
   "metadata": {},
   "outputs": [],
   "source": [
    "import torch.utils.data\n",
    "\n",
    "def train_discriminator(generator, discriminator,X_loader,num_epochs = 3,d_lr = 0.001):\n",
    "    \n",
    "    generator.eval()\n",
    "    discriminator.train()\n",
    "    d_optimizer = torch.optim.Adam(discriminator.parameters(), lr=d_lr,) #, weight_decay = 1, betas=(0.5, 0.999))  \n",
    "    d_losses = []\n",
    "    prob_noise = []\n",
    "    prob_human = []\n",
    "    prop_machine = []\n",
    "        \n",
    "    for epoch in range(num_epochs):\n",
    "        start_time = time.time()\n",
    "        for x_batch,ch_batch in X_loader:\n",
    "            x_batch = x_batch.cuda()\n",
    "            ch_batch = ch_batch.cuda()\n",
    "\n",
    "            x_batch[:,:,:,2] = 1\n",
    "            ch_batch[:,:,:,2] = 1\n",
    "\n",
    "            # Optimize D  \n",
    " \n",
    "            # rand_like ones_like\n",
    "#             noise_example = torch.cat([x_batch, sample_sound(torch.rand_like(x_batch).cuda())],dim = -1)\n",
    "#             true_example = torch.cat([x_batch, ch_batch],dim = -1)\n",
    "#             p_true_example = discriminator(true_example)\n",
    "#             p_noise_example = discriminator(noise_example)\n",
    "#             loss = d_loss(p_noise_example, p_true_example)\n",
    "#             d_optimizer.zero_grad()\n",
    "#             loss.backward()\n",
    "#             d_optimizer.step()\n",
    "#             d_losses.append(loss.data.cpu().numpy())\n",
    "            \n",
    "#             prob_noise.append(p_noise_example.mean())\n",
    "          \n",
    "            \n",
    "            # machine generation\n",
    "            data_gen = generator(x_batch,ch_batch)\n",
    "            sound = sample_sound(data_gen).data          \n",
    "            false_example = torch.cat([x_batch, sound],dim = -1)\n",
    "            true_example = torch.cat([x_batch, ch_batch],dim = -1)\n",
    "            p_true_example = discriminator(true_example)\n",
    "            p_false_example = discriminator(false_example)\n",
    "            loss = d_loss(p_false_example, p_true_example)\n",
    "            d_optimizer.zero_grad()\n",
    "            loss.backward()\n",
    "            d_optimizer.step()\n",
    "            d_losses.append(loss.data.cpu().numpy())\n",
    "            \n",
    "            prop_machine.append(p_false_example.mean().data.cpu().numpy())\n",
    "            prob_human.append(p_true_example.mean())\n",
    "        \n",
    "#       # Visualize\n",
    "        display.clear_output(wait=True)\n",
    "        plt.figure(figsize=(16, 6))\n",
    "\n",
    "        # Then we print the results for this epoch:\n",
    "        print(\"Epoch {} of {} took {:.3f}s\".format(\n",
    "            epoch + 1, num_epochs, time.time() - start_time)) \n",
    "        print('mean probability of human generation: {}'.format(prob_human[-1]))\n",
    "#         print('mean probability of noise generation: {}'.format(prob_noise[-1]))\n",
    "        print('mean probability of machine generation: {}'.format(prop_machine[-1]))\n",
    "        \n",
    "        \n",
    "        plt.title(\"losses\")\n",
    "\n",
    "        plt.subplot(131)\n",
    "        plt.plot(prob_human,label = \"probability of human generation\")\n",
    "        plt.legend()\n",
    "        plt.subplot(132)\n",
    "        plt.plot(prob_noise,label = \"probability of noise generation\")\n",
    "        plt.legend()\n",
    "        plt.subplot(133)\n",
    "        plt.plot(d_losses,label = \"Discriminator loss\")\n",
    "        plt.legend()\n",
    "        plt.show()\n",
    "            \n",
    "    return discriminator,np.array(prob_human),np.array(prob_noise),np.array(d_losses)"
   ]
  },
  {
   "cell_type": "code",
   "execution_count": 11,
   "metadata": {
    "scrolled": false
   },
   "outputs": [
    {
     "name": "stdout",
     "output_type": "stream",
     "text": [
      "Epoch 40 of 40 took 0.384s\n",
      "mean probability of human generation: 0.9926597476005554\n",
      "mean probability of machine generation: 0.011167827062308788\n"
     ]
    },
    {
     "data": {
      "image/png": "[encoded data removed]",
      "text/plain": [
       "<Figure size 1152x432 with 3 Axes>"
      ]
     },
     "metadata": {},
     "output_type": "display_data"
    }
   ],
   "source": [
    "discriminator = LSTM_discriminator(hidden_size=100, last_dim=6).cuda()\n",
    "generator = Generator().cuda()\n",
    "generator.load_state_dict(torch.load(os.path.join(OUT_DIR, 'model_canonical')))\n",
    "discriminator, _, _,_ = train_discriminator(generator, discriminator,X_loader, num_epochs = 40, d_lr=1e-3)"
   ]
  },
  {
   "cell_type": "code",
   "execution_count": 24,
   "metadata": {},
   "outputs": [],
   "source": [
    "import torch.utils.data\n",
    "\n",
    "def train_GAN(generator,discriminator,baseline,X_loader,num_epochs = 3,g_lr = 0.001, d_lr = 0.001,bl_lr = 0.001):\n",
    "    \n",
    "    generator.train()\n",
    "    discriminator.eval()\n",
    "    g_optimizer = torch.optim.Adam(generator.parameters(),     lr=g_lr)#, betas=(0.5, 0.999))\n",
    "    d_optimizer = torch.optim.Adam(discriminator.parameters(), lr=d_lr,) #, weight_decay = 1, betas=(0.5, 0.999))\n",
    "    bl_optimizer = torch.optim.Adam(baseline.parameters(), lr=bl_lr)\n",
    "    \n",
    "    d_losses = []\n",
    "    g_losses = []\n",
    "    bl_losses = []\n",
    "    prop_machine = []\n",
    "    prob_human = []\n",
    "    prob_confidence = []\n",
    "    prob_noise = []\n",
    "    \n",
    "    for epoch in range(num_epochs):\n",
    "        start_time = time.time()\n",
    "        for x_batch,ch_batch in X_loader:\n",
    "            x_batch = x_batch.cuda()\n",
    "            ch_batch = ch_batch.cuda()\n",
    "\n",
    "            x_batch[:,:,:,2] = 1\n",
    "            ch_batch[:,:,:,2] = 1\n",
    "\n",
    "            # Optimize D           \n",
    "            data_gen = generator(x_batch,ch_batch)\n",
    "            sound = sample_sound(data_gen).data          \n",
    "            \n",
    "            false_example = torch.cat([x_batch, sound],dim = -1)\n",
    "            true_example = torch.cat([x_batch, ch_batch],dim = -1)\n",
    "            p_true_example = discriminator(true_example.detach())\n",
    "            p_false_example = discriminator(false_example.detach())\n",
    "#             loss = d_loss(p_false_example, p_true_example)\n",
    "#             d_optimizer.zero_grad()\n",
    "#             loss.backward()\n",
    "#             d_optimizer.step()\n",
    "#             d_losses.append(loss.data.cpu().numpy())\n",
    "            \n",
    "            prob_human.append(p_true_example.mean().data.cpu().numpy())\n",
    "            #noise\n",
    "            # rand_like ones_like\n",
    "#             for  i in range(3):\n",
    "#                 noise_example = torch.cat([x_batch, sample_sound(torch.rand_like(x_batch).cuda())],dim = -1)\n",
    "#                 true_example = torch.cat([x_batch, ch_batch],dim = -1)\n",
    "#                 p_true_example = discriminator(true_example)\n",
    "#                 p_noise_example = discriminator(noise_example)\n",
    "#                 loss = d_loss(p_noise_example, p_true_example)\n",
    "#                 d_optimizer.zero_grad()\n",
    "#                 loss.backward()\n",
    "#                 d_optimizer.step()\n",
    "#                 d_losses.append(loss.data.cpu().numpy())\n",
    "            \n",
    "#             prob_noise.append(p_true_example.mean().data.cpu().numpy())\n",
    "\n",
    "        \n",
    "            # Optimize BL\n",
    "            false_example = torch.cat([x_batch, sound],dim = -1)\n",
    "            p_false_example = discriminator(false_example.detach())\n",
    "            p_baseline = baseline(x_batch,ch_batch)\n",
    "            print('p_false_example', p_false_example)\n",
    "            p_false_example.var_no_grad = var.detach()\n",
    "            loss = bl_loss(baseline(x_batch,ch_batch), p_false_example.detach())\n",
    "            \n",
    "            bl_optimizer.zero_grad()\n",
    "            loss.backward()\n",
    "            bl_optimizer.step()\n",
    "            bl_losses.append(loss.data.cpu().numpy())\n",
    "            \n",
    "            # Optimize G                   \n",
    "            p_false_example = discriminator(false_example)\n",
    "            loss = g_loss(p_false_example, sound, data_gen, p_baseline) \n",
    "#             + compute_loss(data_gen, ch_batch)           \n",
    "            loss.backward()\n",
    "            g_optimizer.step()\n",
    "            g_optimizer.zero_grad()\n",
    "            g_losses.append(loss.data.cpu().numpy())\n",
    "            \n",
    "            prob_confidence.append(data_gen.mean().data.cpu().numpy())\n",
    "            prop_machine.append(p_false_example.mean().data.cpu().numpy())\n",
    "            \n",
    "#             # Visualize\n",
    "            display.clear_output(wait=True)\n",
    "            plt.figure(figsize=(16, 6))\n",
    "\n",
    "            # Then we print the results for this epoch:\n",
    "            print(\"Epoch {} of {} took {:.3f}s\".format(\n",
    "                epoch + 1, num_epochs, time.time() - start_time)) \n",
    "            print('mean probability of machine generation: {}'.format(prop_machine[-1]))\n",
    "            print('mean probability of human generation: {}'.format(prob_human[-1]))\n",
    "    #         print('mean probability of noise generation: {}'.format(prob_noise[-1]))\n",
    "            print('mean probability of machine generation confidence: {}'.format(prob_confidence[-1]))\n",
    "\n",
    "\n",
    "            plt.title(\"losses\")\n",
    "\n",
    "            plt.subplot(231)\n",
    "            plt.plot(g_losses,label = \"Generator loss\")\n",
    "            plt.legend()\n",
    "            plt.subplot(232)\n",
    "            plt.plot(d_losses,label = \"Discriminator loss\")\n",
    "            plt.legend()\n",
    "            plt.subplot(233)\n",
    "            plt.plot(bl_losses,label = \"Baseline loss\")\n",
    "            plt.legend()\n",
    "            plt.subplot(234)\n",
    "            plt.plot(prop_machine,label = \"Machine probability\")\n",
    "            plt.legend()\n",
    "            plt.subplot(235)\n",
    "            plt.plot(prob_human,label = \"Human probability\")\n",
    "            plt.legend()\n",
    "            plt.subplot(236)\n",
    "            plt.plot(prob_confidence,label = \"Machine confidence\")\n",
    "            plt.legend()\n",
    "            plt.show()\n",
    "            \n",
    "    return generator,discriminator,baseline,np.array(g_losses),np.array(d_losses),np.array(bl_losses)"
   ]
  },
  {
   "cell_type": "code",
   "execution_count": 25,
   "metadata": {},
   "outputs": [],
   "source": [
    "# discriminator = LSTM_discriminator(hidden_size=100, last_dim=6).cuda()\n",
    "# generator = Generator().cuda()\n",
    "# generator.load_state_dict(torch.load(os.path.join(OUT_DIR, 'model_canonical')))\n",
    "baseline = LSTM_baseline(hidden_size=10).cuda()"
   ]
  },
  {
   "cell_type": "code",
   "execution_count": 26,
   "metadata": {},
   "outputs": [
    {
     "ename": "TypeError",
     "evalue": "'Tensor' object is not callable",
     "output_type": "error",
     "traceback": [
      "\u001b[0;31m\u001b[0m",
      "\u001b[0;31mTypeError\u001b[0mTraceback (most recent call last)",
      "\u001b[0;32m<ipython-input-26-824ce7283a28>\u001b[0m in \u001b[0;36m<module>\u001b[0;34m()\u001b[0m\n\u001b[0;32m----> 1\u001b[0;31m \u001b[0mgenerator\u001b[0m\u001b[0;34m,\u001b[0m\u001b[0mdiscriminator\u001b[0m\u001b[0;34m,\u001b[0m\u001b[0mbaseline\u001b[0m\u001b[0;34m,\u001b[0m\u001b[0mg_losses\u001b[0m\u001b[0;34m,\u001b[0m\u001b[0md_losses\u001b[0m\u001b[0;34m,\u001b[0m\u001b[0mbl_losses\u001b[0m \u001b[0;34m=\u001b[0m                    \u001b[0mtrain_GAN\u001b[0m\u001b[0;34m(\u001b[0m\u001b[0mgenerator\u001b[0m\u001b[0;34m,\u001b[0m\u001b[0mdiscriminator\u001b[0m\u001b[0;34m,\u001b[0m\u001b[0mbaseline\u001b[0m\u001b[0;34m,\u001b[0m                            \u001b[0mX_loader\u001b[0m\u001b[0;34m,\u001b[0m\u001b[0mnum_epochs\u001b[0m \u001b[0;34m=\u001b[0m \u001b[0;36m100\u001b[0m\u001b[0;34m,\u001b[0m \u001b[0mg_lr\u001b[0m \u001b[0;34m=\u001b[0m \u001b[0;36m1e-4\u001b[0m\u001b[0;34m,\u001b[0m\u001b[0md_lr\u001b[0m\u001b[0;34m=\u001b[0m\u001b[0;36m1e-3\u001b[0m\u001b[0;34m,\u001b[0m \u001b[0mbl_lr\u001b[0m \u001b[0;34m=\u001b[0m \u001b[0;36m1e-2\u001b[0m\u001b[0;34m)\u001b[0m\u001b[0;34m\u001b[0m\u001b[0m\n\u001b[0m",
      "\u001b[0;32m<ipython-input-24-6a80abdad38d>\u001b[0m in \u001b[0;36mtrain_GAN\u001b[0;34m(generator, discriminator, baseline, X_loader, num_epochs, g_lr, d_lr, bl_lr)\u001b[0m\n\u001b[1;32m     61\u001b[0m             \u001b[0mp_false_example\u001b[0m \u001b[0;34m=\u001b[0m \u001b[0mdiscriminator\u001b[0m\u001b[0;34m(\u001b[0m\u001b[0mfalse_example\u001b[0m\u001b[0;34m.\u001b[0m\u001b[0mdetach\u001b[0m\u001b[0;34m(\u001b[0m\u001b[0;34m)\u001b[0m\u001b[0;34m)\u001b[0m\u001b[0;34m\u001b[0m\u001b[0m\n\u001b[1;32m     62\u001b[0m             \u001b[0mp_baseline\u001b[0m \u001b[0;34m=\u001b[0m \u001b[0mbaseline\u001b[0m\u001b[0;34m(\u001b[0m\u001b[0mx_batch\u001b[0m\u001b[0;34m,\u001b[0m\u001b[0mch_batch\u001b[0m\u001b[0;34m)\u001b[0m\u001b[0;34m\u001b[0m\u001b[0m\n\u001b[0;32m---> 63\u001b[0;31m             \u001b[0mprint\u001b[0m\u001b[0;34m(\u001b[0m\u001b[0;34m'p_false_example'\u001b[0m\u001b[0;34m,\u001b[0m \u001b[0mp_false_example\u001b[0m\u001b[0;34m.\u001b[0m\u001b[0mcpu\u001b[0m\u001b[0;34m(\u001b[0m\u001b[0;34m)\u001b[0m\u001b[0;34m.\u001b[0m\u001b[0mdata\u001b[0m\u001b[0;34m(\u001b[0m\u001b[0;34m)\u001b[0m\u001b[0;34m)\u001b[0m\u001b[0;34m\u001b[0m\u001b[0m\n\u001b[0m\u001b[1;32m     64\u001b[0m             \u001b[0mp_false_example\u001b[0m\u001b[0;34m.\u001b[0m\u001b[0mvar_no_grad\u001b[0m \u001b[0;34m=\u001b[0m \u001b[0mvar\u001b[0m\u001b[0;34m.\u001b[0m\u001b[0mdetach\u001b[0m\u001b[0;34m(\u001b[0m\u001b[0;34m)\u001b[0m\u001b[0;34m\u001b[0m\u001b[0m\n\u001b[1;32m     65\u001b[0m             \u001b[0mloss\u001b[0m \u001b[0;34m=\u001b[0m \u001b[0mbl_loss\u001b[0m\u001b[0;34m(\u001b[0m\u001b[0mbaseline\u001b[0m\u001b[0;34m(\u001b[0m\u001b[0mx_batch\u001b[0m\u001b[0;34m,\u001b[0m\u001b[0mch_batch\u001b[0m\u001b[0;34m)\u001b[0m\u001b[0;34m,\u001b[0m \u001b[0mp_false_example\u001b[0m\u001b[0;34m.\u001b[0m\u001b[0mdetach\u001b[0m\u001b[0;34m(\u001b[0m\u001b[0;34m)\u001b[0m\u001b[0;34m)\u001b[0m\u001b[0;34m\u001b[0m\u001b[0m\n",
      "\u001b[0;31mTypeError\u001b[0m: 'Tensor' object is not callable"
     ]
    }
   ],
   "source": [
    "generator,discriminator,baseline,g_losses,d_losses,bl_losses =\\\n",
    "                    train_GAN(generator,discriminator,baseline,\\\n",
    "                            X_loader,num_epochs = 100, g_lr = 1e-4,d_lr=1e-3, bl_lr = 1e-2)"
   ]
  },
  {
   "cell_type": "code",
   "execution_count": 125,
   "metadata": {},
   "outputs": [
    {
     "name": "stderr",
     "output_type": "stream",
     "text": [
      "  1%|          | 1/128 [00:00<00:20,  6.07it/s]"
     ]
    },
    {
     "name": "stdout",
     "output_type": "stream",
     "text": [
      "Generating with no styles:\n"
     ]
    },
    {
     "name": "stderr",
     "output_type": "stream",
     "text": [
      "100%|██████████| 128/128 [00:11<00:00, 10.83it/s]\n"
     ]
    },
    {
     "name": "stdout",
     "output_type": "stream",
     "text": [
      "Writing file out/samples/output/rl_test_0.mid\n"
     ]
    }
   ],
   "source": [
    "from generate import write_file, generate\n",
    "# import gc\n",
    "# torch.cuda.empty_cache()\n",
    "# gc.collect() \n",
    "\n",
    "# with torch.cuda.device(GPU):\n",
    "write_file('output/rl_test', generate(generator, 8))"
   ]
  },
  {
   "cell_type": "code",
   "execution_count": null,
   "metadata": {},
   "outputs": [],
   "source": []
  }
 ],
 "metadata": {
  "kernelspec": {
   "display_name": "Python 3",
   "language": "python",
   "name": "python3"
  },
  "language_info": {
   "codemirror_mode": {
    "name": "ipython",
    "version": 3
   },
   "file_extension": ".py",
   "mimetype": "text/x-python",
   "name": "python",
   "nbconvert_exporter": "python",
   "pygments_lexer": "ipython3",
   "version": "3.6.4"
  }
 },
 "nbformat": 4,
 "nbformat_minor": 2
}
