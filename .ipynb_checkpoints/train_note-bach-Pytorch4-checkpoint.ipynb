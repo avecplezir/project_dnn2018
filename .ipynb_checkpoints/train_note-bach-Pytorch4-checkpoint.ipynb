{
 "cells": [
  {
   "cell_type": "code",
   "execution_count": 1,
   "metadata": {},
   "outputs": [
    {
     "name": "stderr",
     "output_type": "stream",
     "text": [
      "/opt/miniconda/lib/python3.6/site-packages/h5py/__init__.py:36: FutureWarning: Conversion of the second argument of issubdtype from `float` to `np.floating` is deprecated. In future, it will be treated as `np.float64 == np.dtype(float).type`.\n",
      "  from ._conv import register_converters as _register_converters\n"
     ]
    }
   ],
   "source": [
    "import argparse\n",
    "import midi\n",
    "import os\n",
    "\n",
    "from constants import *\n",
    "from dataset import load_all\n",
    "from generate import write_file, generate\n",
    "from play_music_util import play_music\n",
    "\n",
    "import pygame\n",
    "import base64\n",
    "\n",
    "# from playsound import playsound\n",
    "import numpy as np"
   ]
  },
  {
   "cell_type": "code",
   "execution_count": 2,
   "metadata": {},
   "outputs": [],
   "source": [
    "import math\n",
    "import time\n",
    "from IPython import display\n",
    "import matplotlib.pyplot as plt\n",
    "from tqdm import tqdm\n",
    "from torch import optim\n",
    "%matplotlib inline\n",
    "\n",
    "import torch, torch.nn as nn\n",
    "import torch.nn.functional as F\n",
    "from torch.autograd import Variable\n",
    "import torch"
   ]
  },
  {
   "cell_type": "code",
   "execution_count": 3,
   "metadata": {},
   "outputs": [
    {
     "data": {
      "text/plain": [
       "['data/Bach1']"
      ]
     },
     "execution_count": 3,
     "metadata": {},
     "output_type": "execute_result"
    }
   ],
   "source": [
    "styles = [['data/Bach1']]\n",
    "styles[0]"
   ]
  },
  {
   "cell_type": "code",
   "execution_count": 4,
   "metadata": {},
   "outputs": [
    {
     "name": "stdout",
     "output_type": "stream",
     "text": [
      "Loading data\n"
     ]
    }
   ],
   "source": [
    "print('Loading data')\n",
    "train_data, train_labels = load_all(styles, BATCH_SIZE, SEQ_LEN)"
   ]
  },
  {
   "cell_type": "code",
   "execution_count": 5,
   "metadata": {},
   "outputs": [
    {
     "data": {
      "text/plain": [
       "(340, 128, 48, 3)"
      ]
     },
     "execution_count": 5,
     "metadata": {},
     "output_type": "execute_result"
    }
   ],
   "source": [
    "train_data[0].shape"
   ]
  },
  {
   "cell_type": "code",
   "execution_count": 6,
   "metadata": {},
   "outputs": [],
   "source": [
    "import torch, torch.nn as nn\n",
    "import torch.nn.functional as F\n",
    "from torch.autograd import Variable\n",
    "from constants import *\n",
    "import numpy as np\n",
    "\n",
    "import math\n",
    "import time\n",
    "from IPython import display\n",
    "import matplotlib.pyplot as plt\n",
    "from tqdm import tqdm\n",
    "from torch import optim\n",
    "\n",
    "criterion_bce_play = nn.BCELoss()  \n",
    "criterion_bce_replay = nn.BCELoss() \n",
    "criterion_mse = nn.MSELoss()  \n",
    "\n",
    "def compute_loss(y_pred, y_true):\n",
    "    \n",
    "    played = y_true[:, :, :, 0]\n",
    "    \n",
    "    bce_note = criterion_bce_play(y_pred[:, :, :, 0], y_true[:, :, :, 0])\n",
    "\n",
    "    replay = played*y_pred[:, :, :, 1] + (1 - played)*y_true[:, :, :, 1]\n",
    "    \n",
    "    bce_replay = criterion_bce_replay(replay, y_true[:, :, :, 1])\n",
    "    \n",
    "    volume = played*y_pred[:, :, :, 2] + (1 - played)*y_true[:, :, :, 2]\n",
    "    mse = criterion_mse(volume, y_true[:, :, :, 2] )\n",
    "    \n",
    "    return bce_note + bce_replay + mse\n",
    "\n",
    "\n",
    "def iterate_minibatches(train_data, train_labels, batchsize):\n",
    "    indices = np.random.permutation(np.arange(len(train_labels)))\n",
    "    for start in range(0, len(indices), batchsize):\n",
    "        ix = indices[start: start + batchsize]\n",
    "        \n",
    "        if cuda:      \n",
    "            yield  Variable(torch.FloatTensor(train_data[ix])).cuda(), Variable(torch.FloatTensor(train_labels[ix])).cuda()\n",
    "        else:\n",
    "            yield Variable(torch.FloatTensor(train_data[ix])), Variable(torch.FloatTensor(train_labels[ix]))\n",
    "            \n",
    "class time_axis(nn.Module):\n",
    "    def __init__(self):\n",
    "        super(self.__class__, self).__init__() \n",
    "        self.n_layers = 1\n",
    "        self.hidden_size = TIME_AXIS_UNITS\n",
    "        self.input_size = NOTE_UNITS\n",
    "        \n",
    "\n",
    "        self.time_lstm = nn.LSTM(self.input_size, self.hidden_size, self.n_layers, dropout=0.1, \n",
    "                                 batch_first=True, )\n",
    "        self.dropout = nn.Dropout(p=0.2, inplace=True)\n",
    "        \n",
    "    def forward(self, notes):\n",
    "        \n",
    "        \"\"\"\n",
    "        arg:\n",
    "            notes - (batch, time_seq, note_seq, note_features)\n",
    "        \n",
    "        out: \n",
    "            (batch, time_seq, note_seq, hidden_features)\n",
    "            \n",
    "        \"\"\"\n",
    "        initial_shape = notes.shape\n",
    "        \n",
    "        notes = notes.permute(0, 2, 1, 3).contiguous()\n",
    "        notes = notes.view((-1,)+ notes.shape[-2:]).contiguous()\n",
    "            \n",
    "        out, hidden = self.time_lstm(notes) \n",
    "                \n",
    "        time_output = out.contiguous().view((initial_shape[0],) + (initial_shape[2],) + out.shape[-2:])\n",
    "        time_output = time_output.permute(0, 2, 1, 3)\n",
    "#         self.dropout(time_output)\n",
    "        \n",
    "        return time_output        \n",
    "    \n",
    "class note_axis(nn.Module):\n",
    "    def __init__(self):\n",
    "        super(self.__class__, self).__init__()   \n",
    "        \n",
    "        self.n_layers = 2\n",
    "        self.hidden_size = NOTE_AXIS_UNITS\n",
    "        # number of time features plus number of previous higher note in the same time momemt\n",
    "        self.input_size = TIME_AXIS_UNITS + NOTE_UNITS\n",
    "        \n",
    "        # maybe it is better to make two lstm and make the second one bideractional \n",
    "        self.note_lstm = nn.LSTM(self.input_size, self.hidden_size, self.n_layers, dropout=0.1, \n",
    "                                 batch_first=True, )\n",
    "        \n",
    "        self.dropout = nn.Dropout(p=0.2, inplace=True)\n",
    "        \n",
    "        self.logits = nn.Linear(self.hidden_size, NOTE_UNITS) \n",
    "        \n",
    "    def forward(self, notes, chosen):\n",
    "        \"\"\"\n",
    "        arg:\n",
    "            notes - (batch, time_seq, note_seq, time_hidden_features)\n",
    "        \n",
    "        out: \n",
    "            (batch, time_seq, note_seq, next_notes_features)\n",
    "            \n",
    "        \"\"\"\n",
    "                \n",
    "        # Shift target one note to the left.\n",
    "        shift_chosen = nn.ZeroPad2d((0, 0, 1, 0))(chosen[:, :, :-1, :])            \n",
    "        note_input = torch.cat([notes, shift_chosen], dim=-1)\n",
    "        \n",
    "        initial_shape = note_input.shape\n",
    "        \n",
    "        note_input = note_input.contiguous().view((-1,)+ note_input.shape[-2:]).contiguous()\n",
    "        \n",
    "        out, hidden = self.note_lstm(note_input) \n",
    "        \n",
    "        note_output = out.contiguous().view(initial_shape[:2] + out.shape[-2:])\n",
    "\n",
    "#         self.dropout(note_output)\n",
    "\n",
    "        logits = self.logits(note_output) \n",
    "        next_notes = nn.Sigmoid()(logits)\n",
    "        \n",
    "        return next_notes \n",
    "    \n",
    "class Generator(nn.Module):\n",
    "    def __init__(self):\n",
    "        super(self.__class__, self).__init__()        \n",
    "        \n",
    "        self.time_ax = time_axis() \n",
    "        self.note_ax = note_axis()\n",
    "        \n",
    "    def forward(self, notes, chosen):\n",
    "        \n",
    "        note_ax_output = self.time_ax(notes)\n",
    "        output = self.note_ax(note_ax_output, chosen)\n",
    "        \n",
    "        return output   \n",
    "    \n",
    "def train(generator, X_tr, X_te, y_tr, y_te, batchsize=3, n_epochs = 3):\n",
    "    \n",
    "    optimizer = optim.Adam(generator.parameters())\n",
    "    n_train_batches = math.ceil(len(X_tr)/batchsize)\n",
    "    n_validation_batches = math.ceil(len(X_te)/batchsize)\n",
    "\n",
    "    epoch_history = {'train_loss':[], 'val_loss':[]}\n",
    "\n",
    "    for epoch in range(n_epochs):\n",
    "\n",
    "        start_time = time.time()\n",
    "\n",
    "        train_loss = 0\n",
    "        generator.train(True)    \n",
    "        for X, y in tqdm(iterate_minibatches(X_tr, y_tr, batchsize)):\n",
    "\n",
    "            optimizer.zero_grad()\n",
    "\n",
    "            pred = generator(X, y)\n",
    "            loss = compute_loss(pred, y)        \n",
    "            loss.backward()\n",
    "\n",
    "            optimizer.step()\n",
    "\n",
    "            train_loss += loss.cpu().data.numpy()[0]\n",
    "\n",
    "        train_loss /= n_train_batches\n",
    "        epoch_history['train_loss'].append(train_loss)\n",
    "    #     print('train_loss', train_loss)\n",
    "\n",
    "        generator.train(False)\n",
    "        val_loss = 0\n",
    "        for X, y in tqdm(iterate_minibatches(X_te, y_te, batchsize)):\n",
    "            pred = generator(X, y)\n",
    "            loss = compute_loss(pred, y) \n",
    "\n",
    "            val_loss += loss.cpu().data.numpy()[0]\n",
    "\n",
    "        val_loss /= n_validation_batches\n",
    "        epoch_history['val_loss'].append(val_loss)\n",
    "    #     print('val_loss', val_loss)\n",
    "\n",
    "        # Visualize\n",
    "        display.clear_output(wait=True)\n",
    "        plt.figure(figsize=(16, 6))\n",
    "        # Then we print the results for this epoch:\n",
    "        print(\"Epoch {} of {} took {:.3f}s\".format(\n",
    "            epoch + 1, n_epochs, time.time() - start_time)) \n",
    "        print('current train loss: {}'.format(epoch_history['train_loss'][-1]))\n",
    "        print('current val loss: {}'.format(epoch_history['val_loss'][-1]))\n",
    "\n",
    "        plt.title(\"losses\")\n",
    "        plt.xlabel(\"#epoch\")\n",
    "        plt.ylabel(\"loss\")\n",
    "        plt.plot(epoch_history['train_loss'], 'b', label = 'train_loss')\n",
    "        plt.plot(epoch_history['val_loss'], 'g', label = 'val_loss')\n",
    "        plt.legend()\n",
    "        plt.show()\n",
    "\n",
    "    print(\"Finished!\")\n",
    "    \n",
    "    return generator, epoch_history\n",
    "   "
   ]
  },
  {
   "cell_type": "code",
   "execution_count": 7,
   "metadata": {},
   "outputs": [],
   "source": [
    "# from model import Generator, iterate_minibatches, compute_loss, train"
   ]
  },
  {
   "cell_type": "code",
   "execution_count": 8,
   "metadata": {},
   "outputs": [
    {
     "data": {
      "text/plain": [
       "Generator(\n",
       "  (time_ax): time_axis(\n",
       "    (time_lstm): LSTM(3, 256, batch_first=True, dropout=0.1)\n",
       "    (dropout): Dropout(p=0.2, inplace)\n",
       "  )\n",
       "  (note_ax): note_axis(\n",
       "    (note_lstm): LSTM(259, 128, num_layers=2, batch_first=True, dropout=0.1)\n",
       "    (dropout): Dropout(p=0.2, inplace)\n",
       "    (logits): Linear(in_features=128, out_features=3, bias=True)\n",
       "  )\n",
       ")"
      ]
     },
     "execution_count": 8,
     "metadata": {},
     "output_type": "execute_result"
    }
   ],
   "source": [
    "generator = Generator()\n",
    "generator.cuda()"
   ]
  },
  {
   "cell_type": "code",
   "execution_count": 17,
   "metadata": {},
   "outputs": [],
   "source": [
    "X_tr = train_data[0][:-1]\n",
    "X_te = train_data[0][-1:]\n",
    "y_tr = train_labels[0][:-1]\n",
    "y_te = train_labels[0][-1:]"
   ]
  },
  {
   "cell_type": "code",
   "execution_count": 18,
   "metadata": {},
   "outputs": [
    {
     "data": {
      "text/plain": [
       "((339, 128, 48, 3), (1, 128, 48, 3))"
      ]
     },
     "execution_count": 18,
     "metadata": {},
     "output_type": "execute_result"
    }
   ],
   "source": [
    "X_tr.shape, X_te.shape"
   ]
  },
  {
   "cell_type": "code",
   "execution_count": 19,
   "metadata": {
    "scrolled": false
   },
   "outputs": [
    {
     "name": "stdout",
     "output_type": "stream",
     "text": [
      "Epoch 10 of 10 took 6.268s\n",
      "current train loss: 0.10447252880518151\n",
      "current val loss: 0.10397851467132568\n"
     ]
    },
    {
     "data": {
      "image/png": "[encoded data removed]",
      "text/plain": [
       "<Figure size 1152x432 with 1 Axes>"
      ]
     },
     "metadata": {},
     "output_type": "display_data"
    },
    {
     "name": "stdout",
     "output_type": "stream",
     "text": [
      "Finished!\n"
     ]
    }
   ],
   "source": [
    "generator, epoch_history = train(generator, X_tr, X_te, y_tr, y_te, batchsize=1, n_epochs = 10)"
   ]
  },
  {
   "cell_type": "markdown",
   "metadata": {},
   "source": [
    "## Save/load the model"
   ]
  },
  {
   "cell_type": "code",
   "execution_count": 9,
   "metadata": {},
   "outputs": [],
   "source": [
    "from model import Generator, iterate_minibatches, compute_loss, train\n",
    "# torch.save(generator.state_dict(), os.path.join(OUT_DIR, 'model_canonical'))\n",
    "the_model = Generator()\n",
    "the_model.load_state_dict(torch.load(os.path.join(OUT_DIR, 'model_canonical')))"
   ]
  },
  {
   "cell_type": "code",
   "execution_count": 10,
   "metadata": {},
   "outputs": [],
   "source": [
    "# print(the_model)\n",
    "# for i in list(the_model.note_ax.note_lstm.parameters()):\n",
    "#     print(i.shape)"
   ]
  },
  {
   "cell_type": "code",
   "execution_count": 11,
   "metadata": {},
   "outputs": [],
   "source": [
    "# dummy_note = Variable(torch.Tensor(train_data[0]))\n",
    "# chosen = Variable(torch.Tensor(train_data[1]))\n",
    "\n",
    "# # output = generator.forward(dummy_note, chosen)\n",
    "# output = the_model.forward(dummy_note, chosen)\n",
    "\n",
    "# print('dummy_time_features :', output.shape)\n",
    "# output[0][0][3], output2[0][0][3]"
   ]
  },
  {
   "cell_type": "markdown",
   "metadata": {},
   "source": [
    "# Canonical"
   ]
  },
  {
   "cell_type": "code",
   "execution_count": null,
   "metadata": {},
   "outputs": [
    {
     "name": "stderr",
     "output_type": "stream",
     "text": [
      "\r",
      "  0%|          | 0/128 [00:00<?, ?it/s]"
     ]
    },
    {
     "name": "stdout",
     "output_type": "stream",
     "text": [
      "Generating with no styles:\n"
     ]
    },
    {
     "name": "stderr",
     "output_type": "stream",
     "text": [
      " 41%|████▏     | 53/128 [00:07<00:10,  7.07it/s]"
     ]
    }
   ],
   "source": [
    "the_model.cuda()\n",
    "write_file('output/canonical_test', generate(the_model, 8))"
   ]
  },
  {
   "cell_type": "code",
   "execution_count": 138,
   "metadata": {},
   "outputs": [
    {
     "name": "stdout",
     "output_type": "stream",
     "text": [
      "Music file out/samples/output/canonical_test_0.mid loaded!\n"
     ]
    }
   ],
   "source": [
    "midi_file = 'out/samples/output/canonical_test_0.mid'\n",
    "play_music(midi_file)"
   ]
  },
  {
   "cell_type": "code",
   "execution_count": null,
   "metadata": {},
   "outputs": [],
   "source": []
  }
 ],
 "metadata": {
  "kernelspec": {
   "display_name": "Python 3",
   "language": "python",
   "name": "python3"
  },
  "language_info": {
   "codemirror_mode": {
    "name": "ipython",
    "version": 3
   },
   "file_extension": ".py",
   "mimetype": "text/x-python",
   "name": "python",
   "nbconvert_exporter": "python",
   "pygments_lexer": "ipython3",
   "version": "3.6.4"
  }
 },
 "nbformat": 4,
 "nbformat_minor": 2
}
