{
 "cells": [
  {
   "cell_type": "code",
   "execution_count": 2,
   "metadata": {},
   "outputs": [
    {
     "name": "stderr",
     "output_type": "stream",
     "text": [
      "/opt/miniconda/lib/python3.6/site-packages/h5py/__init__.py:36: FutureWarning: Conversion of the second argument of issubdtype from `float` to `np.floating` is deprecated. In future, it will be treated as `np.float64 == np.dtype(float).type`.\n",
      "  from ._conv import register_converters as _register_converters\n"
     ]
    }
   ],
   "source": [
    "import torch,torch.nn as nn\n",
    "import torch.nn.functional as F\n",
    "from torch.autograd import Variable\n",
    "import numpy as np\n",
    "from model import Generator\n",
    "from train_fn import iterate_minibatches, compute_loss\n",
    "from IPython import display\n",
    "import matplotlib.pyplot as plt\n",
    "%matplotlib inline\n",
    "import time\n",
    "import torch.utils.data\n",
    "from tqdm import tqdm\n",
    "from generate import write_file, generate\n",
    "import pickle\n",
    "\n",
    "from tensorboardX import SummaryWriter"
   ]
  },
  {
   "cell_type": "code",
   "execution_count": 3,
   "metadata": {},
   "outputs": [],
   "source": [
    "from train_models import LstmDiscriminator, FeaturedLstmDiscriminator, LstmBaseline\n",
    "from scores import EB, UPC, QN"
   ]
  },
  {
   "cell_type": "code",
   "execution_count": 41,
   "metadata": {},
   "outputs": [],
   "source": [
    "def g_loss(p_fake,sound,in_probs,p_baseline, eps = 1e-8):\n",
    "    \n",
    "    sound = sound[:,32:,:,:]\n",
    "    in_probs = in_probs[:,32:,:,:]\n",
    "        \n",
    "    probs = sound[:,:,:,:2]*in_probs[:,:,:,:2]\\\n",
    "            +(1-sound[:,:,:,:2])*(1-in_probs[:,:,:,:2])\n",
    "        \n",
    "    return -((probs+eps).log().sum(dim =-1).sum(dim =-1).sum(dim =-1)*(p_fake-p_baseline)).mean(), probs\n",
    "\n",
    "def g_loss_monte_carlo(p_fakes,sounds,in_probs,p_baseline, eps = 1e-8):\n",
    "    \n",
    "    sound = sound[:,32:,:,:]\n",
    "    in_probs = in_probs[:,32:,:,:]\n",
    "    \n",
    "    loss = 0\n",
    "    for sound, p_fake in zip(sounds, p_fakes):\n",
    "        probs = sound[:,:,:,:2]*in_probs[:,:,:,:2]\\\n",
    "                +(1-sound[:,:,:,:2])*(1-in_probs[:,:,:,:2])\n",
    "        loss += -((probs+eps).log().sum(dim =-1).sum(dim =-1).sum(dim =-1)*(p_fake-p_baseline)).mean()\n",
    "        \n",
    "    return loss/5, probs\n",
    "\n",
    "def d_loss(p_fake, p_true,eps = 1e-8):\n",
    "    return -(1-p_fake+eps).log().mean()-(p_true+eps).log().mean()\n",
    "    \n",
    "def bl_loss(bl_pred,real_reward):\n",
    "    return (bl_pred-real_reward).pow(2).mean()\n"
   ]
  },
  {
   "cell_type": "code",
   "execution_count": 5,
   "metadata": {},
   "outputs": [],
   "source": [
    "import torch.utils.data\n",
    "\n",
    "def sample_sound(data_gen):\n",
    "    size = data_gen.size()\n",
    "    rand = torch.rand(*size).cuda()\n",
    "    sample = (rand<data_gen).type(torch.FloatTensor).cuda()\n",
    "    sample[:,:,:,2] = sample[:,:,:,0]\n",
    "    return sample\n"
   ]
  },
  {
   "cell_type": "code",
   "execution_count": 6,
   "metadata": {},
   "outputs": [],
   "source": [
    "OCTAVE_NUM = 4\n",
    "NOTE_NUM = 12\n",
    "TIME_SCALE = 128\n",
    "\n",
    "from dataset import load_all\n",
    "from constants import *"
   ]
  },
  {
   "cell_type": "code",
   "execution_count": 43,
   "metadata": {},
   "outputs": [
    {
     "name": "stdout",
     "output_type": "stream",
     "text": [
      "(81, 128, 48, 3) (81, 128, 48, 3)\n"
     ]
    }
   ],
   "source": [
    "styles= [['/data/i.anokhin/music_out/data/Bach1']]\n",
    "X_tr, y_tr = load_all(styles, BATCH_SIZE, SEQ_LEN)\n",
    "print(X_tr.shape, y_tr.shape)\n",
    "\n",
    "X_loader = torch.utils.data.DataLoader(\\\n",
    "            torch.utils.data.TensorDataset(\\\n",
    "            *(torch.FloatTensor(X_tr),\n",
    "            torch.FloatTensor(y_tr))),\\\n",
    "            batch_size=8,shuffle=True)"
   ]
  },
  {
   "cell_type": "code",
   "execution_count": 44,
   "metadata": {},
   "outputs": [],
   "source": [
    "def train_discriminator(num_epochs = 3,d_lr = 0.001, verbose = True):\n",
    "    \n",
    "    X_loader = torch.utils.data.DataLoader(\\\n",
    "            torch.utils.data.TensorDataset(\\\n",
    "            *(torch.FloatTensor(X_tr),\n",
    "            torch.FloatTensor(y_tr))),\\\n",
    "            batch_size=8,shuffle=True)\n",
    "\n",
    "    d_optimizer = torch.optim.Adam(discriminator.parameters(), lr=d_lr, betas=(0.5, 0.999)) #, weight_decay = 1, betas=(0.5, 0.999))  \n",
    "    \n",
    "    history = {'d_losses':[], 'prop_machine':[],\n",
    "               'prob_human':[], 'prob_noise':[], 'color':[]}\n",
    "\n",
    "    generator.eval()\n",
    "    generator.note_ax.to_train=True\n",
    "    generator.note_ax.apply_T=False\n",
    "        \n",
    "    for epoch in range(num_epochs):        \n",
    "        start_time = time.time()\n",
    "        for i, [x_batch,ch_batch] in tqdm(enumerate(X_loader)):\n",
    "            try:\n",
    "                x_batch = x_batch.cuda()\n",
    "                ch_batch = ch_batch.cuda()\n",
    "                \n",
    "                #x_batch[:,:,:,2] = x_batch[:,:,:,0] #1 #x_batch[:,:,:,0]\n",
    "                ch_batch[:,:,:,2] = ch_batch[:,:,:,0] # 1 #ch_batch[:,:,:,0]\n",
    "\n",
    "                # Optimize D  \n",
    "                # rand_like ones_like            \n",
    "                noise_example = sample_sound(torch.rand_like(x_batch).cuda()), x_batch\n",
    "                true_example = ch_batch , x_batch\n",
    "                p_true_example = discriminator(*true_example)\n",
    "                p_noise_example = discriminator(*noise_example)\n",
    "                loss = d_loss(p_noise_example, p_true_example)\n",
    "                d_optimizer.zero_grad()\n",
    "                loss.backward()\n",
    "                d_optimizer.step()            \n",
    "\n",
    "                # machine generation\n",
    "                data_gen, sound = generator(x_batch,ch_batch)\n",
    "#                 sound = sample_sound(data_gen).data          \n",
    "                false_example = sound, x_batch\n",
    "                true_example = ch_batch, x_batch\n",
    "                p_true_example = discriminator(*true_example)\n",
    "                p_false_example = discriminator(*false_example)\n",
    "                loss = d_loss(p_false_example, p_true_example)\n",
    "                \n",
    "                d_optimizer.zero_grad()\n",
    "                loss.backward()\n",
    "                d_optimizer.step()\n",
    "                \n",
    "                # history\n",
    "                history['d_losses'].append(loss.data.cpu().numpy())\n",
    "                history['prop_machine'].append(p_false_example.mean().data.cpu().numpy())\n",
    "                history['prob_human'].append(p_true_example.mean().data.cpu().numpy())\n",
    "                history['prob_noise'].append(p_noise_example.mean())\n",
    "                \n",
    "            except KeyboardInterrupt:\n",
    "                return history, True\n",
    "\n",
    "    #       # Visualize\n",
    "        if verbose:\n",
    "            display.clear_output(wait=True)\n",
    "            plt.figure(figsize=(16, 6))\n",
    "\n",
    "            # Then we print the results for this epoch:\n",
    "            print(\"Epoch {} of {} took {:.3f}s\".format(\n",
    "                epoch + 1, num_epochs, time.time() - start_time)) \n",
    "            print('mean probability of human generation: {}'.format(history['prob_human'][-1]))\n",
    "#             print('mean probability of noise generation: {}'.format(prob_noise[-1]))\n",
    "            print('mean probability of machine generation: {}'.format(history['prop_machine'][-1]))\n",
    "\n",
    "            plt.title(\"losses\")\n",
    "            plt.subplot(121)\n",
    "            plt.plot(history['prob_human'],label = \"probability of human generation\")\n",
    "            plt.plot(history['prop_machine'],label = \"probability of machine generation\")\n",
    "            plt.legend()\n",
    "            plt.subplot(122)\n",
    "            plt.plot(history['d_losses'],label = \"Discriminator loss\")\n",
    "            plt.legend()\n",
    "            plt.show()\n",
    "                \n",
    "            \n",
    "    return history, False"
   ]
  },
  {
   "cell_type": "code",
   "execution_count": 45,
   "metadata": {},
   "outputs": [],
   "source": [
    "# h= train_discriminator( num_epochs = 1, d_lr=1e-3)"
   ]
  },
  {
   "cell_type": "code",
   "execution_count": 46,
   "metadata": {},
   "outputs": [],
   "source": [
    "def train_generator(num_epochs = 3,g_lr = 0.001, verbose=True, monte_carlo=True, \n",
    "                    entropy_loss = True, teacher_forcing = 2):\n",
    "    \n",
    "    g_optimizer = torch.optim.Adam(generator.parameters(),  lr=g_lr, betas=(0.5, 0.999))#, betas=(0.5, 0.999))\n",
    "    \n",
    "    history = {'g_losses':[],'prop_machine':[],\n",
    "               'prob_human':[],'prob_confidence':[],'prob_noise':[],\n",
    "                  'EB_true':[], 'UPC_true':[], 'QN_true':[], 'EB_false':[], 'UPC_false':[], 'QN_false':[]}\n",
    "    \n",
    "    generator.train()\n",
    "    generator.note_ax.to_train=True\n",
    "    generator.note_ax.apply_T=False\n",
    "    \n",
    "    X_loader = torch.utils.data.DataLoader(\\\n",
    "            torch.utils.data.TensorDataset(\\\n",
    "            *(torch.FloatTensor(X_tr),\n",
    "            torch.FloatTensor(y_tr))),\\\n",
    "            batch_size=8,shuffle=True)\n",
    "\n",
    "    for epoch in range(num_epochs):\n",
    "        start_time = time.time()\n",
    "        for i, [x_batch,ch_batch] in tqdm(enumerate(X_loader)):\n",
    "            \n",
    "            try:\n",
    "                \n",
    "                x_batch = x_batch.cuda()\n",
    "                ch_batch = ch_batch.cuda()\n",
    "                \n",
    "                #x_batch[:,:,:,2] = x_batch[:,:,:,0] #1 #x_batch[:,:,:,0]\n",
    "                ch_batch[:,:,:,2] = ch_batch[:,:,:,0] #1 #ch_batch[:,:,:,0]\n",
    "\n",
    "                # baseline\n",
    "                p_baseline = baseline(x_batch,ch_batch)\n",
    "\n",
    "                #generator\n",
    "                # monte carlo false example sampling\n",
    "                data_gen, sound = generator(x_batch,ch_batch)\n",
    "                if monte_carlo:\n",
    "                    p_false_examples = []\n",
    "                    sounds = []\n",
    "\n",
    "                    for _ in range(5):                  \n",
    "    #                     sound = sample_sound(data_gen).data                 \n",
    "                        false_example = sound.detach(), x_batch.detach()\n",
    "                        p_false_example = discriminator(*false_example)\n",
    "                        p_false_examples.append(p_false_example)\n",
    "                        sounds.append(sound)\n",
    "                else:\n",
    "    #                 sound = sample_sound(data_gen).data                 \n",
    "                    false_example = sound.detach(), x_batch.detach()\n",
    "                    p_false_example = discriminator(*false_example)\n",
    "\n",
    "\n",
    "                true_example = ch_batch.detach(), x_batch.detach()\n",
    "                p_true_example = discriminator(*true_example)\n",
    "\n",
    "                # Optimize G  \n",
    "                handle = np.random.randint(0,teacher_forcing-1)\n",
    "#                 handle = 0\n",
    "                if handle != 0:\n",
    "                    if monte_carlo:\n",
    "                        loss, confidence = g_loss_monte_carlo(p_false_examples,\n",
    "                                  sounds,data_gen,p_baseline)\n",
    "\n",
    "                    else:\n",
    "                        loss, confidence = g_loss(p_false_example,\n",
    "                                  sound,data_gen,p_baseline)\n",
    "\n",
    "                else:\n",
    "                    # teaher forcing\n",
    "                    loss, confidence = g_loss(1,\n",
    "                                  ch_batch,data_gen,p_baseline)\n",
    "\n",
    "                if entropy_loss:\n",
    "                    loss+=compute_loss(data_gen, ch_batch)   \n",
    "                    \n",
    "                g_optimizer.zero_grad()\n",
    "                loss.backward()\n",
    "                g_optimizer.step()\n",
    "                \n",
    "            except KeyboardInterrupt:\n",
    "                return history, True\n",
    "        \n",
    "            # history\n",
    "            history['g_losses'].append(loss.data.cpu().numpy())\n",
    "            history['prob_human'].append(p_true_example.mean().data.cpu().numpy())\n",
    "            history['prop_machine'].append(p_false_example.mean().data.cpu().numpy())\n",
    "            history['prob_confidence'].append(confidence.mean().data.cpu().numpy())\n",
    "            history['EB_true'].append(EB(ch_batch).mean().data.cpu().numpy())\n",
    "            history['UPC_true'].append(UPC(ch_batch).mean().data.cpu().numpy())\n",
    "            history['QN_true'].append(QN(ch_batch).mean().data.cpu().numpy())\n",
    "            history['EB_false'].append(EB(sound).mean().data.cpu().numpy())\n",
    "            history['UPC_false'].append(UPC(sound).mean().data.cpu().numpy())\n",
    "            history['QN_false'].append(QN(sound).mean().data.cpu().numpy())\n",
    "            \n",
    "            writer.add_scalar('/data/i.anokhin/music_out/tensorboard/mp', history['prop_machine'][-1], len(X_loader))\n",
    "\n",
    "        # Visualize\n",
    "        if verbose:\n",
    "            display.clear_output(wait=True)\n",
    "            plt.figure(figsize=(16, 6))\n",
    "\n",
    "            # Then we print the results for this epoch:\n",
    "            print(\"Epoch {} of {} took {:.3f}s\".format(\n",
    "                epoch + 1, num_epochs, time.time() - start_time)) \n",
    "            print('mean probability of human generation: {}'.format(history['prob_human'][-1]))\n",
    "            print('mean probability of machine generation: {}'.format(history['prop_machine'][-1]))\n",
    "    #         print('mean probability of noise generation: {}'.format(prob_noise[-1]))\n",
    "            print('mean probability of machine generation confidence: {}'.format(history['prob_confidence'][-1]))\n",
    "\n",
    "\n",
    "            plt.title(\"losses\")\n",
    "            plt.subplot(231)\n",
    "            plt.plot(history['prob_human'], label = \"Human probability\")\n",
    "            plt.plot(history['prop_machine'], label = \"Machine probability\")\n",
    "            plt.legend()\n",
    "            plt.subplot(232)\n",
    "            plt.plot(history['g_losses'], label = \"Generator loss\")\n",
    "            plt.legend()\n",
    "            plt.subplot(233)\n",
    "            plt.plot(history['prob_confidence'],label = \"Machine confidence\")\n",
    "            plt.legend()\n",
    "            plt.subplot(234)\n",
    "            plt.plot(history['EB_true'],label = \"EB_true\")\n",
    "            plt.plot(history['EB_false'],label = \"EB_false\")\n",
    "            plt.legend()\n",
    "            plt.subplot(235)\n",
    "            plt.plot(history['UPC_true'],label = \"UPC_true\")\n",
    "            plt.plot(history['UPC_false'],label = \"UPC_false\")\n",
    "            plt.legend()\n",
    "            plt.subplot(236)\n",
    "            plt.plot(history['QN_true'],label = \"QN_true\")\n",
    "            plt.plot(history['QN_false'],label = \"QN_false\")\n",
    "            plt.legend()\n",
    "            plt.show()\n",
    "  \n",
    "    return history, False"
   ]
  },
  {
   "cell_type": "code",
   "execution_count": 47,
   "metadata": {},
   "outputs": [],
   "source": [
    "# train_generator(num_epochs = 100, g_lr=1e-3, verbose = True)"
   ]
  },
  {
   "cell_type": "code",
   "execution_count": 48,
   "metadata": {},
   "outputs": [],
   "source": [
    "def train_baseline(num_epochs = 3, b_lr = 0.001, verbose=True):\n",
    "    \n",
    "    bl_optimizer = torch.optim.Adam(baseline.parameters(),  lr=b_lr)\n",
    "    \n",
    "    bl_losses = []\n",
    "    prob_baseline = []     \n",
    "    generator.eval()\n",
    "    \n",
    "    for epoch in range(num_epochs):\n",
    "        start_time = time.time()\n",
    "        for i, [x_batch,ch_batch] in tqdm(enumerate(X_loader)):\n",
    "            \n",
    "            x_batch = x_batch.cuda()\n",
    "            ch_batch = ch_batch.cuda()\n",
    "            \n",
    "            ch_batch[:,:,:,2] = ch_batch[:,:,:,0]\n",
    "            \n",
    "            # Optimize BL\n",
    "            data_gen, sound = generator(x_batch,ch_batch)\n",
    "#             sound = sample_sound(data_gen).data\n",
    "            false_example = sound.detach(), x_batch.detach()\n",
    "            p_baseline = baseline(x_batch,ch_batch)\n",
    "            p_false_example = discriminator(*false_example)\n",
    "            loss = bl_loss(p_baseline, p_false_example)\n",
    "            \n",
    "            bl_optimizer.zero_grad()\n",
    "            loss.backward()\n",
    "            bl_optimizer.step()\n",
    "            \n",
    "            # history\n",
    "            bl_losses.append(loss.data.cpu().numpy())\n",
    "            prob_baseline.append(p_baseline.mean().data.cpu().numpy())\n",
    "\n",
    "            \n",
    "    return np.array(prob_baseline),np.array(bl_losses)"
   ]
  },
  {
   "cell_type": "code",
   "execution_count": 49,
   "metadata": {},
   "outputs": [],
   "source": [
    "# discriminator = FeaturedLstmDiscriminator(hidden_size=1000,last_dim=78*2).cuda()\n",
    "# generator = Generator().cuda()\n",
    "# generator.load_state_dict(torch.load(os.path.join(OUT_DIR, 'model_canonical_attention')))"
   ]
  },
  {
   "cell_type": "code",
   "execution_count": 50,
   "metadata": {
    "scrolled": false
   },
   "outputs": [],
   "source": [
    "# history, _ = train_discriminator( num_epochs = 40, d_lr=1e-3)"
   ]
  },
  {
   "cell_type": "code",
   "execution_count": 51,
   "metadata": {},
   "outputs": [],
   "source": [
    "# plt.figure(figsize=(16, 6))\n",
    "\n",
    "# plt.title(\"losses\")\n",
    "# plt.subplot(121)\n",
    "# plt.plot(history['prob_human'],label = \"probability of human generation\")\n",
    "# plt.plot(history['prop_machine'],label = \"probability of machine generation\")\n",
    "# plt.legend()\n",
    "# plt.subplot(122)\n",
    "# plt.plot(history['d_losses'],label = \"Discriminator loss\")\n",
    "# plt.legend()\n",
    "# plt.show()"
   ]
  },
  {
   "cell_type": "code",
   "execution_count": 52,
   "metadata": {},
   "outputs": [],
   "source": [
    "# torch.save(discriminator.state_dict(), os.path.join(OUT_DIR, 'discriminator'))"
   ]
  },
  {
   "cell_type": "code",
   "execution_count": 17,
   "metadata": {},
   "outputs": [],
   "source": [
    "# generator.load_state_dict(torch.load(os.path.join(OUT_DIR, 'model_canonical')))\n",
    "# baseline = LSTM_baseline(hidden_size=10).cuda()\n",
    "# generator,prob_human, prop_machine, prob_confidence, g_losses= train_generator(generator, discriminator, baseline, X_loader, num_epochs = 30, g_lr=1e-3)"
   ]
  },
  {
   "cell_type": "code",
   "execution_count": 18,
   "metadata": {},
   "outputs": [],
   "source": [
    "PATH = '/data/i.anokhin/'"
   ]
  },
  {
   "cell_type": "code",
   "execution_count": 19,
   "metadata": {},
   "outputs": [],
   "source": [
    "def plot_history(history):\n",
    "    \n",
    "    plt.figure(figsize=(16, 6))\n",
    "    plt.title(\"losses\")\n",
    "    plt.subplot(331)\n",
    "    plt.plot(history['g_losses'],label = \"Generator loss\")\n",
    "    plt.legend()\n",
    "    plt.subplot(332)\n",
    "    plt.plot(history['d_losses'],label = \"Discriminator loss\")\n",
    "    plt.legend(loc=2)\n",
    "    plt.subplot(333)\n",
    "    plt.plot(history['bl_losses'],label = \"Baseline loss\")\n",
    "    plt.legend()\n",
    "    plt.subplot(334)\n",
    "    g_machine = np.asarray(history['prop_machine'].copy())\n",
    "    d_machine = np.asarray(history['prop_machine'].copy())\n",
    "    g_machine[np.asarray(history['color']) == 1] = np.nan\n",
    "    d_machine[np.asarray(history['color']) == 0] = np.nan\n",
    "    plt.plot(g_machine, 'o', label = \"Machine P - generator\", color = 'blue' )\n",
    "    plt.plot(d_machine, 'o', label = \"Machine P - discriminator\", color = 'orange' )\n",
    "    plt.plot(history['prob_human'], 'o', label = \"Human P\", color = 'green')\n",
    "    plt.legend(loc=2)\n",
    "    plt.subplot(335)\n",
    "    plt.plot(history['prob_confidence'],label = \"Machine confidence\")\n",
    "    plt.legend()\n",
    "    plt.subplot(336)\n",
    "    plt.plot(history['prop_baseline'],label = \"Baseline probabilyty\")\n",
    "    plt.legend()\n",
    "    plt.subplot(337)\n",
    "    plt.plot(history['EB_true'],label = \"EB_true\")\n",
    "    plt.plot(history['EB_false'],label = \"EB_false\")\n",
    "    plt.legend()\n",
    "    plt.subplot(338)\n",
    "    plt.plot(history['UPC_true'],label = \"UPC_true\")\n",
    "    plt.plot(history['UPC_false'],label = \"UPC_false\")\n",
    "    plt.legend()\n",
    "    plt.subplot(339)\n",
    "    plt.plot(history['QN_true'],label = \"QN_true\")\n",
    "    plt.plot(history['QN_false'],label = \"QN_false\")\n",
    "    plt.legend()\n",
    "    plt.show()\n",
    "    \n",
    "    \n",
    "def train_GAN(g_lr = 0.001, d_lr = 0.001, bl_lr = 0.001, history = None, criterion=True, \n",
    "              verbose=True, dump_history=True):\n",
    "    \n",
    "    history_pattern = {'d_losses':[],'g_losses':[],'bl_losses':[],'prop_machine':[],\n",
    "               'prob_human':[],'prob_confidence':[1,],'prop_baseline':[], 'prob_noise':[], 'color':[],\n",
    "                  'EB_true':[], 'UPC_true':[], 'QN_true':[], 'EB_false':[], 'UPC_false':[], 'QN_false':[]}\n",
    "    \n",
    "    if not history:     \n",
    "        history = history_pattern\n",
    "    \n",
    "    epoch = 0\n",
    "    n_epochs = 5000\n",
    "    it_generator = 0\n",
    "    it_discriminator = 0\n",
    "\n",
    "    while epoch<n_epochs:\n",
    "        start_time = time.time()\n",
    "        epoch+=1\n",
    "        \n",
    "        try:  \n",
    "            \n",
    "            #if ((epoch % 1) ==0):\n",
    "            if dump_history:\n",
    "                    pickle.dump(history, open(PATH+'rl_history'+str(epoch)+'.p', \"wb\" ))\n",
    "                    history = history_pattern\n",
    "\n",
    "              \n",
    "            if criterion:\n",
    "                print('discriminator trainnig')\n",
    "                if it_generator>0:\n",
    "                    write_file('output/rl_test_'+str(epoch), generate(generator, 32, to_train=True))\n",
    "                    torch.save(generator.state_dict(), PATH+'generator_'+str(epoch))\n",
    "                    \n",
    "                it_generator = 0\n",
    "                it_discriminator+=1\n",
    "                \n",
    "                generator.eval()\n",
    "                h, flag = train_discriminator(num_epochs = 1, d_lr=d_lr, verbose = False)\n",
    "                \n",
    "                for k in h.keys():\n",
    "                    history[k].extend(h[k])\n",
    "                history['color'].extend(np.ones(len(h['prob_human'])))\n",
    "                \n",
    "            else: \n",
    "                print('generator trainnig')\n",
    "                if it_discriminator>0:\n",
    "                    torch.save(discriminator.state_dict(), PATH+'discriminator_'+str(epoch))\n",
    "                    \n",
    "                it_discriminator = 0\n",
    "                \n",
    "                p_baseline, bl_l = train_baseline(num_epochs = 1,b_lr = bl_lr, verbose=False)\n",
    "                history['prop_baseline'].extend(p_baseline)\n",
    "                history['bl_losses'].extend(bl_l) \n",
    "\n",
    "                it_generator+=1\n",
    "                generator.train()\n",
    "                h, flag = train_generator(num_epochs = 3, g_lr=g_lr, verbose = False, \n",
    "                                    monte_carlo = False, teacher_forcing=2, entropy_loss = True)\n",
    "                \n",
    "                for k in h.keys():\n",
    "                    history[k].extend(h[k])\n",
    "                history['color'].extend(np.zeros(len(h['prob_human'])))\n",
    "                \n",
    "            p_human = np.array(history['prob_human'][-100:])\n",
    "            p_machine =  np.array(history['prop_machine'][-100:])\n",
    "            diff = np.maximum(p_human-p_machine,0).mean()\n",
    "            criterion = (diff<0.1) or (p_human.mean()<0.8 and diff<0.3)\n",
    "#             and it_generator>5\n",
    "#             or (p_human.mean()<0.9 and diff<0.3)\n",
    "            if flag:\n",
    "                return epoch, history\n",
    "                \n",
    "        except KeyboardInterrupt:\n",
    "            return epoch, history  \n",
    "                    \n",
    "        \n",
    "        if verbose:\n",
    "            # Visualize\n",
    "            display.clear_output(wait=True)\n",
    "            # Then we print the results for this epoch:\n",
    "            if history['color'][-1]==0:\n",
    "                tr = 'generator trainig'\n",
    "            else: tr = 'last trainig - discriminator '\n",
    "            print(\"Epoch {} of {} took {:.3f}s, format {}\".format(\n",
    "                epoch, n_epochs, time.time() - start_time, tr))\n",
    "            print('mean probability of machine generation: {}'.format(history['prop_machine'][-1]))\n",
    "            print('mean probability of human generation: {}'.format(history['prob_human'][-1]))\n",
    "        #         print('mean probability of noise generation: {}'.format(prob_noise[-1]))\n",
    "            print('mean probability of machine generation confidence: {}'.format(history['prob_confidence'][-1]))\n",
    "\n",
    "            plot_history(history)\n",
    "            \n",
    "    return epoch, history"
   ]
  },
  {
   "cell_type": "code",
   "execution_count": 20,
   "metadata": {},
   "outputs": [],
   "source": [
    "# epoch = 5\n",
    "# write_file('output/rl_test_'+str(epoch), generate(generator, 32, to_train=True))"
   ]
  },
  {
   "cell_type": "code",
   "execution_count": 21,
   "metadata": {},
   "outputs": [],
   "source": [
    "# discriminator = FeaturedLstmDiscriminator(hidden_size=1000,last_dim=78*2).cuda()\n",
    "# generator = Generator().cuda()\n",
    "# baseline = LstmBaseline(hidden_size=40).cuda()\n",
    "\n",
    "# generator.load_state_dict(torch.load(os.path.join(OUT_DIR, 'model_test2'))) #model_test2 enerator_rl\n",
    "# discriminator.load_state_dict(torch.load(os.path.join(OUT_DIR, 'discriminator')))"
   ]
  },
  {
   "cell_type": "code",
   "execution_count": 22,
   "metadata": {},
   "outputs": [],
   "source": [
    "# discriminator.load_state_dict(torch.load(os.path.join(OUT_DIR, 'discriminator')))\n",
    "# generator.note_ax.to_train=True\n",
    "# generator.note_ax.apply_T=False\n",
    "# generator.train()"
   ]
  },
  {
   "cell_type": "code",
   "execution_count": 23,
   "metadata": {},
   "outputs": [],
   "source": [
    "# h= train_discriminator( num_epochs = 20, d_lr=1e-3)"
   ]
  },
  {
   "cell_type": "code",
   "execution_count": 24,
   "metadata": {},
   "outputs": [],
   "source": [
    "# p_baseline, bl_l = train_baseline(num_epochs = 1,b_lr = 0.001, verbose=False)"
   ]
  },
  {
   "cell_type": "code",
   "execution_count": 25,
   "metadata": {},
   "outputs": [],
   "source": [
    "# generator = Generator().cuda()\n",
    "# generator.load_state_dict(torch.load(os.path.join(OUT_DIR, 'model_canonical_attention')))\n",
    "# generator.train()\n",
    "# h  = train_generator(num_epochs = 1, g_lr=1e-3, verbose = True, monte_carlo = False, \n",
    "#                      teacher_forcing=3, entropy_loss = True)"
   ]
  },
  {
   "cell_type": "code",
   "execution_count": 26,
   "metadata": {},
   "outputs": [],
   "source": [
    "discriminator = FeaturedLstmDiscriminator(hidden_size=1000).cuda()\n",
    "generator = Generator().cuda()\n",
    "baseline = LstmBaseline(hidden_size=40).cuda()"
   ]
  },
  {
   "cell_type": "code",
   "execution_count": 32,
   "metadata": {},
   "outputs": [],
   "source": [
    "# torch.save(generator.state_dict(), '/data/i.anokhin/generator2')\n",
    "# torch.save(discriminator.state_dict(), '/data/i.anokhin/discriminator2')\n",
    "# torch.save(baseline.state_dict(), '/data/i.anokhin/baseline')\n",
    "# generator.load_state_dict(torch.load('/data/i.anokhin/generator'))\n",
    "generator.load_state_dict(torch.load(os.path.join(OUT_DIR+'/generator')))\n",
    "discriminator.load_state_dict(torch.load('/data/i.anokhin/discriminator_11'))\n",
    "# baseline.load_state_dict(torch.load('/data/i.anokhin/baseline'))"
   ]
  },
  {
   "cell_type": "code",
   "execution_count": 53,
   "metadata": {},
   "outputs": [],
   "source": [
    "# generator.load_state_dict(torch.load(os.path.join(OUT_DIR, 'model_test2')))\n",
    "writer = SummaryWriter()\n",
    "history = None"
   ]
  },
  {
   "cell_type": "code",
   "execution_count": 54,
   "metadata": {},
   "outputs": [
    {
     "name": "stderr",
     "output_type": "stream",
     "text": [
      "\n",
      "0it [00:00, ?it/s]\u001b[A\n",
      "1it [00:00,  5.69it/s]\u001b[A"
     ]
    },
    {
     "name": "stdout",
     "output_type": "stream",
     "text": [
      "generator trainnig\n"
     ]
    },
    {
     "name": "stderr",
     "output_type": "stream",
     "text": [
      "\n",
      "2it [00:00,  5.95it/s]\u001b[A\n",
      "3it [00:00,  6.09it/s]\u001b[A\n",
      "4it [00:00,  6.13it/s]\u001b[A\n",
      "5it [00:00,  6.15it/s]\u001b[A\n",
      "6it [00:00,  6.17it/s]\u001b[A\n",
      "7it [00:01,  6.20it/s]\u001b[A\n",
      "8it [00:01,  6.22it/s]\u001b[A\n",
      "9it [00:01,  6.24it/s]\u001b[A\n",
      "10it [00:01,  6.26it/s]\u001b[A\n",
      "11it [00:01,  6.67it/s]\u001b[A\n",
      "0it [00:00, ?it/s]\u001b[A\n",
      "1it [00:00,  4.32it/s]\u001b[A\n",
      "2it [00:00,  4.32it/s]\u001b[A\n",
      "3it [00:00,  4.35it/s]\u001b[A\n",
      "4it [00:00,  4.37it/s]\u001b[A\n",
      "5it [00:01,  4.38it/s]\u001b[A\n",
      "6it [00:01,  4.40it/s]\u001b[A\n",
      "7it [00:01,  4.40it/s]\u001b[A\n",
      "8it [00:01,  4.40it/s]\u001b[A\n",
      "9it [00:02,  4.41it/s]\u001b[A\n",
      "10it [00:02,  4.41it/s]\u001b[A\n",
      "11it [00:02,  4.69it/s]\u001b[A\n",
      "0it [00:00, ?it/s]\u001b[A\n",
      "1it [00:00,  4.38it/s]\u001b[A\n",
      "2it [00:00,  4.33it/s]\u001b[A\n",
      "3it [00:00,  4.36it/s]\u001b[A\n",
      "Exception in thread Thread-59:\n",
      "Traceback (most recent call last):\n",
      "  File \"/opt/miniconda/lib/python3.6/threading.py\", line 916, in _bootstrap_inner\n",
      "    self.run()\n",
      "  File \"/opt/miniconda/lib/python3.6/site-packages/tqdm/_monitor.py\", line 62, in run\n",
      "    for instance in self.tqdm_cls._instances:\n",
      "  File \"/opt/miniconda/lib/python3.6/_weakrefset.py\", line 60, in __iter__\n",
      "    for itemref in self.data:\n",
      "RuntimeError: Set changed size during iteration\n",
      "\n",
      "11it [00:02,  4.59it/s]\n",
      "11it [00:02,  4.72it/s]\n",
      "  0%|          | 1/512 [00:00<01:05,  7.79it/s]"
     ]
    },
    {
     "name": "stdout",
     "output_type": "stream",
     "text": [
      "discriminator trainnig\n",
      "Generating with no styles:\n"
     ]
    },
    {
     "name": "stderr",
     "output_type": "stream",
     "text": [
      " 11%|█         | 56/512 [00:06<00:52,  8.70it/s]\n"
     ]
    }
   ],
   "source": [
    "generator.train()\n",
    "generator.note_ax.to_train=True\n",
    "generator.note_ax.apply_T=False\n",
    "epoch, history = train_GAN(g_lr = 1e-3,d_lr=1e-3, bl_lr = 1e-3, history = history, criterion=False, verbose=False)"
   ]
  },
  {
   "cell_type": "code",
   "execution_count": 55,
   "metadata": {},
   "outputs": [
    {
     "data": {
      "image/png": "[encoded data removed]",
      "text/plain": [
       "<Figure size 1152x432 with 9 Axes>"
      ]
     },
     "metadata": {},
     "output_type": "display_data"
    }
   ],
   "source": [
    "plot_history(history)"
   ]
  },
  {
   "cell_type": "code",
   "execution_count": 41,
   "metadata": {},
   "outputs": [
    {
     "name": "stderr",
     "output_type": "stream",
     "text": [
      "\n",
      "  0%|          | 0/512 [00:00<?, ?it/s]\u001b[A\n",
      "  0%|          | 1/512 [00:00<01:31,  5.60it/s]\u001b[A"
     ]
    },
    {
     "name": "stdout",
     "output_type": "stream",
     "text": [
      "Generating with no styles:\n"
     ]
    },
    {
     "name": "stderr",
     "output_type": "stream",
     "text": [
      "\n",
      "  0%|          | 2/512 [00:00<01:16,  6.63it/s]\u001b[A\n",
      "  1%|          | 3/512 [00:00<01:11,  7.09it/s]\u001b[A\n",
      "  1%|          | 4/512 [00:00<01:09,  7.36it/s]\u001b[A\n",
      "  1%|          | 5/512 [00:00<01:07,  7.51it/s]\u001b[A\n",
      "  1%|          | 6/512 [00:00<01:06,  7.60it/s]\u001b[A\n",
      "  1%|▏         | 7/512 [00:00<01:06,  7.56it/s]\u001b[A\n",
      "  2%|▏         | 8/512 [00:01<01:05,  7.69it/s]\u001b[A\n",
      "  2%|▏         | 9/512 [00:01<01:04,  7.85it/s]\u001b[A\n",
      "  2%|▏         | 10/512 [00:01<01:02,  7.98it/s]\u001b[A\n",
      "  2%|▏         | 11/512 [00:01<01:01,  8.09it/s]\u001b[A\n",
      "  2%|▏         | 12/512 [00:01<01:01,  8.20it/s]\u001b[A\n",
      "  3%|▎         | 13/512 [00:01<01:00,  8.29it/s]\u001b[A\n",
      "  3%|▎         | 14/512 [00:01<00:59,  8.37it/s]\u001b[A\n",
      "  3%|▎         | 15/512 [00:01<00:58,  8.44it/s]\u001b[A\n",
      "  3%|▎         | 16/512 [00:01<00:58,  8.51it/s]\u001b[A\n",
      "  3%|▎         | 17/512 [00:01<00:57,  8.57it/s]\u001b[A\n",
      "  4%|▎         | 18/512 [00:02<00:57,  8.63it/s]\u001b[A\n",
      "  4%|▎         | 19/512 [00:02<00:56,  8.68it/s]\u001b[A\n",
      "  4%|▍         | 20/512 [00:02<00:56,  8.73it/s]\u001b[A\n",
      "  4%|▍         | 21/512 [00:02<00:55,  8.77it/s]\u001b[A\n",
      "  4%|▍         | 22/512 [00:02<00:55,  8.81it/s]\u001b[A\n",
      "  4%|▍         | 23/512 [00:02<00:55,  8.85it/s]\u001b[A\n",
      "  5%|▍         | 24/512 [00:02<00:54,  8.88it/s]\u001b[A\n",
      "  5%|▍         | 25/512 [00:02<00:54,  8.92it/s]\u001b[A\n",
      "  5%|▌         | 26/512 [00:02<00:54,  8.94it/s]\u001b[A\n",
      "  5%|▌         | 27/512 [00:03<00:54,  8.97it/s]\u001b[A\n",
      "  5%|▌         | 28/512 [00:03<00:53,  9.00it/s]\u001b[A\n",
      "  6%|▌         | 29/512 [00:03<00:53,  9.02it/s]\u001b[A\n",
      "  6%|▌         | 30/512 [00:03<00:53,  9.04it/s]\u001b[A\n",
      "  6%|▌         | 31/512 [00:03<00:53,  9.06it/s]\u001b[A\n",
      "  6%|▋         | 32/512 [00:03<00:52,  9.08it/s]\u001b[A\n",
      "  6%|▋         | 33/512 [00:03<00:52,  9.09it/s]\u001b[A\n",
      "  7%|▋         | 34/512 [00:03<00:52,  9.10it/s]\u001b[A\n",
      "  7%|▋         | 35/512 [00:03<00:52,  9.11it/s]\u001b[A\n",
      "  7%|▋         | 36/512 [00:03<00:52,  9.12it/s]\u001b[A\n",
      "  7%|▋         | 37/512 [00:04<00:52,  9.13it/s]\u001b[A\n",
      "  7%|▋         | 38/512 [00:04<00:51,  9.14it/s]\u001b[A\n",
      "  8%|▊         | 39/512 [00:04<00:51,  9.15it/s]\u001b[A\n",
      "  8%|▊         | 40/512 [00:04<00:51,  9.17it/s]\u001b[A\n",
      "  8%|▊         | 41/512 [00:04<00:51,  9.18it/s]\u001b[A\n",
      "  8%|▊         | 42/512 [00:04<00:51,  9.19it/s]\u001b[A\n",
      "  8%|▊         | 43/512 [00:04<00:51,  9.08it/s]\u001b[A\n",
      "  9%|▊         | 44/512 [00:04<00:51,  9.05it/s]\u001b[A\n",
      "  9%|▉         | 45/512 [00:04<00:51,  9.04it/s]\u001b[A\n",
      "  9%|▉         | 46/512 [00:05<00:51,  9.03it/s]\u001b[A\n",
      "Exception in thread Thread-230:\n",
      "Traceback (most recent call last):\n",
      "  File \"/opt/miniconda/lib/python3.6/threading.py\", line 916, in _bootstrap_inner\n",
      "    self.run()\n",
      "  File \"/opt/miniconda/lib/python3.6/site-packages/tqdm/_monitor.py\", line 62, in run\n",
      "    for instance in self.tqdm_cls._instances:\n",
      "  File \"/opt/miniconda/lib/python3.6/_weakrefset.py\", line 60, in __iter__\n",
      "    for itemref in self.data:\n",
      "RuntimeError: Set changed size during iteration\n",
      "\n",
      "100%|██████████| 512/512 [00:52<00:00,  9.68it/s]"
     ]
    },
    {
     "name": "stdout",
     "output_type": "stream",
     "text": [
      "Writing file out/samples/output/rl_test_final_0.mid\n"
     ]
    },
    {
     "name": "stderr",
     "output_type": "stream",
     "text": [
      "\n"
     ]
    }
   ],
   "source": [
    "# generator.time_ax.use_beat\n",
    "generator.note_ax.to_train=True\n",
    "generator.note_ax.apply_T=False\n",
    "# import gc\n",
    "# torch.cuda.empty_cache()\n",
    "\n",
    "generator.eval()\n",
    "# with torch.cuda.device(GPU):\n",
    "write_file('out/samples/output/rl_test_final', generate(generator, 32, to_train=True))"
   ]
  },
  {
   "cell_type": "code",
   "execution_count": null,
   "metadata": {},
   "outputs": [],
   "source": []
  }
 ],
 "metadata": {
  "kernelspec": {
   "display_name": "Python 3",
   "language": "python",
   "name": "python3"
  },
  "language_info": {
   "codemirror_mode": {
    "name": "ipython",
    "version": 3
   },
   "file_extension": ".py",
   "mimetype": "text/x-python",
   "name": "python",
   "nbconvert_exporter": "python",
   "pygments_lexer": "ipython3",
   "version": "3.6.4"
  }
 },
 "nbformat": 4,
 "nbformat_minor": 2
}
