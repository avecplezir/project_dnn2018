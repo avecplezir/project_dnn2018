{
 "cells": [
  {
   "cell_type": "code",
   "execution_count": 2,
   "metadata": {},
   "outputs": [
    {
     "name": "stderr",
     "output_type": "stream",
     "text": [
      "/opt/miniconda/lib/python3.6/site-packages/h5py/__init__.py:36: FutureWarning: Conversion of the second argument of issubdtype from `float` to `np.floating` is deprecated. In future, it will be treated as `np.float64 == np.dtype(float).type`.\n",
      "  from ._conv import register_converters as _register_converters\n"
     ]
    }
   ],
   "source": [
    "import torch,torch.nn as nn\n",
    "import torch.nn.functional as F\n",
    "from torch.autograd import Variable\n",
    "import numpy as np\n",
    "from model import Generator, iterate_minibatches, compute_loss, train\n",
    "from IPython import display\n",
    "import matplotlib.pyplot as plt\n",
    "%matplotlib inline\n",
    "import time\n",
    "import torch.utils.data\n",
    "from tqdm import tqdm\n",
    "from generate import write_file, generate"
   ]
  },
  {
   "cell_type": "code",
   "execution_count": 3,
   "metadata": {},
   "outputs": [],
   "source": [
    "from train_models import LstmDiscriminator, FeaturedLstmDiscriminator, LstmBaseline\n",
    "from scores import EB, UPC, QN"
   ]
  },
  {
   "cell_type": "code",
   "execution_count": 4,
   "metadata": {},
   "outputs": [],
   "source": [
    "def g_loss(p_fake,sound,in_probs,p_baseline, eps = 1e-8):\n",
    "        \n",
    "    probs = sound[:,:,:,:2]*in_probs[:,:,:,:2]\\\n",
    "            +(1-sound[:,:,:,:2])*(1-in_probs[:,:,:,:2])\n",
    "        \n",
    "    return -((probs+eps).log().sum(dim =-1).sum(dim =-1).sum(dim =-1)*(p_fake-p_baseline)).mean(), probs\n",
    "\n",
    "def g_loss_monte_carlo(p_fakes,sounds,in_probs,p_baseline, eps = 1e-8):\n",
    "    \n",
    "    loss = 0\n",
    "    for sound, p_fake in zip(sounds, p_fakes):\n",
    "        probs = sound[:,:,:,:2]*in_probs[:,:,:,:2]\\\n",
    "                +(1-sound[:,:,:,:2])*(1-in_probs[:,:,:,:2])\n",
    "        loss += -((probs+eps).log().sum(dim =-1).sum(dim =-1).sum(dim =-1)*(p_fake-p_baseline)).mean()\n",
    "        \n",
    "    return loss/5, probs\n",
    "\n",
    "def d_loss(p_fake, p_true,eps = 1e-8):\n",
    "    return -(1-p_fake+eps).log().mean()-(p_true+eps).log().mean()\n",
    "    \n",
    "def bl_loss(bl_pred,real_reward):\n",
    "    return (bl_pred-real_reward).pow(2).mean()\n"
   ]
  },
  {
   "cell_type": "code",
   "execution_count": 5,
   "metadata": {},
   "outputs": [],
   "source": [
    "import torch.utils.data\n",
    "\n",
    "def sample_sound(data_gen):\n",
    "    size = data_gen.size()\n",
    "    rand = torch.rand(*size).cuda()\n",
    "    sample = (rand<data_gen).type(torch.FloatTensor).cuda()\n",
    "    sample[:,:,:,2] = 1\n",
    "    return sample\n"
   ]
  },
  {
   "cell_type": "code",
   "execution_count": 6,
   "metadata": {},
   "outputs": [],
   "source": [
    "OCTAVE_NUM = 4\n",
    "NOTE_NUM = 12\n",
    "TIME_SCALE = 128\n",
    "\n",
    "from dataset import load_all\n",
    "from constants import *\n",
    "\n",
    "styles= [['data/test']]\n",
    "train_data, train_labels = load_all(styles, BATCH_SIZE, TIME_SCALE)"
   ]
  },
  {
   "cell_type": "code",
   "execution_count": 7,
   "metadata": {},
   "outputs": [
    {
     "name": "stdout",
     "output_type": "stream",
     "text": [
      "(70, 128, 48, 3)\n"
     ]
    }
   ],
   "source": [
    "X_tr = train_data[0][:]\n",
    "y_tr = train_labels[0][:]\n",
    "print(train_data[0].shape)\n",
    "\n",
    "X_loader = torch.utils.data.DataLoader(\\\n",
    "            torch.utils.data.TensorDataset(\\\n",
    "            *(torch.FloatTensor(X_tr),\n",
    "            torch.FloatTensor(y_tr))),\\\n",
    "            batch_size=8,shuffle=True)"
   ]
  },
  {
   "cell_type": "code",
   "execution_count": 48,
   "metadata": {},
   "outputs": [],
   "source": [
    "def train_discriminator(num_epochs = 3,d_lr = 0.001, verbose = True):\n",
    "\n",
    "    d_optimizer = torch.optim.Adam(discriminator.parameters(), lr=d_lr,) #, weight_decay = 1, betas=(0.5, 0.999))  \n",
    "    \n",
    "    history = {'d_losses':[], 'prop_machine':[],\n",
    "               'prob_human':[], 'prob_noise':[], 'color':[]}\n",
    "\n",
    "\n",
    "        \n",
    "    for epoch in range(num_epochs):        \n",
    "        start_time = time.time()\n",
    "        for i, [x_batch,ch_batch] in tqdm(enumerate(X_loader)):\n",
    "            try:\n",
    "                x_batch = x_batch.cuda()\n",
    "                ch_batch = ch_batch.cuda()\n",
    "\n",
    "                x_batch[:,:,:,2] = 1\n",
    "                ch_batch[:,:,:,2] = 1\n",
    "\n",
    "                # Optimize D  \n",
    "\n",
    "                # rand_like ones_like            \n",
    "                noise_example = sample_sound(torch.rand_like(x_batch).cuda()), x_batch\n",
    "                true_example = ch_batch, x_batch\n",
    "                p_true_example = discriminator(*true_example)\n",
    "                p_noise_example = discriminator(*noise_example)\n",
    "                loss = d_loss(p_noise_example, p_true_example)\n",
    "                d_optimizer.zero_grad()\n",
    "                loss.backward()\n",
    "                d_optimizer.step()            \n",
    "\n",
    "                # machine generation\n",
    "                data_gen, sound = generator(x_batch,ch_batch)\n",
    "#                 sound = sample_sound(data_gen).data          \n",
    "                false_example = sound, x_batch\n",
    "                true_example = ch_batch, x_batch\n",
    "                p_true_example = discriminator(*true_example)\n",
    "                p_false_example = discriminator(*false_example)\n",
    "                loss = d_loss(p_false_example, p_true_example)\n",
    "                \n",
    "                d_optimizer.zero_grad()\n",
    "                loss.backward()\n",
    "                d_optimizer.step()\n",
    "                \n",
    "                # history\n",
    "                history['d_losses'].append(loss.data.cpu().numpy())\n",
    "                history['prop_machine'].append(p_false_example.mean().data.cpu().numpy())\n",
    "                history['prob_human'].append(p_true_example.mean().data.cpu().numpy())\n",
    "                history['prob_noise'].append(p_noise_example.mean())\n",
    "                \n",
    "            except KeyboardInterrupt:\n",
    "                return history\n",
    "\n",
    "    #       # Visualize\n",
    "        if verbose:\n",
    "            display.clear_output(wait=True)\n",
    "            plt.figure(figsize=(16, 6))\n",
    "\n",
    "            # Then we print the results for this epoch:\n",
    "            print(\"Epoch {} of {} took {:.3f}s\".format(\n",
    "                epoch + 1, num_epochs, time.time() - start_time)) \n",
    "            print('mean probability of human generation: {}'.format(history['prob_human'][-1]))\n",
    "#             print('mean probability of noise generation: {}'.format(prob_noise[-1]))\n",
    "            print('mean probability of machine generation: {}'.format(history['prop_machine'][-1]))\n",
    "\n",
    "            plt.title(\"losses\")\n",
    "            plt.subplot(121)\n",
    "            plt.plot(history['prob_human'],label = \"probability of human generation\")\n",
    "            plt.plot(history['prop_machine'],label = \"probability of machine generation\")\n",
    "            plt.legend()\n",
    "            plt.subplot(122)\n",
    "            plt.plot(history['d_losses'],label = \"Discriminator loss\")\n",
    "            plt.legend()\n",
    "            plt.show()\n",
    "                \n",
    "            \n",
    "    return history"
   ]
  },
  {
   "cell_type": "code",
   "execution_count": 49,
   "metadata": {},
   "outputs": [],
   "source": [
    "def train_generator(num_epochs = 3,g_lr = 0.001, verbose=True):\n",
    "    \n",
    "    g_optimizer = torch.optim.Adam(generator.parameters(),  lr=g_lr, betas=(0.5, 0.999))#, betas=(0.5, 0.999))\n",
    "    \n",
    "    history = {'g_losses':[],'prop_machine':[],\n",
    "               'prob_human':[],'prob_confidence':[],'prob_noise':[],\n",
    "                  'EB_true':[], 'UPC_true':[], 'QN_true':[], 'EB_false':[], 'UPC_false':[], 'QN_false':[]}\n",
    "    \n",
    "    monte_carlo = True\n",
    "    \n",
    "    for epoch in range(num_epochs):\n",
    "        start_time = time.time()\n",
    "        for i, [x_batch,ch_batch] in tqdm(enumerate(X_loader)):\n",
    "            \n",
    "            try:\n",
    "                \n",
    "                x_batch = x_batch.cuda()\n",
    "                ch_batch = ch_batch.cuda()\n",
    "\n",
    "                x_batch[:,:,:,2] = 1\n",
    "                ch_batch[:,:,:,2] = 1\n",
    "\n",
    "                # baseline\n",
    "                p_baseline = baseline(x_batch,ch_batch)\n",
    "\n",
    "                #generator\n",
    "                # monte carlo false example sampling\n",
    "                data_gen, sound = generator(x_batch,ch_batch)\n",
    "                if monte_carlo:\n",
    "                    p_false_examples = []\n",
    "                    sounds = []\n",
    "\n",
    "                    for _ in range(5):                  \n",
    "    #                     sound = sample_sound(data_gen).data                 \n",
    "                        false_example = sound.detach(), x_batch.detach()\n",
    "                        p_false_example = discriminator(*false_example)\n",
    "                        p_false_examples.append(p_false_example)\n",
    "                        sounds.append(sound)\n",
    "                else:\n",
    "    #                 sound = sample_sound(data_gen).data                 \n",
    "                    false_example = sound.detach(), x_batch.detach()\n",
    "                    p_false_example = discriminator(*false_example)\n",
    "\n",
    "\n",
    "                true_example = ch_batch.detach(), x_batch.detach()\n",
    "                p_true_example = discriminator(*true_example)\n",
    "\n",
    "                # Optimize G  \n",
    "                handle = np.random.randint(0,2)\n",
    "                if handle == 0:\n",
    "                    if monte_carlo:\n",
    "                        loss, confidence = g_loss_monte_carlo(p_false_examples,\n",
    "                                  sounds,data_gen,p_baseline)\n",
    "\n",
    "                    else:\n",
    "                        loss, confidence = g_loss(p_false_example,\n",
    "                                  sound,data_gen,p_baseline)\n",
    "\n",
    "                else:\n",
    "                    loss, confidence = g_loss(1,\n",
    "                                  ch_batch,data_gen,p_baseline)\n",
    "\n",
    "\n",
    "                loss+=compute_loss(data_gen, ch_batch)    \n",
    "    #             loss +=  (QN(sound)-QN(ch_batch)).pow(2).mean()\n",
    "                g_optimizer.zero_grad()\n",
    "                loss.backward()\n",
    "                g_optimizer.step()\n",
    "\n",
    "                # history\n",
    "                history['g_losses'].append(loss.data.cpu().numpy())\n",
    "                history['prob_human'].append(p_true_example.mean().data.cpu().numpy())\n",
    "                history['prop_machine'].append(p_false_example.mean().data.cpu().numpy())\n",
    "                history['prob_confidence'].append(confidence.mean().data.cpu().numpy())\n",
    "                history['EB_true'].append(EB(ch_batch).mean().data.cpu().numpy())\n",
    "                history['UPC_true'].append(UPC(ch_batch).mean().data.cpu().numpy())\n",
    "                history['QN_true'].append(QN(ch_batch).mean().data.cpu().numpy())\n",
    "                history['EB_false'].append(EB(sound).mean().data.cpu().numpy())\n",
    "                history['UPC_false'].append(UPC(sound).mean().data.cpu().numpy())\n",
    "                history['QN_false'].append(QN(sound).mean().data.cpu().numpy())\n",
    "                \n",
    "            except KeyboardInterrupt:\n",
    "                return history\n",
    "\n",
    "        # Visualize\n",
    "        if verbose:\n",
    "            display.clear_output(wait=True)\n",
    "            plt.figure(figsize=(16, 6))\n",
    "\n",
    "            # Then we print the results for this epoch:\n",
    "            print(\"Epoch {} of {} took {:.3f}s\".format(\n",
    "                epoch + 1, num_epochs, time.time() - start_time)) \n",
    "            print('mean probability of human generation: {}'.format(history['prob_human'][-1]))\n",
    "            print('mean probability of machine generation: {}'.format(history['prop_machine'][-1]))\n",
    "    #         print('mean probability of noise generation: {}'.format(prob_noise[-1]))\n",
    "            print('mean probability of machine generation confidence: {}'.format(history['prob_confidence'][-1]))\n",
    "\n",
    "\n",
    "            plt.title(\"losses\")\n",
    "            plt.subplot(231)\n",
    "            plt.plot(history['prob_human'], label = \"Human probability\")\n",
    "            plt.plot(history['prop_machine'], label = \"Machine probability\")\n",
    "            plt.legend()\n",
    "            plt.subplot(232)\n",
    "            plt.plot(history['g_losses'], label = \"Generator loss\")\n",
    "            plt.legend()\n",
    "            plt.subplot(233)\n",
    "            plt.plot(history['prob_confidence'],label = \"Machine confidence\")\n",
    "            plt.legend()\n",
    "            plt.subplot(234)\n",
    "            plt.plot(history['EB_true'],label = \"EB_true\")\n",
    "            plt.plot(history['EB_false'],label = \"EB_false\")\n",
    "            plt.legend()\n",
    "            plt.subplot(235)\n",
    "            plt.plot(history['UPC_true'],label = \"UPC_true\")\n",
    "            plt.plot(history['UPC_false'],label = \"UPC_false\")\n",
    "            plt.legend()\n",
    "            plt.subplot(236)\n",
    "            plt.plot(history['QN_true'],label = \"QN_true\")\n",
    "            plt.plot(history['QN_false'],label = \"QN_false\")\n",
    "            plt.legend()\n",
    "            plt.show()\n",
    "  \n",
    "    return history"
   ]
  },
  {
   "cell_type": "code",
   "execution_count": 50,
   "metadata": {},
   "outputs": [],
   "source": [
    "# train_generator(num_epochs = 100, g_lr=1e-3, verbose = True)"
   ]
  },
  {
   "cell_type": "code",
   "execution_count": 51,
   "metadata": {},
   "outputs": [],
   "source": [
    "def train_baseline(num_epochs = 3, b_lr = 0.001, verbose=True):\n",
    "    \n",
    "    bl_optimizer = torch.optim.Adam(baseline.parameters(),  lr=b_lr)\n",
    "    \n",
    "    bl_losses = []\n",
    "    prob_baseline = []     \n",
    "    \n",
    "    for epoch in range(num_epochs):\n",
    "        start_time = time.time()\n",
    "        for i, [x_batch,ch_batch] in tqdm(enumerate(X_loader)):\n",
    "            \n",
    "            x_batch = x_batch.cuda()\n",
    "            ch_batch = ch_batch.cuda()\n",
    "\n",
    "            x_batch[:,:,:,2] = 1\n",
    "            ch_batch[:,:,:,2] = 1\n",
    "            \n",
    "            # Optimize BL\n",
    "            data_gen, sound = generator(x_batch,ch_batch)\n",
    "#             sound = sample_sound(data_gen).data\n",
    "            false_example = sound.detach(), x_batch.detach()\n",
    "            p_baseline = baseline(x_batch,ch_batch)\n",
    "            p_false_example = discriminator(*false_example)\n",
    "            loss = bl_loss(p_baseline, p_false_example)\n",
    "            \n",
    "            bl_optimizer.zero_grad()\n",
    "            loss.backward()\n",
    "            bl_optimizer.step()\n",
    "            \n",
    "            # history\n",
    "            bl_losses.append(loss.data.cpu().numpy())\n",
    "            prob_baseline.append(p_baseline.mean().data.cpu().numpy())\n",
    "\n",
    "            \n",
    "    return np.array(prob_baseline),np.array(bl_losses)"
   ]
  },
  {
   "cell_type": "code",
   "execution_count": 52,
   "metadata": {},
   "outputs": [],
   "source": [
    "# discriminator = FeaturedLstmDiscriminator(hidden_size=1000,last_dim=78*2).cuda()\n",
    "# generator = Generator().cuda()\n",
    "# generator.load_state_dict(torch.load(os.path.join(OUT_DIR, 'model_canonical_attention')))"
   ]
  },
  {
   "cell_type": "code",
   "execution_count": 53,
   "metadata": {
    "scrolled": false
   },
   "outputs": [],
   "source": [
    "# prob_human, prop_machine, d_losses = train_discriminator( num_epochs = 40, d_lr=1e-3)"
   ]
  },
  {
   "cell_type": "code",
   "execution_count": 54,
   "metadata": {},
   "outputs": [],
   "source": [
    "# torch.save(discriminator.state_dict(), os.path.join(OUT_DIR, 'discriminator'))"
   ]
  },
  {
   "cell_type": "code",
   "execution_count": 55,
   "metadata": {},
   "outputs": [],
   "source": [
    "# generator.load_state_dict(torch.load(os.path.join(OUT_DIR, 'model_canonical')))\n",
    "# baseline = LSTM_baseline(hidden_size=10).cuda()\n",
    "# generator,prob_human, prop_machine, prob_confidence, g_losses= train_generator(generator, discriminator, baseline, X_loader, num_epochs = 30, g_lr=1e-3)"
   ]
  },
  {
   "cell_type": "code",
   "execution_count": 62,
   "metadata": {},
   "outputs": [],
   "source": [
    "def plot_history(history):\n",
    "    \n",
    "    plt.figure(figsize=(16, 6))\n",
    "    plt.title(\"losses\")\n",
    "    plt.subplot(331)\n",
    "    plt.plot(history['g_losses'],label = \"Generator loss\")\n",
    "    plt.legend()\n",
    "    plt.subplot(332)\n",
    "    plt.plot(history['d_losses'],label = \"Discriminator loss\")\n",
    "    plt.legend(loc=2)\n",
    "    plt.subplot(333)\n",
    "    plt.plot(history['bl_losses'],label = \"Baseline loss\")\n",
    "    plt.legend()\n",
    "    plt.subplot(334)\n",
    "    g_machine = np.asarray(history['prop_machine'].copy())\n",
    "    d_machine = np.asarray(history['prop_machine'].copy())\n",
    "    g_machine[np.asarray(history['color']) == 1] = np.nan\n",
    "    d_machine[np.asarray(history['color']) == 0] = np.nan\n",
    "    plt.plot(g_machine, 'o', label = \"Machine P - generator\", color = 'blue' )\n",
    "    plt.plot(d_machine, 'o', label = \"Machine P - discriminator\", color = 'orange' )\n",
    "    plt.plot(history['prob_human'], 'o', label = \"Human P\", color = 'green')\n",
    "    plt.legend(loc=2)\n",
    "    plt.subplot(335)\n",
    "    plt.plot(history['prob_confidence'],label = \"Machine confidence\")\n",
    "    plt.legend()\n",
    "    plt.subplot(336)\n",
    "    plt.plot(history['prop_baseline'],label = \"Baseline probabilyty\")\n",
    "    plt.legend()\n",
    "    plt.subplot(337)\n",
    "    plt.plot(history['EB_true'],label = \"EB_true\")\n",
    "    plt.plot(history['EB_false'],label = \"EB_false\")\n",
    "    plt.legend()\n",
    "    plt.subplot(338)\n",
    "    plt.plot(history['UPC_true'],label = \"UPC_true\")\n",
    "    plt.plot(history['UPC_false'],label = \"UPC_false\")\n",
    "    plt.legend()\n",
    "    plt.subplot(339)\n",
    "    plt.plot(history['QN_true'],label = \"QN_true\")\n",
    "    plt.plot(history['QN_false'],label = \"QN_false\")\n",
    "    plt.legend()\n",
    "    plt.show()\n",
    "    \n",
    "    \n",
    "def train_GAN(g_lr = 0.001, d_lr = 0.001, bl_lr = 0.001, history = None):\n",
    "    \n",
    "    if not history:     \n",
    "        history = {'d_losses':[],'g_losses':[],'bl_losses':[],'prop_machine':[],\n",
    "               'prob_human':[],'prob_confidence':[1,],'prop_baseline':[], 'prob_noise':[], 'color':[],\n",
    "                  'EB_true':[], 'UPC_true':[], 'QN_true':[], 'EB_false':[], 'UPC_false':[], 'QN_false':[]}\n",
    "    \n",
    "    epoch = 0\n",
    "    n_epochs = 100\n",
    "    it_generator = 0\n",
    "    criterion = True\n",
    "\n",
    "    while epoch<n_epochs:\n",
    "        start_time = time.time()\n",
    "        epoch+=1\n",
    "        \n",
    "        try:     \n",
    "            p_baseline, bl_l = train_baseline(num_epochs = 1,b_lr = 0.001, verbose=False)\n",
    "            history['prop_baseline'].extend(p_baseline)\n",
    "            history['bl_losses'].extend(bl_l) \n",
    "            \n",
    "            if criterion:\n",
    "                it_generator = 0\n",
    "                generator.eval()\n",
    "                h= train_discriminator(num_epochs = 1, d_lr=d_lr, verbose = False)\n",
    "                \n",
    "                for k in h.keys():\n",
    "                    history[k].extend(h[k])\n",
    "                history['color'].extend(np.ones(len(h['p_human'])))\n",
    "                \n",
    "            else: \n",
    "                it_generator+=1\n",
    "                generator.train()\n",
    "                h = train_generator(num_epochs = 1, g_lr=g_lr, verbose = True)\n",
    "                \n",
    "                for k in h.keys():\n",
    "                    history[k].extend(h[k])\n",
    "                history['color'].extend(np.zeros(len(h['p_human'])))\n",
    "                \n",
    "            p_human = np.array(history['prob_human'][:-5])\n",
    "            p_machine =  np.array(history['prop_machine'][:-5])\n",
    "            diff = np.maximum(p_human-p_machine,0).mean()\n",
    "            criterion = (diff<0.3) or (p_human.mean()<0.9 and diff<0.3)\n",
    "                \n",
    "        except KeyboardInterrupt:\n",
    "            return history  \n",
    "        \n",
    "        # Visualize\n",
    "        display.clear_output(wait=True)\n",
    "        # Then we print the results for this epoch:\n",
    "        if history['color'][-1]==0:\n",
    "            tr = 'generator trainig'\n",
    "        else: tr = 'discriminator trainig'\n",
    "        print(\"Epoch {} of {} took {:.3f}s, format {}\".format(\n",
    "            epoch, n_epochs, time.time() - start_time, tr))\n",
    "        print('mean probability of machine generation: {}'.format(history['prop_machine'][-1]))\n",
    "        print('mean probability of human generation: {}'.format(history['prob_human'][-1]))\n",
    "    #         print('mean probability of noise generation: {}'.format(prob_noise[-1]))\n",
    "        print('mean probability of machine generation confidence: {}'.format(history['prob_confidence'][-1]))\n",
    "\n",
    "        plot_history(history)\n",
    "\n",
    "            \n",
    "    return generator,discriminator,baseline, history"
   ]
  },
  {
   "cell_type": "code",
   "execution_count": 61,
   "metadata": {},
   "outputs": [],
   "source": [
    "# discriminator = LSTM_discriminator(hidden_size=500, last_dim=6).cuda()\n",
    "discriminator = FeaturedLstmDiscriminator(hidden_size=1000,last_dim=78*2).cuda()\n",
    "generator = Generator().cuda()\n",
    "# generator.load_state_dict(torch.load(os.path.join(OUT_DIR, 'model_canonical')))\n",
    "baseline = LstmBaseline(hidden_size=40).cuda()\n",
    "# generator.load_state_dict(torch.load(os.path.join(OUT_DIR, 'model_canonical_attention2')))\n",
    "generator.load_state_dict(torch.load(os.path.join(OUT_DIR, 'model_track_featured')))\n",
    "# generator.load_state_dict(torch.load(os.path.join(OUT_DIR, 'generator_rl2'))) \n",
    "discriminator.load_state_dict(torch.load(os.path.join(OUT_DIR, 'discriminator')))\n",
    "# generator.load_state_dict(torch.load(os.path.join(OUT_DIR, 'generator_rl')))"
   ]
  },
  {
   "cell_type": "code",
   "execution_count": 44,
   "metadata": {},
   "outputs": [
    {
     "data": {
      "text/plain": [
       "Generator(\n",
       "  (dropout): Dropout(p=0.3)\n",
       "  (time_ax): time_axis(\n",
       "    (attention_layer): MultiHeadAttention(\n",
       "      (attention): ScaledDotProductAttention(\n",
       "        (dropout): Dropout(p=0.1)\n",
       "      )\n",
       "      (proj): Linear(in_features=234, out_features=78, bias=True)\n",
       "      (dropout): Dropout(p=0.1)\n",
       "    )\n",
       "    (FF): PositionwiseFeedForward(\n",
       "      (w_1): Linear(in_features=78, out_features=312, bias=True)\n",
       "      (w_2): Linear(in_features=312, out_features=78, bias=True)\n",
       "      (dropout): Dropout(p=0.1)\n",
       "    )\n",
       "    (time_lstm): LSTM(78, 256, num_layers=2, batch_first=True, dropout=0.1)\n",
       "    (dropout): Dropout(p=0.5, inplace)\n",
       "    (generate_features): feature_generation(\n",
       "      (padding): ZeroPad2d(padding=(11, 12, 0, 0), value=0)\n",
       "      (conv): Conv1d(3, 64, kernel_size=(24,), stride=(1,))\n",
       "    )\n",
       "  )\n",
       "  (note_ax): note_axis(\n",
       "    (note_lstm): LSTM(259, 128, num_layers=2, batch_first=True, dropout=0.1)\n",
       "    (dropout): Dropout(p=0.2, inplace)\n",
       "    (logits): Linear(in_features=138, out_features=3, bias=True)\n",
       "  )\n",
       "  (overall_information): track_feature(\n",
       "    (overall_information): Conv2d(3, 10, kernel_size=(32, 48), stride=(16, 16))\n",
       "    (l): Linear(in_features=70, out_features=10, bias=True)\n",
       "  )\n",
       ")"
      ]
     },
     "execution_count": 44,
     "metadata": {},
     "output_type": "execute_result"
    }
   ],
   "source": [
    "# discriminator.load_state_dict(torch.load(os.path.join(OUT_DIR, 'discriminator')))\n",
    "generator.note_ax.to_train=True\n",
    "generator.note_ax.apply_T=False\n",
    "generator.train()"
   ]
  },
  {
   "cell_type": "code",
   "execution_count": 57,
   "metadata": {},
   "outputs": [
    {
     "name": "stdout",
     "output_type": "stream",
     "text": [
      "Epoch 4 of 40 took 3.958s\n",
      "mean probability of human generation: 0.997027575969696\n",
      "mean probability of machine generation: 0.011039274744689465\n"
     ]
    },
    {
     "data": {
      "image/png": "[encoded data removed]",
      "text/plain": [
       "<Figure size 1152x432 with 2 Axes>"
      ]
     },
     "metadata": {},
     "output_type": "display_data"
    },
    {
     "name": "stderr",
     "output_type": "stream",
     "text": [
      "1it [00:00,  2.22it/s]\n"
     ]
    }
   ],
   "source": [
    "generator.eval()\n",
    "h= train_discriminator( num_epochs = 40, d_lr=1e-3)"
   ]
  },
  {
   "cell_type": "code",
   "execution_count": 33,
   "metadata": {},
   "outputs": [
    {
     "name": "stderr",
     "output_type": "stream",
     "text": [
      "9it [00:01,  6.85it/s]\n",
      "9it [00:01,  7.22it/s]\n"
     ]
    }
   ],
   "source": [
    "p_baseline, bl_l = train_baseline(num_epochs = 2,b_lr = 0.001, verbose=False)"
   ]
  },
  {
   "cell_type": "code",
   "execution_count": 46,
   "metadata": {},
   "outputs": [
    {
     "name": "stderr",
     "output_type": "stream",
     "text": [
      "7it [00:03,  2.21it/s]\n"
     ]
    }
   ],
   "source": [
    "# generator.load_state_dict(torch.load(os.path.join(OUT_DIR, 'model_canonical_attention')))\n",
    "generator.train()\n",
    "h  = train_generator(num_epochs = 10, g_lr=1e-3, verbose = True)"
   ]
  },
  {
   "cell_type": "code",
   "execution_count": 63,
   "metadata": {},
   "outputs": [
    {
     "name": "stderr",
     "output_type": "stream",
     "text": [
      "9it [00:01,  6.29it/s]\n"
     ]
    },
    {
     "ename": "UnboundLocalError",
     "evalue": "local variable 'p_human' referenced before assignment",
     "output_type": "error",
     "traceback": [
      "\u001b[0;31m\u001b[0m",
      "\u001b[0;31mUnboundLocalError\u001b[0mTraceback (most recent call last)",
      "\u001b[0;32m<ipython-input-63-eb500690468f>\u001b[0m in \u001b[0;36m<module>\u001b[0;34m()\u001b[0m\n\u001b[1;32m      2\u001b[0m \u001b[0mgenerator\u001b[0m\u001b[0;34m.\u001b[0m\u001b[0mtrain\u001b[0m\u001b[0;34m(\u001b[0m\u001b[0;34m)\u001b[0m\u001b[0;34m\u001b[0m\u001b[0m\n\u001b[1;32m      3\u001b[0m \u001b[0mhistory\u001b[0m \u001b[0;34m=\u001b[0m \u001b[0;32mNone\u001b[0m\u001b[0;34m\u001b[0m\u001b[0m\n\u001b[0;32m----> 4\u001b[0;31m \u001b[0mhistory\u001b[0m \u001b[0;34m=\u001b[0m \u001b[0mtrain_GAN\u001b[0m\u001b[0;34m(\u001b[0m\u001b[0mg_lr\u001b[0m \u001b[0;34m=\u001b[0m \u001b[0;36m1e-3\u001b[0m\u001b[0;34m,\u001b[0m\u001b[0md_lr\u001b[0m\u001b[0;34m=\u001b[0m\u001b[0;36m1e-3\u001b[0m\u001b[0;34m,\u001b[0m \u001b[0mbl_lr\u001b[0m \u001b[0;34m=\u001b[0m \u001b[0;36m1e-2\u001b[0m\u001b[0;34m,\u001b[0m \u001b[0mhistory\u001b[0m \u001b[0;34m=\u001b[0m \u001b[0mhistory\u001b[0m\u001b[0;34m)\u001b[0m\u001b[0;34m\u001b[0m\u001b[0m\n\u001b[0m",
      "\u001b[0;32m<ipython-input-62-aeee48b7ce1e>\u001b[0m in \u001b[0;36mtrain_GAN\u001b[0;34m(g_lr, d_lr, bl_lr, history)\u001b[0m\n\u001b[1;32m     62\u001b[0m             \u001b[0mhistory\u001b[0m\u001b[0;34m[\u001b[0m\u001b[0;34m'bl_losses'\u001b[0m\u001b[0;34m]\u001b[0m\u001b[0;34m.\u001b[0m\u001b[0mextend\u001b[0m\u001b[0;34m(\u001b[0m\u001b[0mbl_l\u001b[0m\u001b[0;34m)\u001b[0m\u001b[0;34m\u001b[0m\u001b[0m\n\u001b[1;32m     63\u001b[0m \u001b[0;34m\u001b[0m\u001b[0m\n\u001b[0;32m---> 64\u001b[0;31m             \u001b[0;32mif\u001b[0m \u001b[0;34m(\u001b[0m\u001b[0mcriterion\u001b[0m\u001b[0;34m<\u001b[0m\u001b[0;36m0.3\u001b[0m\u001b[0;34m)\u001b[0m \u001b[0;32mor\u001b[0m \u001b[0;34m(\u001b[0m\u001b[0mp_human\u001b[0m\u001b[0;34m.\u001b[0m\u001b[0mmean\u001b[0m\u001b[0;34m(\u001b[0m\u001b[0;34m)\u001b[0m\u001b[0;34m<\u001b[0m\u001b[0;36m0.9\u001b[0m \u001b[0;32mand\u001b[0m \u001b[0mcriterion\u001b[0m\u001b[0;34m<\u001b[0m\u001b[0;36m0.3\u001b[0m\u001b[0;34m)\u001b[0m\u001b[0;34m:\u001b[0m\u001b[0;34m\u001b[0m\u001b[0m\n\u001b[0m\u001b[1;32m     65\u001b[0m                 \u001b[0mit_generator\u001b[0m \u001b[0;34m=\u001b[0m \u001b[0;36m0\u001b[0m\u001b[0;34m\u001b[0m\u001b[0m\n\u001b[1;32m     66\u001b[0m                 \u001b[0mgenerator\u001b[0m\u001b[0;34m.\u001b[0m\u001b[0meval\u001b[0m\u001b[0;34m(\u001b[0m\u001b[0;34m)\u001b[0m\u001b[0;34m\u001b[0m\u001b[0m\n",
      "\u001b[0;31mUnboundLocalError\u001b[0m: local variable 'p_human' referenced before assignment"
     ]
    }
   ],
   "source": [
    "# history = None\n",
    "generator.train()\n",
    "history = None\n",
    "history = train_GAN(g_lr = 1e-3,d_lr=1e-3, bl_lr = 1e-2, history = history)"
   ]
  },
  {
   "cell_type": "code",
   "execution_count": 41,
   "metadata": {},
   "outputs": [],
   "source": [
    "# plot_history(history)"
   ]
  },
  {
   "cell_type": "code",
   "execution_count": 27,
   "metadata": {},
   "outputs": [],
   "source": [
    "# torch.save(generator.state_dict(), os.path.join(OUT_DIR, 'generator_rl2'))"
   ]
  },
  {
   "cell_type": "code",
   "execution_count": 1,
   "metadata": {},
   "outputs": [
    {
     "ename": "NameError",
     "evalue": "name 'generator' is not defined",
     "output_type": "error",
     "traceback": [
      "\u001b[0;31m\u001b[0m",
      "\u001b[0;31mNameError\u001b[0mTraceback (most recent call last)",
      "\u001b[0;32m<ipython-input-1-6a1c5f7d1df0>\u001b[0m in \u001b[0;36m<module>\u001b[0;34m()\u001b[0m\n\u001b[1;32m      3\u001b[0m \u001b[0;31m# torch.cuda.empty_cache()\u001b[0m\u001b[0;34m\u001b[0m\u001b[0;34m\u001b[0m\u001b[0m\n\u001b[1;32m      4\u001b[0m \u001b[0;34m\u001b[0m\u001b[0m\n\u001b[0;32m----> 5\u001b[0;31m \u001b[0mgenerator\u001b[0m\u001b[0;34m.\u001b[0m\u001b[0meval\u001b[0m\u001b[0;34m(\u001b[0m\u001b[0;34m)\u001b[0m\u001b[0;34m\u001b[0m\u001b[0m\n\u001b[0m\u001b[1;32m      6\u001b[0m \u001b[0;31m# with torch.cuda.device(GPU):\u001b[0m\u001b[0;34m\u001b[0m\u001b[0;34m\u001b[0m\u001b[0m\n\u001b[1;32m      7\u001b[0m \u001b[0mwrite_file\u001b[0m\u001b[0;34m(\u001b[0m\u001b[0;34m'output/rl_test'\u001b[0m\u001b[0;34m,\u001b[0m \u001b[0mgenerate\u001b[0m\u001b[0;34m(\u001b[0m\u001b[0mgenerator\u001b[0m\u001b[0;34m,\u001b[0m \u001b[0;36m16\u001b[0m\u001b[0;34m,\u001b[0m \u001b[0mto_train\u001b[0m\u001b[0;34m=\u001b[0m\u001b[0;32mTrue\u001b[0m\u001b[0;34m)\u001b[0m\u001b[0;34m)\u001b[0m\u001b[0;34m\u001b[0m\u001b[0m\n",
      "\u001b[0;31mNameError\u001b[0m: name 'generator' is not defined"
     ]
    }
   ],
   "source": [
    "\n",
    "# import gc\n",
    "# torch.cuda.empty_cache()\n",
    "\n",
    "generator.eval()\n",
    "# with torch.cuda.device(GPU):\n",
    "write_file('output/rl_test', generate(generator, 16, to_train=True))"
   ]
  },
  {
   "cell_type": "code",
   "execution_count": null,
   "metadata": {},
   "outputs": [],
   "source": []
  }
 ],
 "metadata": {
  "kernelspec": {
   "display_name": "Python 3",
   "language": "python",
   "name": "python3"
  },
  "language_info": {
   "codemirror_mode": {
    "name": "ipython",
    "version": 3
   },
   "file_extension": ".py",
   "mimetype": "text/x-python",
   "name": "python",
   "nbconvert_exporter": "python",
   "pygments_lexer": "ipython3",
   "version": "3.6.4"
  }
 },
 "nbformat": 4,
 "nbformat_minor": 2
}
