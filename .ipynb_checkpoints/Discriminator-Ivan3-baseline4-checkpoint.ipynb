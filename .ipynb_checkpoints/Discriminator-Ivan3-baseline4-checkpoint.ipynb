{
 "cells": [
  {
   "cell_type": "code",
   "execution_count": 38,
   "metadata": {},
   "outputs": [],
   "source": [
    "import torch,torch.nn as nn\n",
    "import torch.nn.functional as F\n",
    "from torch.autograd import Variable\n",
    "import numpy as np\n",
    "from model import Generator, iterate_minibatches, compute_loss, train\n",
    "from IPython import display\n",
    "import matplotlib.pyplot as plt\n",
    "from tqdm import tqdm\n",
    "%matplotlib inline\n",
    "import time\n",
    "import torch.utils.data"
   ]
  },
  {
   "cell_type": "code",
   "execution_count": 39,
   "metadata": {},
   "outputs": [],
   "source": [
    "OCTAVE_NUM = 4\n",
    "NOTE_NUM = 12\n",
    "TIME_SCALE = 128\n",
    "\n",
    "\n",
    "class LSTM_discriminator(nn.Module):\n",
    "    def __init__(self,hidden_size = 1000,last_dim = 3):\n",
    "        super(self.__class__, self).__init__()\n",
    "        self.last_dim = last_dim\n",
    "        self.hidden_size = hidden_size\n",
    "        self.note_lstm = nn.LSTM(input_size = OCTAVE_NUM*last_dim,hidden_size = hidden_size)\n",
    "        self.time_lstm = nn.LSTM(input_size = hidden_size,hidden_size = hidden_size)\n",
    "        self.dense = nn.Linear(hidden_size,1)\n",
    "\n",
    "    def forward(self,data):\n",
    "        # data.size() =  (batch_size, TIME_SCALE, NOTE_NUM*OCTAVE_NUM, last_dim)\n",
    "        # octave_data.size() =  (batch_size, TIME_SCALE, NOTE_NUM,OCTAVE_NUM*last_dim)\n",
    "        batch_size,_,_,_ = data.size()\n",
    "        octave_data = data.view(batch_size,TIME_SCALE,NOTE_NUM,OCTAVE_NUM,self.last_dim)\\\n",
    "                          .view(batch_size,TIME_SCALE,NOTE_NUM,OCTAVE_NUM*self.last_dim)\n",
    "            \n",
    "        # note_lstm_input.size() = (NOTE_NUM, batch_size*TIME_SCALE,OCTAVE_NUM*last_dim)\n",
    "        note_lstm_input = octave_data.view(batch_size*TIME_SCALE,NOTE_NUM,OCTAVE_NUM*self.last_dim)\\\n",
    "                                     .transpose(0,1)\n",
    "        # note_lstm_output.size() = (NOTE_NUM,batch_size*TIME_SCALE,hidden_size)\n",
    "        note_lstm_output, _ = self.note_lstm(note_lstm_input)\n",
    "        # time_lstm_input.size() = (TIME_SCALE,batch_size,hidden_size)\n",
    "        time_lstm_input = note_lstm_output[-1].view(batch_size,TIME_SCALE,self.hidden_size)\\\n",
    "                                          .transpose(0,1)\\\n",
    "        # time_lstm_output.size() = (TIME_SCALE,batch_size,1000)\n",
    "        time_lstm_output, _  = self.time_lstm(time_lstm_input)\n",
    "        # dense_input.size() = (batch_size,1000)\n",
    "        dense_input = time_lstm_output[-1]\n",
    "        # dense_output.size() = (batch_size,1)\n",
    "        dense_output = self.dense(dense_input)\n",
    "        probs = F.sigmoid(dense_output)\n",
    "        return probs\n",
    "        \n",
    "        \n",
    "        "
   ]
  },
  {
   "cell_type": "code",
   "execution_count": 40,
   "metadata": {},
   "outputs": [],
   "source": [
    "class LSTM_baseline(nn.Module):\n",
    "    def __init__(self,hidden_size = 1000):\n",
    "        super(self.__class__, self).__init__()\n",
    "        self.hidden_size = hidden_size\n",
    "        self.note_lstm = nn.LSTM(input_size = OCTAVE_NUM*3,hidden_size = hidden_size)\n",
    "        self.time_lstm = nn.LSTM(input_size = hidden_size,hidden_size = hidden_size)\n",
    "        self.dense = nn.Linear(hidden_size,1)\n",
    "\n",
    "    def forward(self,data,_):\n",
    "        # data.size() =  (batch_size, TIME_SCALE, NOTE_NUM*OCTAVE_NUM, 3)\n",
    "        # octave_data.size() =  (batch_size, TIME_SCALE, NOTE_NUM,OCTAVE_NUM*3)\n",
    "        batch_size,_,_,_ = data.size()\n",
    "        octave_data = data.view(batch_size,TIME_SCALE,NOTE_NUM,OCTAVE_NUM,3)\\\n",
    "                          .view(batch_size,TIME_SCALE,NOTE_NUM,OCTAVE_NUM*3)\n",
    "            \n",
    "        # note_lstm_input.size() = (NOTE_NUM, batch_size*TIME_SCALE,OCTAVE_NUM*3)\n",
    "        note_lstm_input = octave_data.view(batch_size*TIME_SCALE,NOTE_NUM,OCTAVE_NUM*3)\\\n",
    "                                     .transpose(0,1)\n",
    "        # note_lstm_output.size() = (NOTE_NUM,batch_size*TIME_SCALE,hidden_size)\n",
    "        note_lstm_output, _ = self.note_lstm(note_lstm_input)\n",
    "        # time_lstm_input.size() = (TIME_SCALE,batch_size,hidden_size)\n",
    "        time_lstm_input = note_lstm_output[-1].view(batch_size,TIME_SCALE,self.hidden_size)\\\n",
    "                                          .transpose(0,1)\\\n",
    "        # time_lstm_output.size() = (TIME_SCALE,batch_size,1000)\n",
    "        time_lstm_output, _  = self.time_lstm(time_lstm_input)\n",
    "        # dense_input.size() = (batch_size,1000)\n",
    "        dense_input = time_lstm_output[-1]\n",
    "        # dense_output.size() = (batch_size,1)\n",
    "        dense_output = self.dense(dense_input)\n",
    "        probs = F.sigmoid(dense_output)\n",
    "        return probs"
   ]
  },
  {
   "cell_type": "code",
   "execution_count": 41,
   "metadata": {},
   "outputs": [],
   "source": [
    "class BasicGenerator(nn.Module):\n",
    "    def __init__(self,hidden_size = 1000):\n",
    "        super(self.__class__, self).__init__()\n",
    "        self.dense_in = nn.Linear(TIME_SCALE*NOTE_NUM*OCTAVE_NUM*3,hidden_size)\n",
    "        self.dense_out = nn.Linear(hidden_size,TIME_SCALE*NOTE_NUM*OCTAVE_NUM*3)\n",
    "\n",
    "    def forward(self,data,_):\n",
    "        batch_size,_,_,_ = data.size()\n",
    "        data = data.view(batch_size,-1)\n",
    "        hid_data = self.dense_in(data)\n",
    "        out_data = self.dense_out(hid_data)\n",
    "        output = F.sigmoid(out_data.view(batch_size, TIME_SCALE, NOTE_NUM*OCTAVE_NUM, 3))\n",
    "        return output\n",
    "        "
   ]
  },
  {
   "cell_type": "code",
   "execution_count": 42,
   "metadata": {},
   "outputs": [],
   "source": [
    "class BasicDiscriminator(nn.Module):\n",
    "    def __init__(self,hidden_size = 1000):\n",
    "        super(self.__class__, self).__init__()\n",
    "        self.dense_in = nn.Linear(TIME_SCALE*NOTE_NUM*OCTAVE_NUM*3,hidden_size)\n",
    "        self.dense_out = nn.Linear(hidden_size,1)\n",
    "\n",
    "    def forward(self,data):\n",
    "        batch_size,_,_,_ = data.size()\n",
    "        data = data.view(batch_size,-1)\n",
    "        hid_data = self.dense_in(data)\n",
    "        out_data = self.dense_out(hid_data)\n",
    "        output = F.sigmoid(out_data)\n",
    "        return output"
   ]
  },
  {
   "cell_type": "code",
   "execution_count": 43,
   "metadata": {},
   "outputs": [],
   "source": [
    "def g_loss(p_fake,sound,in_probs,p_baseline, eps = 1e-8):\n",
    "        \n",
    "    probs = sound[:,:,:,:2]*in_probs[:,:,:,:2]\\\n",
    "            +(1-sound[:,:,:,:2])*(1-in_probs[:,:,:,:2])\n",
    "        \n",
    "    return -((probs+eps).log().sum(dim =-1).sum(dim =-1).sum(dim =-1)*(p_fake-p_baseline)).mean(), probs\n",
    "\n",
    "def g_loss_monte_carlo(p_fakes,sounds,in_probs,p_baseline, eps = 1e-8):\n",
    "    \n",
    "    loss = 0\n",
    "    for sound, p_fake in zip(sounds, p_fakes):\n",
    "        probs = sound[:,:,:,:2]*in_probs[:,:,:,:2]\\\n",
    "                +(1-sound[:,:,:,:2])*(1-in_probs[:,:,:,:2])\n",
    "        loss += -((probs+eps).log().sum(dim =-1).sum(dim =-1).sum(dim =-1)*(p_fake-p_baseline)).mean()\n",
    "        \n",
    "    return loss/5, probs\n",
    "\n",
    "def d_loss(p_fake, p_true,eps = 1e-8):\n",
    "    return -(1-p_fake+eps).log().mean()-(p_true+eps).log().mean()\n",
    "    \n",
    "def bl_loss(bl_pred,real_reward):\n",
    "    return (bl_pred-real_reward).pow(2).mean()\n"
   ]
  },
  {
   "cell_type": "code",
   "execution_count": 44,
   "metadata": {},
   "outputs": [],
   "source": [
    "import torch.utils.data\n",
    "\n",
    "def sample_sound(data_gen):\n",
    "    size = data_gen.size()\n",
    "    rand = torch.rand(*size).cuda()\n",
    "    sample = (rand<data_gen).type(torch.FloatTensor).cuda()\n",
    "    sample[:,:,:,2] = 1\n",
    "    return sample"
   ]
  },
  {
   "cell_type": "code",
   "execution_count": 45,
   "metadata": {},
   "outputs": [],
   "source": [
    "from dataset import load_all\n",
    "from constants import *\n",
    "\n",
    "styles= [['data/Bach_fugas']]\n",
    "train_data, train_labels = load_all(styles, BATCH_SIZE, TIME_SCALE)"
   ]
  },
  {
   "cell_type": "code",
   "execution_count": 46,
   "metadata": {},
   "outputs": [
    {
     "name": "stdout",
     "output_type": "stream",
     "text": [
      "(340, 128, 48, 3)\n"
     ]
    }
   ],
   "source": [
    "X_tr = train_data[0][:]\n",
    "y_tr = train_labels[0][:]\n",
    "print(train_data[0].shape)\n",
    "\n",
    "def iterate_minibatches(train_data, train_labels, batchsize):\n",
    "    indices = np.random.permutation(np.arange(len(train_labels)))\n",
    "    for start in range(0, len(indices), batchsize):\n",
    "        ix = indices[start: start + batchsize]\n",
    "        \n",
    "        if cuda:      \n",
    "            yield  Variable(torch.FloatTensor(train_data[ix])).cuda(), Variable(torch.FloatTensor(train_labels[ix])).cuda()\n",
    "        else:\n",
    "            yield Variable(torch.FloatTensor(train_data[ix])), Variable(torch.FloatTensor(train_labels[ix]))"
   ]
  },
  {
   "cell_type": "code",
   "execution_count": 47,
   "metadata": {},
   "outputs": [],
   "source": [
    "def train_discriminator(x_batch, ch_batch):\n",
    "\n",
    "    d_losses = []\n",
    "    prob_noise = []\n",
    "    prob_human = []\n",
    "    prop_machine = []\n",
    "\n",
    "\n",
    "    # Optimize D \n",
    "    # machine generation\n",
    "    data_gen = generator(x_batch,ch_batch)\n",
    "    sound = sample_sound(data_gen).data          \n",
    "    false_example = torch.cat([x_batch, sound],dim = -1)\n",
    "    true_example = torch.cat([x_batch, ch_batch],dim = -1)\n",
    "    p_true_example = discriminator(true_example)\n",
    "    p_false_example = discriminator(false_example)\n",
    "    loss = d_loss(p_false_example, p_true_example)\n",
    "    d_optimizer.zero_grad()\n",
    "    loss.backward()\n",
    "    d_optimizer.step()\n",
    "    d_losses.append(loss.data.cpu().numpy())\n",
    "\n",
    "    prop_machine.append(p_false_example.mean().data.cpu().numpy())\n",
    "    prob_human.append(p_true_example.mean().data.cpu().numpy())\n",
    "\n",
    "    # rand_like ones_like            \n",
    "    noise_example = torch.cat([x_batch, sample_sound(torch.rand_like(x_batch).cuda())],dim = -1)\n",
    "    true_example = torch.cat([x_batch, ch_batch],dim = -1)\n",
    "    p_true_example = discriminator(true_example)\n",
    "    p_noise_example = discriminator(noise_example)\n",
    "    loss = d_loss(p_noise_example, p_true_example)\n",
    "    d_optimizer.zero_grad()\n",
    "    loss.backward()\n",
    "    d_optimizer.step()\n",
    "    d_losses.append(loss.data.cpu().numpy())    \n",
    "    prob_noise.append(p_noise_example.mean())\n",
    "          \n",
    "    return np.array(prob_human),np.array(prop_machine),np.array(d_losses)"
   ]
  },
  {
   "cell_type": "code",
   "execution_count": 49,
   "metadata": {},
   "outputs": [],
   "source": [
    "def train_generator(x_batch, ch_batch):\n",
    "\n",
    "    g_losses = []\n",
    "    prop_machine = []\n",
    "    prob_human = []\n",
    "    prob_confidence = []\n",
    "    prob_noise = []\n",
    "    \n",
    "    monte_carlo = True\n",
    "        \n",
    "    # baseline\n",
    "    p_baseline = baseline(x_batch,ch_batch)\n",
    "\n",
    "    #generator\n",
    "    # monte carlo false example sampling\n",
    "    data_gen = generator(x_batch,ch_batch)\n",
    "    if monte_carlo:\n",
    "        p_false_examples = []\n",
    "        sounds = []\n",
    "\n",
    "        for _ in range(5):                  \n",
    "            sound = sample_sound(data_gen).data                 \n",
    "            false_example = torch.cat([x_batch, sound],dim = -1)\n",
    "            p_false_example = discriminator(false_example.detach())\n",
    "            p_false_examples.append(p_false_example)\n",
    "            sounds.append(sound)\n",
    "\n",
    "    else:\n",
    "        sound = sample_sound(data_gen).data                 \n",
    "        false_example = torch.cat([x_batch, sound],dim = -1)\n",
    "        p_false_example = discriminator(false_example.detach())\n",
    "\n",
    "\n",
    "    true_example = torch.cat([x_batch, ch_batch],dim = -1)\n",
    "    p_true_example = discriminator(true_example.detach())\n",
    "\n",
    "    # Optimize G  \n",
    "\n",
    "    handle = np.random.randint(0,2) #0 #np.random.randint(0,2)\n",
    "    if handle == 0:\n",
    "        if monte_carlo:\n",
    "            loss, confidence = g_loss_monte_carlo(p_false_examples,\n",
    "                      sounds,data_gen,p_baseline)\n",
    "        else:\n",
    "            loss, confidence = g_loss(p_false_example,\n",
    "                      sound,data_gen,p_baseline)\n",
    "    else:\n",
    "        # teacher forcing\n",
    "        # p_true_example\n",
    "        loss, confidence = g_loss(1,\n",
    "                      ch_batch,data_gen,p_baseline)\n",
    "\n",
    "#             loss = g_loss(p_false_example, sound, data_gen, p_baseline)+compute_loss(data_gen, ch_batch)\n",
    "\n",
    "    g_optimizer.zero_grad()\n",
    "    loss.backward()\n",
    "    g_optimizer.step()\n",
    "    g_losses.append(loss.data.cpu().numpy())\n",
    "\n",
    "    # history\n",
    "    prob_human.append(p_true_example.mean().data.cpu().numpy())\n",
    "    prop_machine.append(p_false_example.mean().data.cpu().numpy())\n",
    "    prob_confidence.append(confidence.mean().data.cpu().numpy())\n",
    "        \n",
    "\n",
    "    return np.array(prob_human),np.array(prop_machine), np.array(prob_confidence), np.array(g_losses)\n",
    "            \n",
    "    "
   ]
  },
  {
   "cell_type": "code",
   "execution_count": 50,
   "metadata": {},
   "outputs": [],
   "source": [
    "def train_baseline(x_batch, ch_batch):\n",
    "    \n",
    "    bl_losses = []\n",
    "    prob_baseline = [] \n",
    "    prob_false_example = []\n",
    "\n",
    "    # Optimize BL\n",
    "    data_gen = generator(x_batch,ch_batch)\n",
    "    sound = sample_sound(data_gen).data\n",
    "    false_example = torch.cat([x_batch, sound],dim = -1)\n",
    "    p_baseline = baseline(x_batch,ch_batch)\n",
    "    p_false_example = discriminator(false_example.detach())\n",
    "    loss = bl_loss(p_baseline, p_false_example)\n",
    "    bl_optimizer.zero_grad()\n",
    "    loss.backward()\n",
    "    bl_optimizer.step()\n",
    "\n",
    "    # history\n",
    "    bl_losses.append(loss.data.cpu().numpy())\n",
    "    prob_baseline.append(p_baseline.mean().data.cpu().numpy())\n",
    "    prob_false_example.append(p_false_example.mean().data.cpu().numpy())\n",
    "\n",
    "    return np.array(prob_baseline), np.array(bl_losses)\n",
    "           \n",
    "    "
   ]
  },
  {
   "cell_type": "code",
   "execution_count": 51,
   "metadata": {},
   "outputs": [],
   "source": [
    "# discriminator = LSTM_discriminator(hidden_size=500, last_dim=6).cuda()\n",
    "# generator = Generator().cuda()\n",
    "# generator.load_state_dict(torch.load(os.path.join(OUT_DIR, 'model_canonical')))"
   ]
  },
  {
   "cell_type": "code",
   "execution_count": 52,
   "metadata": {
    "scrolled": false
   },
   "outputs": [],
   "source": [
    "# generator.load_state_dict(torch.load(os.path.join(OUT_DIR, 'model_canonical')))\n",
    "# pretrained_discriminator, prob_human, prop_machine, d_losses = train_discriminator(generator, discriminator,X_loader,\n",
    "#                                                                         num_epochs = 5, d_lr=1e-3)"
   ]
  },
  {
   "cell_type": "code",
   "execution_count": 53,
   "metadata": {},
   "outputs": [],
   "source": [
    "# torch.save(pretrained_discriminator.state_dict(), os.path.join(OUT_DIR, 'pretrained_discriminator'))"
   ]
  },
  {
   "cell_type": "code",
   "execution_count": 54,
   "metadata": {},
   "outputs": [],
   "source": [
    "# generator.load_state_dict(torch.load(os.path.join(OUT_DIR, 'model_canonical')))\n",
    "# baseline = LSTM_baseline(hidden_size=10).cuda()\n",
    "# generator,prob_human, prop_machine, prob_confidence, g_losses= train_generator(generator, discriminator, baseline, X_loader, num_epochs = 30, g_lr=1e-3)"
   ]
  },
  {
   "cell_type": "code",
   "execution_count": 63,
   "metadata": {},
   "outputs": [],
   "source": [
    "def train_GAN(g_lr = 0.001, d_lr = 0.001, bl_lr = 0.001, n_epochs=3):\n",
    "    \n",
    "    history = {'d_losses':[],'g_losses':[],'bl_losses':[],'prop_machine':[0.,0,0],\n",
    "               'prob_human':[1,1.,1],'prob_confidence':[1,],'prop_baseline':[], 'prob_noise':[], 'color':[0,0,0]}\n",
    "    \n",
    "    \n",
    "#     p_human = np.array([1])\n",
    "#     p_machine = np.array([1])\n",
    "    it_generator = 0\n",
    "    \n",
    "    for epoch in range(n_epochs):\n",
    "\n",
    "        start_time = time.time()\n",
    "        dataset = iterate_minibatches(X_tr, y_tr, 16)\n",
    "        for i, [x_batch,ch_batch] in tqdm(enumerate(dataset)):\n",
    "            \n",
    "            try:\n",
    "\n",
    "                x_batch[:,:,:,2] = 1\n",
    "                ch_batch[:,:,:,2] = 1\n",
    "\n",
    "                p_baseline, bl_l = train_baseline(x_batch, ch_batch)\n",
    "                history['prop_baseline'].extend(p_baseline)\n",
    "                history['bl_losses'].extend(bl_l) \n",
    "\n",
    "                if (np.maximum(np.asarray(history['prob_human'][-1:])-np.asarray(history['prop_machine'][-1:]),0).mean()<0.1):\n",
    "\n",
    "                    it_generator = 0\n",
    "                    p_human, p_machine, d_l = train_discriminator(x_batch, ch_batch) \n",
    "    #                 print('D p_machine', p_machine, p_human)\n",
    "                    history['d_losses'].extend(d_l)\n",
    "                    history['prop_machine'].extend(p_machine)\n",
    "                    history['prob_human'].extend(p_human)\n",
    "                    history['color'].extend(np.ones(len(p_machine)))\n",
    "                else: \n",
    "                    it_generator+=1\n",
    "                    p_human, p_machine, p_confidence, g_l = train_generator(x_batch, ch_batch)\n",
    "    #                 print('G p_machine', p_machine, p_human)\n",
    "                    history['g_losses'].extend(g_l)\n",
    "                    history['prop_machine'].extend(p_machine)\n",
    "                    history['prob_human'].extend(p_human)  \n",
    "                    history['prob_confidence'].extend(p_confidence)\n",
    "                    history['color'].extend(np.zeros(len(p_machine)))\n",
    "            except KeyboardInterrupt:\n",
    "                return history\n",
    "\n",
    "\n",
    "        # Visualize\n",
    "        display.clear_output(wait=True)\n",
    "        plt.figure(figsize=(16, 6))\n",
    "\n",
    "        # Then we print the results for this epoch:\n",
    "        if history['color'][-1]==0:\n",
    "            tr = 'generator trainig'\n",
    "        else: tr = 'discriminator trainig'\n",
    "        print(\"Epoch {} of {} took {:.3f}s, format {}\".format(\n",
    "            epoch, n_epochs, time.time() - start_time, tr))\n",
    "        print('mean probability of machine generation: {}'.format(history['prop_machine'][-1]))\n",
    "        print('mean probability of human generation: {}'.format(history['prob_human'][-1]))\n",
    "    #         print('mean probability of noise generation: {}'.format(prob_noise[-1]))\n",
    "        print('mean probability of machine generation confidence: {}'.format(history['prob_confidence'][-1]))\n",
    "\n",
    "        plt.title(\"losses\")\n",
    "\n",
    "        plt.subplot(231)\n",
    "        plt.plot(history['g_losses'],label = \"Generator loss\")\n",
    "        plt.legend()\n",
    "        plt.subplot(232)\n",
    "        plt.plot(history['d_losses'],label = \"Discriminator loss\")\n",
    "        plt.legend(loc=2)\n",
    "        plt.subplot(233)\n",
    "        plt.plot(history['bl_losses'],label = \"Baseline loss\")\n",
    "        plt.legend()\n",
    "        plt.subplot(234)\n",
    "        g_machine = np.asarray(history['prop_machine'].copy())\n",
    "        d_machine = np.asarray(history['prop_machine'].copy())\n",
    "        g_machine[np.asarray(history['color']) == 1] = np.nan\n",
    "        d_machine[np.asarray(history['color']) == 0] = np.nan\n",
    "        plt.plot(g_machine, 'o', label = \"Machine P - generator\", color = 'blue' )\n",
    "        plt.plot(d_machine, 'o', label = \"Machine P - discriminator\", color = 'orange' )\n",
    "        plt.plot(history['prob_human'], 'o', label = \"Human P\", color = 'green')\n",
    "        plt.legend(loc=2)\n",
    "        plt.subplot(235)\n",
    "        plt.plot(history['prob_confidence'],label = \"Machine confidence\")\n",
    "        plt.legend()\n",
    "        plt.subplot(236)\n",
    "        plt.plot(history['prop_baseline'],label = \"Baseline probabilyty\")\n",
    "        plt.legend()\n",
    "        plt.show()\n",
    "\n",
    "            \n",
    "    return history"
   ]
  },
  {
   "cell_type": "code",
   "execution_count": 56,
   "metadata": {},
   "outputs": [],
   "source": [
    "discriminator = LSTM_discriminator(hidden_size=500, last_dim=6).cuda()\n",
    "generator = Generator().cuda()\n",
    "# generator.load_state_dict(torch.load(os.path.join(OUT_DIR, 'model_canonical')))\n",
    "baseline = LSTM_baseline(hidden_size=40).cuda()\n",
    "# generator.load_state_dict(torch.load(os.path.join(OUT_DIR, 'model_canonical')))\n",
    "generator.load_state_dict(torch.load(os.path.join(OUT_DIR, 'model_canonical_attention'))) \n",
    "discriminator.load_state_dict(torch.load(os.path.join(OUT_DIR, 'pretrained_discriminator')))\n",
    "# generator.load_state_dict(torch.load(os.path.join(OUT_DIR, 'generator_rl')))"
   ]
  },
  {
   "cell_type": "code",
   "execution_count": 57,
   "metadata": {},
   "outputs": [],
   "source": [
    "# discriminator.load_state_dict(torch.load(os.path.join(OUT_DIR, 'pretrained_discriminator')))"
   ]
  },
  {
   "cell_type": "code",
   "execution_count": 58,
   "metadata": {},
   "outputs": [],
   "source": [
    "# dataset = iterate_minibatches(X_tr, y_tr, 1)\n",
    "\n",
    "# x_batch, ch_batch = next(dataset)"
   ]
  },
  {
   "cell_type": "code",
   "execution_count": 59,
   "metadata": {},
   "outputs": [],
   "source": [
    "# x_batch, ch_batch = next(dataset)\n",
    "# x_batch[:,:,:,2] = 1\n",
    "# ch_batch[:,:,:,2] = 1\n",
    "\n",
    "# p_human, p_machine, d_l = \\\n",
    "#                     train_discriminator(x_batch, ch_batch) \n",
    "# print(p_machine)\n",
    "# print(p_human)\n",
    "# # x_batch, ch_batch = next(dataset)\n",
    "\n",
    "# p_human, p_machine, p_confidence, g_l = \\\n",
    "#                     train_generator(x_batch, ch_batch)\n",
    "# print()\n",
    "# print(p_machine)\n",
    "# print(p_human)"
   ]
  },
  {
   "cell_type": "code",
   "execution_count": 60,
   "metadata": {},
   "outputs": [],
   "source": [
    "# dataset = iterate_minibatches(X_tr, y_tr, 16)\n",
    "# for x_batch, ch_batch in dataset:\n",
    "#     x_batch[:,:,:,2] = 1\n",
    "#     ch_batch[:,:,:,2] = 1\n",
    "#     p_human, p_machine, p_confidence, g_l = \\\n",
    "#                         train_generator(x_batch, ch_batch)\n",
    "#     print(p_machine)\n",
    "#     print(p_human)"
   ]
  },
  {
   "cell_type": "code",
   "execution_count": 65,
   "metadata": {
    "scrolled": false
   },
   "outputs": [
    {
     "name": "stderr",
     "output_type": "stream",
     "text": [
      "13it [00:04,  2.79it/s]\n"
     ]
    }
   ],
   "source": [
    "g_lr = 1e-3\n",
    "d_lr = 1e-3\n",
    "bl_lr = 1e-2\n",
    "generator.train()\n",
    "d_optimizer = torch.optim.Adam(discriminator.parameters(), lr=d_lr,) #, weight_decay = 1, betas=(0.5, 0.999)) \n",
    "bl_optimizer = torch.optim.Adam(baseline.parameters(),  lr=bl_lr)\n",
    "g_optimizer = torch.optim.Adam(generator.parameters(),  lr=g_lr)#, betas=(0.5, 0.999))\n",
    "\n",
    "history = train_GAN(g_lr = 1e-3,d_lr=1e-3, bl_lr = 1e-2, n_epochs=200)"
   ]
  },
  {
   "cell_type": "code",
   "execution_count": 66,
   "metadata": {},
   "outputs": [
    {
     "data": {
      "image/png": "[encoded data removed]",
      "text/plain": [
       "<Figure size 1152x432 with 6 Axes>"
      ]
     },
     "metadata": {},
     "output_type": "display_data"
    }
   ],
   "source": [
    "plot_history(history)"
   ]
  },
  {
   "cell_type": "code",
   "execution_count": 28,
   "metadata": {},
   "outputs": [],
   "source": [
    "torch.save(generator.state_dict(), os.path.join(OUT_DIR, 'generator_rl'))\n",
    "torch.save(discriminator.state_dict(), os.path.join(OUT_DIR, 'discriminator'))\n",
    "torch.save(baseline.state_dict(), os.path.join(OUT_DIR, 'baseline'))"
   ]
  },
  {
   "cell_type": "code",
   "execution_count": 29,
   "metadata": {},
   "outputs": [],
   "source": [
    "torch.cuda.empty_cache()"
   ]
  },
  {
   "cell_type": "code",
   "execution_count": 64,
   "metadata": {},
   "outputs": [
    {
     "name": "stderr",
     "output_type": "stream",
     "text": [
      "  0%|          | 1/256 [00:00<00:41,  6.10it/s]"
     ]
    },
    {
     "name": "stdout",
     "output_type": "stream",
     "text": [
      "Generating with no styles:\n"
     ]
    },
    {
     "name": "stderr",
     "output_type": "stream",
     "text": [
      "100%|██████████| 256/256 [00:22<00:00, 11.55it/s]"
     ]
    },
    {
     "name": "stdout",
     "output_type": "stream",
     "text": [
      "Writing file out/samples/output/rl_test_0.mid\n"
     ]
    },
    {
     "name": "stderr",
     "output_type": "stream",
     "text": [
      "\n"
     ]
    }
   ],
   "source": [
    "from generate import write_file, generate\n",
    "\n",
    "# torch.cuda.empty_cache()\n",
    "\n",
    "\n",
    "# with torch.cuda.device(GPU):\n",
    "write_file('output/rl_test', generate(generator, 16))"
   ]
  },
  {
   "cell_type": "code",
   "execution_count": 32,
   "metadata": {},
   "outputs": [],
   "source": [
    "def plot_history(history):\n",
    "    \n",
    "    plt.figure(figsize=(16, 6))\n",
    "    plt.title(\"losses\")\n",
    "    plt.subplot(231)\n",
    "    plt.plot(history['g_losses'],label = \"Generator loss\")\n",
    "    plt.legend()\n",
    "    plt.subplot(232)\n",
    "    plt.plot(history['d_losses'],label = \"Discriminator loss\")\n",
    "    plt.legend(loc=2)\n",
    "    plt.subplot(233)\n",
    "    plt.plot(history['bl_losses'],label = \"Baseline loss\")\n",
    "    plt.legend()\n",
    "    plt.subplot(234)\n",
    "    plt.plot(history['prop_machine'],label = \"Machine probability\")\n",
    "    plt.plot(history['prob_human'],label = \"Human probability\")\n",
    "    plt.legend()\n",
    "    plt.subplot(235)\n",
    "    plt.plot(history['prob_confidence'],label = \"Machine confidence\")\n",
    "    plt.legend()\n",
    "    plt.subplot(236)\n",
    "    plt.plot(history['prob_confidence'],label = \"Baseline probabilyty\")\n",
    "    plt.legend()\n",
    "    plt.show()"
   ]
  },
  {
   "cell_type": "code",
   "execution_count": null,
   "metadata": {},
   "outputs": [],
   "source": []
  }
 ],
 "metadata": {
  "kernelspec": {
   "display_name": "Python 3",
   "language": "python",
   "name": "python3"
  }
 },
 "nbformat": 4,
 "nbformat_minor": 2
}
