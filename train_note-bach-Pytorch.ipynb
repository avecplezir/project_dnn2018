{
 "cells": [
  {
   "cell_type": "code",
   "execution_count": 1,
   "metadata": {},
   "outputs": [
    {
     "name": "stderr",
     "output_type": "stream",
     "text": [
      "/anaconda3/lib/python3.6/site-packages/h5py/__init__.py:36: FutureWarning: Conversion of the second argument of issubdtype from `float` to `np.floating` is deprecated. In future, it will be treated as `np.float64 == np.dtype(float).type`.\n",
      "  from ._conv import register_converters as _register_converters\n",
      "Using TensorFlow backend.\n"
     ]
    }
   ],
   "source": [
    "import tensorflow as tf\n",
    "from keras.callbacks import ModelCheckpoint, LambdaCallback\n",
    "from keras.callbacks import EarlyStopping, TensorBoard\n",
    "import argparse\n",
    "import midi\n",
    "import os\n",
    "\n",
    "from constants import *\n",
    "from dataset import load_all\n",
    "from generate import write_file, generate\n",
    "from play_music_util import play_music\n",
    "\n",
    "import pygame\n",
    "import base64\n",
    "\n",
    "from playsound import playsound"
   ]
  },
  {
   "cell_type": "code",
   "execution_count": 2,
   "metadata": {},
   "outputs": [],
   "source": [
    "import numpy as np\n",
    "import tensorflow as tf\n",
    "from keras.layers import Input, LSTM, Dense, Dropout, Lambda, Reshape, Permute\n",
    "from keras.layers import TimeDistributed, RepeatVector, Conv1D, Activation\n",
    "from keras.layers import Embedding, Flatten, dot, concatenate \n",
    "from keras.layers.merge import Concatenate, Add, Multiply\n",
    "from keras.models import Model\n",
    "import keras.backend as K\n",
    "from keras import losses\n",
    "from keras.utils import multi_gpu_model"
   ]
  },
  {
   "cell_type": "code",
   "execution_count": 3,
   "metadata": {},
   "outputs": [
    {
     "data": {
      "text/plain": [
       "['data/test']"
      ]
     },
     "execution_count": 3,
     "metadata": {},
     "output_type": "execute_result"
    }
   ],
   "source": [
    "styles[0]"
   ]
  },
  {
   "cell_type": "code",
   "execution_count": 4,
   "metadata": {},
   "outputs": [
    {
     "name": "stdout",
     "output_type": "stream",
     "text": [
      "Loading data\n"
     ]
    }
   ],
   "source": [
    "print('Loading data')\n",
    "train_data, train_labels = load_all(styles, BATCH_SIZE, SEQ_LEN)"
   ]
  },
  {
   "cell_type": "code",
   "execution_count": 5,
   "metadata": {},
   "outputs": [
    {
     "data": {
      "text/plain": [
       "(10, 128, 48, 3)"
      ]
     },
     "execution_count": 5,
     "metadata": {},
     "output_type": "execute_result"
    }
   ],
   "source": [
    "train_data[0].shape"
   ]
  },
  {
   "cell_type": "code",
   "execution_count": 5,
   "metadata": {},
   "outputs": [
    {
     "name": "stdout",
     "output_type": "stream",
     "text": [
      "(10, 128, 48, 3)\n",
      "(10, 128, 48, 3)\n",
      "(10, 128, 16)\n"
     ]
    }
   ],
   "source": [
    "for i in range(3):\n",
    "    print(train_data[i].shape)"
   ]
  },
  {
   "cell_type": "code",
   "execution_count": 25,
   "metadata": {},
   "outputs": [],
   "source": [
    "# train_labels[0].shape"
   ]
  },
  {
   "cell_type": "code",
   "execution_count": 6,
   "metadata": {},
   "outputs": [],
   "source": [
    "from model import *"
   ]
  },
  {
   "cell_type": "code",
   "execution_count": 7,
   "metadata": {},
   "outputs": [],
   "source": [
    "import torch, torch.nn as nn\n",
    "import torch.nn.functional as F\n",
    "from torch.autograd import Variable"
   ]
  },
  {
   "cell_type": "code",
   "execution_count": 8,
   "metadata": {},
   "outputs": [
    {
     "data": {
      "text/plain": [
       "(32, 48, 3)"
      ]
     },
     "execution_count": 8,
     "metadata": {},
     "output_type": "execute_result"
    }
   ],
   "source": [
    " BATCH_SIZE, NUM_NOTES, NOTE_UNITS"
   ]
  },
  {
   "cell_type": "code",
   "execution_count": 73,
   "metadata": {},
   "outputs": [],
   "source": [
    "cuda = False\n",
    "\n",
    "def iterate_minibatches(train_data, train_labels, batchsize):\n",
    "    indices = np.random.permutation(np.arange(len(train_labels)))\n",
    "    for start in range(0, len(indices), batchsize):\n",
    "        ix = indices[start: start + batchsize]\n",
    "        \n",
    "        if cuda:      \n",
    "            yield  Variable(torch.FloatTensor(train_data[ix])).cuda(), Variable(torch.FloatTensor(train_labels[ix])).cuda()\n",
    "        else:\n",
    "            yield Variable(torch.FloatTensor(train_data[ix])), Variable(torch.FloatTensor(train_labels[ix]))"
   ]
  },
  {
   "cell_type": "markdown",
   "metadata": {},
   "source": [
    "#  Pytorch implementation"
   ]
  },
  {
   "cell_type": "code",
   "execution_count": 75,
   "metadata": {},
   "outputs": [],
   "source": [
    "class time_axis(nn.Module):\n",
    "    def __init__(self):\n",
    "        super(self.__class__, self).__init__() \n",
    "        self.n_layers = 1\n",
    "        self.hidden_size = TIME_AXIS_UNITS\n",
    "        self.input_size = NOTE_UNITS\n",
    "        \n",
    "\n",
    "        self.time_lstm = nn.LSTM(self.input_size, self.hidden_size, self.n_layers, dropout=0.1, \n",
    "                                 batch_first=True, )\n",
    "        self.dropout = nn.Dropout(p=0.2, inplace=True)\n",
    "        \n",
    "    def forward(self, notes):\n",
    "        \n",
    "        \"\"\"\n",
    "        arg:\n",
    "            notes - (batch, time_seq, note_seq, note_features)\n",
    "        \n",
    "        out: \n",
    "            (batch, time_seq, note_seq, hidden_features)\n",
    "            \n",
    "        \"\"\"\n",
    "        \n",
    "        lstm_out = []\n",
    "#         i_hidden = self.init_hidden()\n",
    "        \n",
    "#         print('notes.shape[2] : ', notes.shape[2])\n",
    "        \n",
    "        for i in range(notes.shape[2]):\n",
    "            \n",
    "            out, hidden = self.time_lstm(notes[:, :, i,:]) \n",
    "            \n",
    "#             print('out', out.shape)\n",
    "            \n",
    "            lstm_out.append(out[:, :, None, :])\n",
    "            \n",
    "#             print('out2', out[:, :, None, :].shape)\n",
    "        \n",
    "        \n",
    "        time_output = torch.cat(lstm_out, dim=2)\n",
    "#         self.dropout(time_output)\n",
    "#         print('time_output', time_output.shape)\n",
    "        \n",
    "        return time_output        \n",
    "    \n"
   ]
  },
  {
   "cell_type": "code",
   "execution_count": 12,
   "metadata": {},
   "outputs": [],
   "source": [
    "# dummy_note = Variable(torch.Tensor(train_data[0]).view(train_data[0].shape[:-2]\n",
    "#                       +(train_data[0].shape[-2]*train_data[0].shape[-1],)))\n",
    "# dummy_note.shape"
   ]
  },
  {
   "cell_type": "code",
   "execution_count": 13,
   "metadata": {},
   "outputs": [],
   "source": [
    "# train_data[0].shape[:-1]+(train_data[0].shape[-2]*train_data[0].shape[-1], )"
   ]
  },
  {
   "cell_type": "code",
   "execution_count": 143,
   "metadata": {},
   "outputs": [
    {
     "name": "stdout",
     "output_type": "stream",
     "text": [
      "dummy_note:  torch.Size([10, 128, 48, 3])\n",
      "dummy_time_features : torch.Size([10, 128, 48, 256])\n"
     ]
    }
   ],
   "source": [
    "dummy_note = Variable(torch.Tensor(train_data[0]))\n",
    "print('dummy_note: ', dummy_note.shape)\n",
    "ta = time_axis()\n",
    "\n",
    "# dummy_time_features = ta.forward(dummy_note)\n",
    "dummy_time_features = generator.time_ax(dummy_note)\n",
    "\n",
    "print('dummy_time_features :', dummy_time_features.shape)"
   ]
  },
  {
   "cell_type": "code",
   "execution_count": 15,
   "metadata": {},
   "outputs": [
    {
     "data": {
      "text/plain": [
       "torch.Size([10, 128, 48, 256])"
      ]
     },
     "execution_count": 15,
     "metadata": {},
     "output_type": "execute_result"
    }
   ],
   "source": [
    "dummy_time_features.shape"
   ]
  },
  {
   "cell_type": "code",
   "execution_count": 108,
   "metadata": {},
   "outputs": [],
   "source": [
    "class note_axis(nn.Module):\n",
    "    def __init__(self):\n",
    "        super(self.__class__, self).__init__()   \n",
    "        \n",
    "        self.n_layers = 2\n",
    "        self.hidden_size = NOTE_AXIS_UNITS\n",
    "        # number of time features plus number of previous higher note in the same time momemt\n",
    "        self.input_size = TIME_AXIS_UNITS + NOTE_UNITS\n",
    "        \n",
    "        # maybe it is better to make two lstm and make the second one bideractional \n",
    "        self.note_lstm = nn.LSTM(self.input_size, self.hidden_size, self.n_layers, dropout=0.1, \n",
    "                                 batch_first=True, )\n",
    "        \n",
    "        self.dropout = nn.Dropout(p=0.2, inplace=True)\n",
    "        \n",
    "        self.logits = nn.Linear(self.hidden_size, NOTE_UNITS) \n",
    "        \n",
    "    def forward(self, notes, chosen):\n",
    "        \"\"\"\n",
    "        arg:\n",
    "            notes - (batch, time_seq, note_seq, time_hidden_features)\n",
    "        \n",
    "        out: \n",
    "            (batch, time_seq, note_seq, next_notes_features)\n",
    "            \n",
    "        \"\"\"\n",
    "                \n",
    "        # Shift target one note to the left.\n",
    "        shift_chosen = nn.ZeroPad2d((0, 0, 1, 0))(chosen[:, :, :-1, :])\n",
    "#         print('shift_chosen: ', shift_chosen.shape)\n",
    "        \n",
    "#         print('notes: ', notes.shape)\n",
    "              \n",
    "        note_input = torch.cat([notes, shift_chosen], dim=-1)\n",
    "        \n",
    "#         print('notes.shape[2] : ', note_input.shape)\n",
    "        \n",
    "        lstm_out = []\n",
    "        for i in range(notes.shape[1]):\n",
    "            \n",
    "            out, hidden = self.note_lstm(note_input[:, i, :,:]) \n",
    "            \n",
    "#             print('out', out.shape)\n",
    "            \n",
    "            lstm_out.append(out[:, None, :, :])\n",
    "        \n",
    "        \n",
    "        time_output = torch.cat(lstm_out, dim=1)\n",
    "#         self.dropout(time_output)\n",
    "\n",
    "        logits = self.logits(time_output) \n",
    "        next_notes = nn.Sigmoid()(logits)\n",
    "            \n",
    "#         print('logits', logits.shape)\n",
    "        \n",
    "        return next_notes   "
   ]
  },
  {
   "cell_type": "code",
   "execution_count": 109,
   "metadata": {},
   "outputs": [
    {
     "name": "stdout",
     "output_type": "stream",
     "text": [
      "dummy_time_features : torch.Size([10, 128, 48, 3])\n"
     ]
    }
   ],
   "source": [
    "chosen = Variable(torch.Tensor(train_data[1]))\n",
    "na = note_axis()\n",
    "\n",
    "next_notes_features = na.forward(dummy_time_features, chosen)\n",
    "\n",
    "print('dummy_time_features :', next_notes_features.shape)"
   ]
  },
  {
   "cell_type": "code",
   "execution_count": 110,
   "metadata": {},
   "outputs": [],
   "source": [
    "class Generator(nn.Module):\n",
    "    def __init__(self):\n",
    "        super(self.__class__, self).__init__()        \n",
    "        \n",
    "        self.time_ax = time_axis() \n",
    "        self.note_ax = note_axis()\n",
    "        \n",
    "    def forward(self, notes, chosen):\n",
    "        \n",
    "        note_ax_output = self.time_ax(notes)\n",
    "        output = self.note_ax(note_ax_output, chosen)\n",
    "        \n",
    "        return output        "
   ]
  },
  {
   "cell_type": "code",
   "execution_count": 154,
   "metadata": {},
   "outputs": [
    {
     "name": "stdout",
     "output_type": "stream",
     "text": [
      "dummy_time_features : torch.Size([10, 128, 48, 3])\n"
     ]
    }
   ],
   "source": [
    "dummy_note = Variable(torch.Tensor(train_data[0]))\n",
    "chosen = Variable(torch.Tensor(train_data[1]))\n",
    "\n",
    "generator = Generator()\n",
    "\n",
    "output = generator.forward(dummy_note, chosen)\n",
    "output2 = the_model.forward(dummy_note, chosen)\n",
    "\n",
    "print('dummy_time_features :', output.shape)"
   ]
  },
  {
   "cell_type": "code",
   "execution_count": 159,
   "metadata": {},
   "outputs": [
    {
     "data": {
      "text/plain": [
       "Variable containing:\n",
       " 0.4928  0.5027  0.4898\n",
       " 0.4950  0.5018  0.4917\n",
       " 0.4965  0.5014  0.4923\n",
       " 0.4968  0.5007  0.4928\n",
       " 0.4972  0.5009  0.4931\n",
       " 0.4974  0.5009  0.4931\n",
       " 0.4973  0.5007  0.4928\n",
       " 0.4972  0.5008  0.4934\n",
       " 0.4971  0.5015  0.4931\n",
       " 0.4976  0.5012  0.4931\n",
       " 0.4974  0.5008  0.4934\n",
       " 0.4978  0.5012  0.4934\n",
       " 0.4974  0.5010  0.4932\n",
       " 0.4972  0.5005  0.4939\n",
       " 0.4974  0.5008  0.4934\n",
       " 0.4976  0.5010  0.4927\n",
       " 0.4977  0.5004  0.4932\n",
       " 0.4975  0.5005  0.4932\n",
       " 0.4976  0.5004  0.4934\n",
       " 0.4975  0.5001  0.4936\n",
       " 0.4974  0.5005  0.4936\n",
       " 0.4974  0.5005  0.4936\n",
       " 0.4972  0.5007  0.4934\n",
       " 0.4973  0.5013  0.4930\n",
       " 0.4975  0.5010  0.4917\n",
       " 0.4974  0.5008  0.4926\n",
       " 0.4971  0.5010  0.4931\n",
       " 0.4977  0.5006  0.4933\n",
       " 0.4970  0.5008  0.4935\n",
       " 0.4975  0.5013  0.4932\n",
       " 0.4973  0.5013  0.4935\n",
       " 0.4973  0.5012  0.4932\n",
       " 0.4973  0.5011  0.4934\n",
       " 0.4978  0.5010  0.4932\n",
       " 0.4976  0.5008  0.4934\n",
       " 0.4977  0.5007  0.4927\n",
       " 0.4975  0.5008  0.4929\n",
       " 0.4973  0.5011  0.4930\n",
       " 0.4971  0.5013  0.4927\n",
       " 0.4972  0.5010  0.4931\n",
       " 0.4976  0.5008  0.4931\n",
       " 0.4972  0.5006  0.4932\n",
       " 0.4972  0.5011  0.4923\n",
       " 0.4970  0.5016  0.4930\n",
       " 0.4969  0.5011  0.4936\n",
       " 0.4972  0.5008  0.4936\n",
       " 0.4969  0.5009  0.4938\n",
       " 0.4972  0.5005  0.4936\n",
       "[torch.FloatTensor of size 48x3]"
      ]
     },
     "execution_count": 159,
     "metadata": {},
     "output_type": "execute_result"
    }
   ],
   "source": [
    "output[0][0]"
   ]
  },
  {
   "cell_type": "code",
   "execution_count": 158,
   "metadata": {},
   "outputs": [
    {
     "data": {
      "text/plain": [
       "Variable containing:\n",
       " 0.3952  0.4475  0.5165\n",
       " 0.1897  0.3380  0.5307\n",
       " 0.0645  0.2216  0.5541\n",
       " 0.0294  0.1574  0.5696\n",
       " 0.0199  0.1276  0.5845\n",
       " 0.0182  0.1198  0.5884\n",
       " 0.0164  0.1154  0.5859\n",
       " 0.0161  0.1159  0.5842\n",
       " 0.0156  0.1135  0.5924\n",
       " 0.0157  0.1109  0.5817\n",
       " 0.0157  0.1134  0.5926\n",
       " 0.0165  0.1150  0.5898\n",
       " 0.0158  0.1132  0.5845\n",
       " 0.0155  0.1115  0.5887\n",
       " 0.0153  0.1122  0.5867\n",
       " 0.0159  0.1130  0.5819\n",
       " 0.0162  0.1148  0.5842\n",
       " 0.0153  0.1105  0.5879\n",
       " 0.0152  0.1103  0.5922\n",
       " 0.0154  0.1120  0.5872\n",
       " 0.0157  0.1114  0.5854\n",
       " 0.0152  0.1140  0.5871\n",
       " 0.0155  0.1132  0.5825\n",
       " 0.0156  0.1138  0.5892\n",
       " 0.0160  0.1145  0.5870\n",
       " 0.0157  0.1118  0.5878\n",
       " 0.0162  0.1143  0.5914\n",
       " 0.0162  0.1137  0.5816\n",
       " 0.0153  0.1088  0.5875\n",
       " 0.0152  0.1120  0.5855\n",
       " 0.0155  0.1090  0.5874\n",
       " 0.0158  0.1125  0.5847\n",
       " 0.0150  0.1123  0.5828\n",
       " 0.0153  0.1127  0.5879\n",
       " 0.0152  0.1117  0.5911\n",
       " 0.0154  0.1114  0.5870\n",
       " 0.0150  0.1105  0.5849\n",
       " 0.0157  0.1135  0.5856\n",
       " 0.0156  0.1111  0.5941\n",
       " 0.0156  0.1112  0.5871\n",
       " 0.0149  0.1117  0.5909\n",
       " 0.0154  0.1109  0.5869\n",
       " 0.0156  0.1090  0.5898\n",
       " 0.0159  0.1125  0.5839\n",
       " 0.0160  0.1128  0.5968\n",
       " 0.0154  0.1115  0.5843\n",
       " 0.0153  0.1107  0.5874\n",
       " 0.0155  0.1137  0.5853\n",
       "[torch.FloatTensor of size 48x3]"
      ]
     },
     "execution_count": 158,
     "metadata": {},
     "output_type": "execute_result"
    }
   ],
   "source": [
    "output2[0][0]"
   ]
  },
  {
   "cell_type": "code",
   "execution_count": 103,
   "metadata": {},
   "outputs": [],
   "source": [
    "# def primary_loss(y_true, y_pred):\n",
    "#     # 3 separate loss calculations based on if note is played or not\n",
    "#     played = y_true[:, :, :, 0]\n",
    "#     bce_note = losses.binary_crossentropy(y_true[:, :, :, 0], y_pred[:, :, :, 0])\n",
    "#     bce_replay = losses.binary_crossentropy(y_true[:, :, :, 1], tf.multiply(played, y_pred[:, :, :, 1]) + tf.multiply(1 - played, y_true[:, :, :, 1]))\n",
    "#     mse = losses.mean_squared_error(y_true[:, :, :, 2], tf.multiply(played, y_pred[:, :, :, 2]) + tf.multiply(1 - played, y_true[:, :, :, 2]))\n",
    "#     return bce_note + bce_replay + mse"
   ]
  },
  {
   "cell_type": "code",
   "execution_count": 111,
   "metadata": {},
   "outputs": [],
   "source": [
    "criterion_bce_play = nn.BCELoss()  \n",
    "criterion_bce_replay = nn.BCELoss() \n",
    "criterion_mse = nn.MSELoss()  \n",
    "\n",
    "def compute_loss(y_pred, y_true):\n",
    "    \n",
    "    played = y_true[:, :, :, 0]\n",
    "    \n",
    "    bce_note = criterion_bce_play(y_pred[:, :, :, 0], y_true[:, :, :, 0])\n",
    "\n",
    "    replay = played*y_pred[:, :, :, 1] + (1 - played)*y_true[:, :, :, 1]\n",
    "    \n",
    "    bce_replay = criterion_bce_replay(replay, y_true[:, :, :, 1])\n",
    "    \n",
    "    volume = played*y_pred[:, :, :, 2] + (1 - played)*y_true[:, :, :, 2]\n",
    "    mse = criterion_mse(volume, y_true[:, :, :, 2] )\n",
    "    \n",
    "    return bce_note + bce_replay + mse\n"
   ]
  },
  {
   "cell_type": "code",
   "execution_count": 112,
   "metadata": {},
   "outputs": [
    {
     "data": {
      "text/plain": [
       "Variable containing:\n",
       " 0.7402\n",
       "[torch.FloatTensor of size 1]"
      ]
     },
     "execution_count": 112,
     "metadata": {},
     "output_type": "execute_result"
    }
   ],
   "source": [
    "compute_loss(output, chosen)"
   ]
  },
  {
   "cell_type": "code",
   "execution_count": 113,
   "metadata": {},
   "outputs": [],
   "source": [
    "generator = Generator()"
   ]
  },
  {
   "cell_type": "code",
   "execution_count": 114,
   "metadata": {},
   "outputs": [
    {
     "data": {
      "text/plain": [
       "(10, 128, 48, 3)"
      ]
     },
     "execution_count": 114,
     "metadata": {},
     "output_type": "execute_result"
    }
   ],
   "source": [
    "train_data[0].shape"
   ]
  },
  {
   "cell_type": "code",
   "execution_count": 136,
   "metadata": {},
   "outputs": [],
   "source": [
    "X_tr = train_data[0][:-1]\n",
    "X_te = train_data[0][-1:]\n",
    "y_tr = train_labels[0][:-1]\n",
    "y_te = train_labels[0][-1:]"
   ]
  },
  {
   "cell_type": "code",
   "execution_count": 137,
   "metadata": {},
   "outputs": [
    {
     "data": {
      "text/plain": [
       "((9, 128, 48, 3), (1, 128, 48, 3))"
      ]
     },
     "execution_count": 137,
     "metadata": {},
     "output_type": "execute_result"
    }
   ],
   "source": [
    "X_tr.shape, X_te.shape"
   ]
  },
  {
   "cell_type": "code",
   "execution_count": 138,
   "metadata": {},
   "outputs": [
    {
     "data": {
      "text/plain": [
       "9"
      ]
     },
     "execution_count": 138,
     "metadata": {},
     "output_type": "execute_result"
    }
   ],
   "source": [
    "len(X_tr)"
   ]
  },
  {
   "cell_type": "code",
   "execution_count": 139,
   "metadata": {},
   "outputs": [],
   "source": [
    "import math\n",
    "import time\n",
    "from IPython import display\n",
    "import matplotlib.pyplot as plt\n",
    "%matplotlib inline"
   ]
  },
  {
   "cell_type": "code",
   "execution_count": 140,
   "metadata": {},
   "outputs": [
    {
     "name": "stdout",
     "output_type": "stream",
     "text": [
      "Epoch 3 of 3 took 73.395s\n",
      "current train loss: 0.11898569266001384\n",
      "current val loss: 0.20192551612854004\n"
     ]
    },
    {
     "data": {
      "image/png": "[encoded data removed]",
      "text/plain": [
       "<matplotlib.figure.Figure at 0x1841742940>"
      ]
     },
     "metadata": {},
     "output_type": "display_data"
    },
    {
     "name": "stdout",
     "output_type": "stream",
     "text": [
      "Finished!\n"
     ]
    }
   ],
   "source": [
    "from tqdm import tqdm\n",
    "from torch import optim\n",
    "\n",
    "n_epochs = 3\n",
    "batchsize = 3\n",
    "optimizer = optim.Adam(generator.parameters())\n",
    "n_train_batches = math.ceil(len(X_tr)/batchsize)\n",
    "n_validation_batches = math.ceil(len(X_te)/batchsize)\n",
    "\n",
    "epoch_history = {'train_loss':[], 'val_loss':[]}\n",
    "\n",
    "for epoch in range(n_epochs):\n",
    "    \n",
    "    start_time = time.time()\n",
    "    \n",
    "    train_loss = 0\n",
    "    generator.train(True)    \n",
    "    for X, y in tqdm(iterate_minibatches(X_tr, y_tr, batchsize)):\n",
    "         \n",
    "        optimizer.zero_grad()\n",
    "                     \n",
    "        pred = generator(X, y)\n",
    "        loss = compute_loss(pred, y)        \n",
    "        loss.backward()\n",
    "                     \n",
    "        optimizer.step()\n",
    "        \n",
    "        train_loss += loss.cpu().data.numpy()[0]\n",
    "        \n",
    "    train_loss /= n_train_batches\n",
    "    epoch_history['train_loss'].append(train_loss)\n",
    "#     print('train_loss', train_loss)\n",
    "    \n",
    "    generator.train(False)\n",
    "    val_loss = 0\n",
    "    for X, y in tqdm(iterate_minibatches(X_te, y_te, batchsize)):\n",
    "        pred = generator(X, y)\n",
    "        loss = compute_loss(pred, y) \n",
    "\n",
    "        val_loss += loss.cpu().data.numpy()[0]\n",
    "           \n",
    "    val_loss /= n_validation_batches\n",
    "    epoch_history['val_loss'].append(val_loss)\n",
    "#     print('val_loss', val_loss)\n",
    "    \n",
    "    # Visualize\n",
    "    display.clear_output(wait=True)\n",
    "    plt.figure(figsize=(16, 6))\n",
    "    # Then we print the results for this epoch:\n",
    "    print(\"Epoch {} of {} took {:.3f}s\".format(\n",
    "        epoch + 1, n_epochs, time.time() - start_time)) \n",
    "    print('current train loss: {}'.format(epoch_history['train_loss'][-1]))\n",
    "    print('current val loss: {}'.format(epoch_history['val_loss'][-1]))\n",
    "       \n",
    "    plt.title(\"losses\")\n",
    "    plt.xlabel(\"#epoch\")\n",
    "    plt.ylabel(\"loss\")\n",
    "    plt.plot(epoch_history['train_loss'], 'b', label = 'train_loss')\n",
    "    plt.plot(epoch_history['val_loss'], 'g', label = 'val_loss')\n",
    "    plt.legend()\n",
    "    plt.show()\n",
    "    \n",
    "print(\"Finished!\")"
   ]
  },
  {
   "cell_type": "code",
   "execution_count": 142,
   "metadata": {},
   "outputs": [
    {
     "data": {
      "text/plain": [
       "(time_axis(\n",
       "   (time_lstm): LSTM(3, 256, batch_first=True, dropout=0.1)\n",
       "   (dropout): Dropout(p=0.2, inplace)\n",
       " ), note_axis(\n",
       "   (note_lstm): LSTM(259, 128, num_layers=2, batch_first=True, dropout=0.1)\n",
       "   (dropout): Dropout(p=0.2, inplace)\n",
       "   (logits): Linear(in_features=128, out_features=3)\n",
       " ))"
      ]
     },
     "execution_count": 142,
     "metadata": {},
     "output_type": "execute_result"
    }
   ],
   "source": [
    "generator.time_ax, generator.note_ax"
   ]
  },
  {
   "cell_type": "code",
   "execution_count": 145,
   "metadata": {},
   "outputs": [
    {
     "data": {
      "text/plain": [
       "Generator(\n",
       "  (time_ax): time_axis(\n",
       "    (time_lstm): LSTM(3, 256, batch_first=True, dropout=0.1)\n",
       "    (dropout): Dropout(p=0.2, inplace)\n",
       "  )\n",
       "  (note_ax): note_axis(\n",
       "    (note_lstm): LSTM(259, 128, num_layers=2, batch_first=True, dropout=0.1)\n",
       "    (dropout): Dropout(p=0.2, inplace)\n",
       "    (logits): Linear(in_features=128, out_features=3)\n",
       "  )\n",
       ")"
      ]
     },
     "execution_count": 145,
     "metadata": {},
     "output_type": "execute_result"
    }
   ],
   "source": [
    "generator.train(False) "
   ]
  },
  {
   "cell_type": "code",
   "execution_count": 151,
   "metadata": {},
   "outputs": [],
   "source": [
    "torch.save(generator.state_dict(), os.path.join(OUT_DIR, 'model_canonical'))\n",
    "the_model = Generator()\n",
    "the_model.load_state_dict(torch.load(os.path.join(OUT_DIR, 'model_canonical')))"
   ]
  },
  {
   "cell_type": "code",
   "execution_count": 152,
   "metadata": {},
   "outputs": [
    {
     "name": "stderr",
     "output_type": "stream",
     "text": [
      "ERROR:root:An unexpected error occurred while tokenizing input\n",
      "The following traceback may be corrupted or invalid\n",
      "The error message is: ('EOF in multi-line string', (1, 4))\n",
      "\n"
     ]
    },
    {
     "name": "stdout",
     "output_type": "stream",
     "text": [
      "Generating with no styles:\n"
     ]
    },
    {
     "ename": "TypeError",
     "evalue": "'Generator' object is not iterable",
     "output_type": "error",
     "traceback": [
      "\u001b[0;31m---------------------------------------------------------------------------\u001b[0m",
      "\u001b[0;31mTypeError\u001b[0m                                 Traceback (most recent call last)",
      "\u001b[0;32m<ipython-input-152-a078aad3febf>\u001b[0m in \u001b[0;36m<module>\u001b[0;34m()\u001b[0m\n\u001b[0;32m----> 1\u001b[0;31m \u001b[0mwrite_file\u001b[0m\u001b[0;34m(\u001b[0m\u001b[0;34m'output/canonical_test'\u001b[0m\u001b[0;34m,\u001b[0m \u001b[0mgenerate\u001b[0m\u001b[0;34m(\u001b[0m\u001b[0mthe_model\u001b[0m\u001b[0;34m,\u001b[0m \u001b[0;36m4\u001b[0m\u001b[0;34m)\u001b[0m\u001b[0;34m)\u001b[0m\u001b[0;34m\u001b[0m\u001b[0m\n\u001b[0m",
      "\u001b[0;32m~/Documents/project_dnn2018/generate.py\u001b[0m in \u001b[0;36mwrite_file\u001b[0;34m(name, results)\u001b[0m\n\u001b[1;32m    130\u001b[0m     \"\"\"\n\u001b[1;32m    131\u001b[0m     \u001b[0mTakes\u001b[0m \u001b[0ma\u001b[0m \u001b[0mlist\u001b[0m \u001b[0mof\u001b[0m \u001b[0mall\u001b[0m \u001b[0mnotes\u001b[0m \u001b[0mgenerated\u001b[0m \u001b[0mper\u001b[0m \u001b[0mtrack\u001b[0m \u001b[0;32mand\u001b[0m \u001b[0mwrites\u001b[0m \u001b[0mit\u001b[0m \u001b[0mto\u001b[0m \u001b[0mfile\u001b[0m\u001b[0;34m\u001b[0m\u001b[0m\n\u001b[0;32m--> 132\u001b[0;31m     \"\"\"\n\u001b[0m\u001b[1;32m    133\u001b[0m     \u001b[0mresults\u001b[0m \u001b[0;34m=\u001b[0m \u001b[0mzip\u001b[0m\u001b[0;34m(\u001b[0m\u001b[0;34m*\u001b[0m\u001b[0mlist\u001b[0m\u001b[0;34m(\u001b[0m\u001b[0mresults\u001b[0m\u001b[0;34m)\u001b[0m\u001b[0;34m)\u001b[0m\u001b[0;34m\u001b[0m\u001b[0m\n\u001b[1;32m    134\u001b[0m \u001b[0;34m\u001b[0m\u001b[0m\n",
      "\u001b[0;32m~/Documents/project_dnn2018/generate.py\u001b[0m in \u001b[0;36mgenerate\u001b[0;34m(models, num_bars, Attention)\u001b[0m\n\u001b[1;32m     96\u001b[0m     \u001b[0mprint\u001b[0m\u001b[0;34m(\u001b[0m\u001b[0;34m'Generating with no styles:'\u001b[0m\u001b[0;34m)\u001b[0m\u001b[0;34m\u001b[0m\u001b[0m\n\u001b[1;32m     97\u001b[0m \u001b[0;34m\u001b[0m\u001b[0m\n\u001b[0;32m---> 98\u001b[0;31m \u001b[0;31m#     models.train(False)\u001b[0m\u001b[0;34m\u001b[0m\u001b[0;34m\u001b[0m\u001b[0m\n\u001b[0m\u001b[1;32m     99\u001b[0m     \u001b[0mtime_model\u001b[0m\u001b[0;34m,\u001b[0m \u001b[0mnote_model\u001b[0m \u001b[0;34m=\u001b[0m \u001b[0mmodels\u001b[0m\u001b[0;34m.\u001b[0m\u001b[0mtime_ax\u001b[0m\u001b[0;34m,\u001b[0m \u001b[0mmodels\u001b[0m\u001b[0;34m.\u001b[0m\u001b[0mnote_ax\u001b[0m\u001b[0;34m\u001b[0m\u001b[0m\n\u001b[1;32m    100\u001b[0m     \u001b[0mgenerations\u001b[0m \u001b[0;34m=\u001b[0m \u001b[0;34m[\u001b[0m\u001b[0mMusicGeneration\u001b[0m\u001b[0;34m(\u001b[0m\u001b[0;34m)\u001b[0m\u001b[0;34m]\u001b[0m\u001b[0;34m\u001b[0m\u001b[0m\n",
      "\u001b[0;31mTypeError\u001b[0m: 'Generator' object is not iterable"
     ]
    }
   ],
   "source": [
    "write_file('output/canonical_test', generate(the_model, 4))"
   ]
  },
  {
   "cell_type": "markdown",
   "metadata": {},
   "source": [
    "# Canonical"
   ]
  },
  {
   "cell_type": "code",
   "execution_count": 21,
   "metadata": {},
   "outputs": [],
   "source": [
    "MASK = False\n",
    "self_attention = False\n",
    "attention_in_note = False\n",
    "models = build_models()"
   ]
  },
  {
   "cell_type": "code",
   "execution_count": 22,
   "metadata": {},
   "outputs": [
    {
     "name": "stdout",
     "output_type": "stream",
     "text": [
      "Training\n",
      "Train on 9 samples, validate on 1 samples\n",
      "Epoch 1/2\n",
      "9/9 [==============================] - 15s 2s/step - loss: 1.1476 - val_loss: 1.8936\n",
      "Epoch 2/2\n",
      "9/9 [==============================] - 11s 1s/step - loss: 0.9959 - val_loss: 1.8699\n"
     ]
    },
    {
     "data": {
      "text/plain": [
       "<keras.callbacks.History at 0x1c4b257630>"
      ]
     },
     "execution_count": 22,
     "metadata": {},
     "output_type": "execute_result"
    }
   ],
   "source": [
    "cbs = [\n",
    "    ModelCheckpoint(os.path.join(OUT_DIR, 'model_canonical.h5'), monitor='loss', save_best_only=True, save_weights_only=True),\n",
    "    EarlyStopping(monitor='loss', patience=5),\n",
    "    #TensorBoard(log_dir='out/logs', histogram_freq=1)\n",
    "]\n",
    "\n",
    "print('Training')\n",
    "models[0].fit(train_data, train_labels, validation_split=0.05,\n",
    "              epochs=2, callbacks=cbs, batch_size=1)\n"
   ]
  },
  {
   "cell_type": "code",
   "execution_count": 23,
   "metadata": {},
   "outputs": [
    {
     "name": "stderr",
     "output_type": "stream",
     "text": [
      "\r",
      "  0%|          | 0/64 [00:00<?, ?it/s]"
     ]
    },
    {
     "name": "stdout",
     "output_type": "stream",
     "text": [
      "Generating with no styles:\n"
     ]
    },
    {
     "name": "stderr",
     "output_type": "stream",
     "text": [
      "100%|██████████| 64/64 [00:55<00:00,  1.16it/s]"
     ]
    },
    {
     "name": "stdout",
     "output_type": "stream",
     "text": [
      "Writing file out/samples/output/canonical_test_0.mid\n"
     ]
    },
    {
     "name": "stderr",
     "output_type": "stream",
     "text": [
      "\n"
     ]
    }
   ],
   "source": [
    "models = build_models()\n",
    "models[0].load_weights(os.path.join(OUT_DIR, 'model_canonical.h5'))\n",
    "write_file('output/canonical_test', generate(models, 4))"
   ]
  },
  {
   "cell_type": "code",
   "execution_count": 21,
   "metadata": {},
   "outputs": [
    {
     "name": "stdout",
     "output_type": "stream",
     "text": [
      "Music file out/samples/output/canonical_test_0.mid loaded!\n"
     ]
    }
   ],
   "source": [
    "midi_file = 'out/samples/output/canonical_test_0.mid'\n",
    "play_music(midi_file)"
   ]
  },
  {
   "cell_type": "markdown",
   "metadata": {},
   "source": [
    "# Testing keras function"
   ]
  },
  {
   "cell_type": "code",
   "execution_count": 9,
   "metadata": {},
   "outputs": [],
   "source": [
    "fpath = os.path.join(SAMPLES_DIR, 'encode_decoded_song' + '_' + str(i) + '.mid')\n",
    "pattern = midi.read_midifile('data/Bach1/Toccata & Fuga in F-Dur, BWV 540.mid')\n",
    "result = midi_decode(pattern)\n",
    "mf = midi_encode(unclamp_midi(clamp_midi(result)))\n",
    "midi.write_midifile(fpath, mf)"
   ]
  },
  {
   "cell_type": "code",
   "execution_count": 51,
   "metadata": {},
   "outputs": [
    {
     "name": "stdout",
     "output_type": "stream",
     "text": [
      "[[[[1. 1. 1. 1.]\n",
      "   [1. 1. 1. 1.]]\n",
      "\n",
      "  [[1. 0. 0. 0.]\n",
      "   [0. 1. 0. 0.]]]]\n",
      "A (1, 2, 2, 4)\n",
      "time_steps 2\n",
      "A [[[1. 1. 1. 1.]\n",
      "  [1. 0. 0. 0.]]]\n",
      "x0 (1, 2, 1, 4)\n",
      "x0 [[[[1. 1. 0. 0.]]\n",
      "\n",
      "  [[1. 0. 0. 0.]]]]\n",
      "x1 (1, 2, 1, 4)\n",
      "x1  [[[[1. 1. 1. 1.]]\n",
      "\n",
      "  [[0. 1. 0. 0.]]]]\n",
      "x (1, 2, 2, 4)\n",
      "x  [[[[1. 1. 0. 0.]\n",
      "   [1. 1. 1. 1.]]\n",
      "\n",
      "  [[1. 0. 0. 0.]\n",
      "   [0. 1. 0. 0.]]]]\n"
     ]
    }
   ],
   "source": [
    "A = np.array([[np.ones((2,4)), np.eye(4)[:2]]])\n",
    "A = K.variable(A)\n",
    "print(K.eval(A))\n",
    "print('A', A.shape)\n",
    "# x = Dense(4, kernel_initializer='Ones')(A)\\\n",
    "#print('slice x', K.eval(A[:, :, :-1, :]))\n",
    "\n",
    "time_steps = int(A.get_shape()[2])\n",
    "note_dim = int(A.get_shape()[1])\n",
    "\n",
    "print('time_steps', time_steps)\n",
    "print('A', K.eval(A[:, :, 0, :]))\n",
    "\n",
    "time_mask = []\n",
    "for i in range(time_steps):\n",
    "    time_mask.append(Lambda(lambda x: tf.pad(x[:, :, i:i+1, 0:(i+1)*note_dim], \n",
    "        [[0, 0], [0, 0],[0, 0],  [0, note_dim*time_steps-(i+1)*note_dim]]))(A))\n",
    "# x = Lambda(lambda x: tf.pad(x[:, :, :-1, :], \n",
    "#                         [[0, 0], [0, 0], [1, 0], [0, 0]]))(A)\n",
    "\n",
    "\n",
    "print('x0', time_mask[0].shape)\n",
    "print('x0', K.eval(time_mask[0]))\n",
    "\n",
    "print('x1', time_mask[1].shape)\n",
    "print('x1 ', K.eval(time_mask[1]))\n",
    "\n",
    "x = Concatenate(axis=2)(time_mask)\n",
    "\n",
    "print('x', x.shape)\n",
    "print('x ', K.eval(x))"
   ]
  },
  {
   "cell_type": "code",
   "execution_count": 24,
   "metadata": {},
   "outputs": [],
   "source": [
    "# models[0].save_weights(os.path.join(OUT_DIR, 'raw_model.h5'))"
   ]
  },
  {
   "cell_type": "code",
   "execution_count": 19,
   "metadata": {},
   "outputs": [],
   "source": [
    "# models = build_models()\n",
    "# models[0].load_weights(MODEL_FILE)\n",
    "# write_file('output2', generate(models, 4, styles))"
   ]
  },
  {
   "cell_type": "code",
   "execution_count": 27,
   "metadata": {},
   "outputs": [],
   "source": [
    "# import numpy as np\n",
    "# import tensorflow as tf\n",
    "# from keras.layers import Input, LSTM, Dense, Dropout, Lambda, Reshape, Permute\n",
    "# from keras.layers import TimeDistributed, RepeatVector, Conv1D, Activation\n",
    "# from keras.layers import Embedding, Flatten, dot, concatenate \n",
    "# from keras.layers.merge import Concatenate, Add, Multiply\n",
    "# from keras.models import Model\n",
    "# import keras.backend as K\n",
    "# from keras import losses\n",
    "\n",
    "# from util import *\n",
    "# from constants import *\n",
    "\n",
    "# from keras.utils import multi_gpu_model\n",
    "\n",
    "# def primary_loss(y_true, y_pred):\n",
    "#     # 3 separate loss calculations based on if note is played or not\n",
    "#     played = y_true[:, :, :, 0]\n",
    "#     harmony = K.sum(K.reshape(played,(-1,128,12,4)), axis = -1)\n",
    "#     bce_note = losses.binary_crossentropy(y_true[:, :, :, 0], y_pred[:, :, :, 0])\n",
    "#     bce_replay = losses.binary_crossentropy(y_true[:, :, :, 1], tf.multiply(played, y_pred[:, :, :, 1]) + tf.multiply(1 - played, y_true[:, :, :, 1]))\n",
    "#     mse = losses.mean_squared_error(y_true[:, :, :, 2], tf.multiply(played, y_pred[:, :, :, 2]) + tf.multiply(1 - played, y_true[:, :, :, 2]))\n",
    "#     return bce_note + bce_replay + mse\n",
    "\n",
    "# def pitch_pos_in_f(time_steps):\n",
    "#     \"\"\"\n",
    "#     Returns a constant containing pitch position of each note\n",
    "#     \"\"\"\n",
    "#     def f(x):\n",
    "#         note_ranges = tf.range(NUM_NOTES, dtype='float32') / NUM_NOTES\n",
    "#         repeated_ranges = tf.tile(note_ranges, [tf.shape(x)[0] * time_steps])\n",
    "#         return tf.reshape(repeated_ranges, [tf.shape(x)[0], time_steps, NUM_NOTES, 1])\n",
    "#     return f\n",
    "\n",
    "# def pitch_class_in_f(time_steps):\n",
    "#     \"\"\"\n",
    "#     Returns a constant containing pitch class of each note\n",
    "#     \"\"\"\n",
    "#     def f(x):\n",
    "#         pitch_class_matrix = np.array([one_hot(n % OCTAVE, OCTAVE) for n in range(NUM_NOTES)])\n",
    "#         pitch_class_matrix = tf.constant(pitch_class_matrix, dtype='float32')\n",
    "#         pitch_class_matrix = tf.reshape(pitch_class_matrix, [1, 1, NUM_NOTES, OCTAVE])\n",
    "#         return tf.tile(pitch_class_matrix, [tf.shape(x)[0], time_steps, 1, 1])\n",
    "#     return f\n",
    "\n",
    "# def pitch_bins_f(time_steps):\n",
    "#     def f(x):\n",
    "#         bins = tf.reduce_sum([x[:, :, i::OCTAVE, 0] for i in range(OCTAVE)], axis=3)\n",
    "#         bins = tf.tile(bins, [NUM_OCTAVES, 1, 1])\n",
    "#         bins = tf.reshape(bins, [tf.shape(x)[0], time_steps, NUM_NOTES, 1])\n",
    "#         return bins\n",
    "#     return f\n",
    "\n",
    "# def time_axis(dropout):\n",
    "#     def f(notes, beat):\n",
    "#         time_steps = int(notes.get_shape()[1])\n",
    "\n",
    "#         # TODO: Experiment with when to apply conv\n",
    "#         note_octave = TimeDistributed(Conv1D(OCTAVE_UNITS, 2 * OCTAVE, padding='same'))(notes)\n",
    "#         note_octave = Activation('tanh')(note_octave)\n",
    "#         note_octave = Dropout(dropout)(note_octave)\n",
    "\n",
    "#         # Create features for every single note.\n",
    "#         note_features = Concatenate()([\n",
    "#             Lambda(pitch_pos_in_f(time_steps))(notes),\n",
    "#             Lambda(pitch_class_in_f(time_steps))(notes),\n",
    "#             Lambda(pitch_bins_f(time_steps))(notes),\n",
    "#             note_octave,\n",
    "#             TimeDistributed(RepeatVector(NUM_NOTES))(beat)\n",
    "#         ])\n",
    "\n",
    "#         x = note_features\n",
    "#         # [batch, notes, time, features]\n",
    "#         x = Permute((2, 1, 3))(x)\n",
    "\n",
    "#         # Apply LSTMs\n",
    "#         for l in range(TIME_AXIS_LAYERS):\n",
    "\n",
    "#             x = TimeDistributed(LSTM(TIME_AXIS_UNITS, return_sequences=True))(x)\n",
    "#             x = Dropout(dropout)(x)\n",
    "\n",
    "#         # [batch, time, notes, features]\n",
    "#         return Permute((2, 1, 3))(x)\n",
    "#     return f\n",
    "\n",
    "# def note_axis(dropout):\n",
    "#     lstm_layer_cache = {}\n",
    "#     note_dense = Dense(2, activation='sigmoid', name='note_dense')\n",
    "#     volume_dense = Dense(1, name='volume_dense')\n",
    "\n",
    "#     def f(x, chosen):\n",
    "#         time_steps = int(x.get_shape()[1])\n",
    "\n",
    "#         # Shift target one note to the left.\n",
    "#         shift_chosen = Lambda(lambda x: tf.pad(x[:, :, :-1, :], [[0, 0], [0, 0], [1, 0], [0, 0]]))(chosen)\n",
    "\n",
    "#         # [batch, time, notes, features + 1]\n",
    "#         x = Concatenate(axis=3)([x, shift_chosen])\n",
    "\n",
    "\n",
    "#         for l in range(NOTE_AXIS_LAYERS):\n",
    "#             if l not in lstm_layer_cache:\n",
    "#                 lstm_layer_cache[l] = LSTM(NOTE_AXIS_UNITS, return_sequences=True)\n",
    "\n",
    "#             x = TimeDistributed(lstm_layer_cache[l])(x)\n",
    "#             x = Dropout(dropout)(x)\n",
    "            \n",
    "#         #print('x', x.shape)  \n",
    "#         #print('nx', note_dense(x).shape)\n",
    "        \n",
    "#         return Concatenate()([note_dense(x), volume_dense(x)])\n",
    "#     return f\n",
    "\n",
    "# def build_models(time_steps=SEQ_LEN, input_dropout=0.2, dropout=0.5):\n",
    "#     notes_in = Input((time_steps, NUM_NOTES, NOTE_UNITS))\n",
    "#     beat_in = Input((time_steps, NOTES_PER_BAR))\n",
    "#     # Target input for conditioning\n",
    "#     chosen_in = Input((time_steps, NUM_NOTES, NOTE_UNITS))\n",
    "\n",
    "#     # Dropout inputs\n",
    "#     notes = Dropout(input_dropout)(notes_in)\n",
    "#     beat = Dropout(input_dropout)(beat_in)\n",
    "#     chosen = Dropout(input_dropout)(chosen_in)\n",
    "\n",
    "#     \"\"\" Time axis \"\"\"\n",
    "#     time_out = time_axis(dropout)(notes, beat)\n",
    "\n",
    "#     \"\"\" Note Axis & Prediction Layer \"\"\"\n",
    "#     naxis = note_axis(dropout)\n",
    "#     notes_out = naxis(time_out, chosen)\n",
    "\n",
    "#     model = Model([notes_in, chosen_in, beat_in], [notes_out])\n",
    "\n",
    "#     if len(K.tensorflow_backend._get_available_gpus())>=2:\n",
    "#         model = multi_gpu_model(model)\n",
    "\n",
    "#     model.compile(optimizer='nadam', loss=[primary_loss])\n",
    "\n",
    "#     \"\"\" Generation Models \"\"\"\n",
    "#     time_model = Model([notes_in, beat_in], [time_out])\n",
    "\n",
    "#     note_features = Input((1, NUM_NOTES, TIME_AXIS_UNITS), name='note_features')\n",
    "#     chosen_gen_in = Input((1, NUM_NOTES, NOTE_UNITS), name='chosen_gen_in')\n",
    "#     style_gen_in = Input((1, NUM_STYLES), name='style_in')\n",
    "\n",
    "#     # Dropout inputs\n",
    "#     chosen_gen = Dropout(input_dropout)(chosen_gen_in)\n",
    "    \n",
    "#     note_gen_out = naxis(note_features, chosen_gen)\n",
    "    \n",
    "#     note_model = Model([note_features, chosen_gen_in], note_gen_out)\n",
    "\n",
    "#     return model, time_model, note_model\n",
    "\n",
    "\n",
    "# def build_models_with_attention(time_steps=SEQ_LEN, input_dropout=0.2, dropout=0.5):\n",
    "#     notes_in = Input((time_steps, NUM_NOTES, NOTE_UNITS))\n",
    "#     beat_in = Input((time_steps, NOTES_PER_BAR))\n",
    "#     # Target input for conditioning\n",
    "#     chosen_in = Input((time_steps, NUM_NOTES, NOTE_UNITS))\n",
    "\n",
    "#     # Dropout inputs\n",
    "#     notes = Dropout(input_dropout)(notes_in)\n",
    "#     beat = Dropout(input_dropout)(beat_in)\n",
    "#     chosen = Dropout(input_dropout)(chosen_in)\n",
    "\n",
    "#     \"\"\" Time axis \"\"\"\n",
    "#     time_out = time_axis(dropout)(notes, beat)\n",
    "#     #print('time_out', time_out.shape)\n",
    "\n",
    "#     \"\"\" Note Axis & Prediction Layer \"\"\"\n",
    "#     naxis = note_axis_attention(dropout)\n",
    "#     notes_out = naxis(time_out)\n",
    "    \n",
    "#     model = Model([notes_in, chosen_in, beat_in], [notes_out])\n",
    "\n",
    "#     if len(K.tensorflow_backend._get_available_gpus())>=2:\n",
    "#         model = multi_gpu_model(model)\n",
    "\n",
    "#     model.compile(optimizer='nadam', loss=[primary_loss])\n",
    "    \n",
    "#     \"\"\" Generation Models \"\"\"\n",
    "#     time_model = Model([notes_in, beat_in], [time_out])\n",
    "\n",
    "#     note_features = Input((1, NUM_NOTES, TIME_AXIS_UNITS), name='note_features')\n",
    "#     chosen_gen_in = Input((1, NUM_NOTES, NOTE_UNITS), name='chosen_gen_in')\n",
    "   \n",
    "#     # Dropout inputs\n",
    "#     chosen_gen = Dropout(input_dropout)(chosen_gen_in)\n",
    "    \n",
    "#     #print('NUM_NOTES', NUM_NOTES)\n",
    "#     note_gen_out = naxis(note_features)\n",
    "    \n",
    "#     note_model = Model([note_features, chosen_gen_in], note_gen_out)\n",
    "\n",
    "#     return model, time_model, note_model\n",
    "\n",
    "# def note_axis_attention(dropout):\n",
    "#     note_dense_att = Dense(2, activation='sigmoid', name='note_dense_att')\n",
    "#     volume_dense_att = Dense(1, name='volume_dense_att')\n",
    "\n",
    "#     def f(x):\n",
    "#         x = attention_layer(x, x, True)\n",
    "#         #print('x_att', x.shape)\n",
    "#         x = Dropout(dropout)(x)\n",
    "#         #print('x_drop', x.get_shape)\n",
    "\n",
    "#         v = volume_dense_att(x)\n",
    "        \n",
    "#         #print('the end')\n",
    "#         #print('dense_vol', v.shape)\n",
    "  \n",
    "#         return Concatenate(axis=-1)([note_dense_att(x), volume_dense_att(x)])\n",
    "    \n",
    "#     return f\n",
    "\n",
    "# def OneHeadAttention(a_drop, q_drop, drop_ratio=0.5):\n",
    "        \n",
    "#     a_proj = Dense(PROJECTION_DIM, use_bias=False, kernel_initializer='glorot_normal')(a_drop)\n",
    "#     q_proj = Dense(PROJECTION_DIM, use_bias=False, kernel_initializer='glorot_normal')(q_drop)\n",
    "#     v_proj = Dense(PROJECTION_DIM, use_bias=False, kernel_initializer='glorot_normal')(a_drop)\n",
    "    \n",
    "#     a_proj = Dropout(drop_ratio)(a_proj)\n",
    "#     q_proj = Dropout(drop_ratio)(q_proj)\n",
    "#     v_proj = Dropout(drop_ratio)(v_proj)\n",
    "#     #print('a_proj', a_proj.shape)\n",
    "    \n",
    "#     #n = Dense(2)(v_proj)\n",
    "#     #print('dense_note', n.shape)\n",
    " \n",
    "    \n",
    "#     att_input = Lambda(lambda x: tf.matmul(x[0],x[1], transpose_b=True))([q_proj, a_proj])\n",
    "#     #print('att_input', att_input.shape)\n",
    "\n",
    "\n",
    "#     att_weights = Activation('softmax')(att_input)\n",
    "#     v_new = Lambda(lambda x: tf.matmul(x[0],x[1]))([att_weights, v_proj])\n",
    "#     #tf.matmul(att_weights, v_proj)\n",
    "#     #print('v_new', v_new.get_shape)\n",
    "     \n",
    "#     v_new = Multiply()([q_proj, v_new])\n",
    "    \n",
    "#     return v_new\n",
    "\n",
    "# def MultyHeadAttention(a_drop, q_drop):\n",
    "\n",
    "#     Attention_heads = []\n",
    "#     for i in range(N_HEADS):\n",
    "#         Attention_heads.append(OneHeadAttention(a_drop, q_drop))\n",
    "        \n",
    "#     BigHead = concatenate(Attention_heads, axis=-1)\n",
    "#     #print('BigHead', BigHead.shape)   \n",
    "\n",
    "#     attention_output = Dense(DENSE_SIZE, use_bias=False)(BigHead)\n",
    "#     #print('attention_output', attention_output.shape)\n",
    "\n",
    "           \n",
    "#     return attention_output\n",
    "    \n",
    "# def attention_layer(a_drop, q_drop, FF):\n",
    "    \n",
    "#     #print('a_drop', a_drop.shape)\n",
    "#     res = MultyHeadAttention(a_drop, q_drop)\n",
    "#     #print('res', res.shape)\n",
    "        \n",
    "#     att = Add()([a_drop, res])\n",
    "#     #att = normalize()(att)    \n",
    " \n",
    "#     #Feed Forward\n",
    "#     if FF:\n",
    "#         att_ff = Dense(DENSE_SIZE*4, activation = 'relu')(att)\n",
    "#         att_ff = Dense(DENSE_SIZE)(att_ff)   \n",
    "#         att_ff = Dropout(0.1)(att_ff)\n",
    "#         att_add = Add()([att, att_ff])\n",
    "#         #att = normalize()(att_add) \n",
    "    \n",
    "#     return att\n",
    "\n"
   ]
  },
  {
   "cell_type": "code",
   "execution_count": 15,
   "metadata": {},
   "outputs": [
    {
     "data": {
      "text/plain": [
       "array([0., 0., 0., 1., 0., 0., 0., 0., 0., 0., 0., 0., 0., 0., 0., 0.])"
      ]
     },
     "execution_count": 15,
     "metadata": {},
     "output_type": "execute_result"
    }
   ],
   "source": [
    "compute_beat(3, 16)"
   ]
  },
  {
   "cell_type": "code",
   "execution_count": 141,
   "metadata": {},
   "outputs": [
    {
     "data": {
      "text/plain": [
       "128"
      ]
     },
     "execution_count": 141,
     "metadata": {},
     "output_type": "execute_result"
    }
   ],
   "source": [
    "SEQ_LEN"
   ]
  },
  {
   "cell_type": "code",
   "execution_count": null,
   "metadata": {},
   "outputs": [],
   "source": []
  },
  {
   "cell_type": "code",
   "execution_count": 169,
   "metadata": {},
   "outputs": [],
   "source": [
    "d = deque([np.zeros((2, 3)) for _ in range(2)], maxlen=2)"
   ]
  },
  {
   "cell_type": "code",
   "execution_count": 170,
   "metadata": {},
   "outputs": [
    {
     "data": {
      "text/plain": [
       "deque([array([[0., 0., 0.],\n",
       "              [0., 0., 0.]]), array([[0., 0., 0.],\n",
       "              [0., 0., 0.]])])"
      ]
     },
     "execution_count": 170,
     "metadata": {},
     "output_type": "execute_result"
    }
   ],
   "source": [
    "d"
   ]
  },
  {
   "cell_type": "code",
   "execution_count": 173,
   "metadata": {},
   "outputs": [],
   "source": [
    "d.append(np.ones((2,3)))"
   ]
  },
  {
   "cell_type": "code",
   "execution_count": 174,
   "metadata": {},
   "outputs": [
    {
     "data": {
      "text/plain": [
       "deque([array([[1., 1., 1.],\n",
       "              [1., 1., 1.]]), array([[1., 1., 1.],\n",
       "              [1., 1., 1.]])])"
      ]
     },
     "execution_count": 174,
     "metadata": {},
     "output_type": "execute_result"
    }
   ],
   "source": [
    "d"
   ]
  },
  {
   "cell_type": "code",
   "execution_count": 142,
   "metadata": {},
   "outputs": [
    {
     "data": {
      "text/plain": [
       "16"
      ]
     },
     "execution_count": 142,
     "metadata": {},
     "output_type": "execute_result"
    }
   ],
   "source": [
    "NOTES_PER_BAR"
   ]
  },
  {
   "cell_type": "code",
   "execution_count": 191,
   "metadata": {
    "scrolled": false
   },
   "outputs": [],
   "source": [
    "# for i, result in enumerate(generate(models, 4, styles)):\n",
    "# #     print(i)\n",
    "# #     print(np.array(result).shape)\n",
    "# #     print(unclamp_midi(result).shape)\n",
    "# #     print(midi_encode(unclamp_midi(result)))\n",
    "#     break"
   ]
  },
  {
   "cell_type": "code",
   "execution_count": 62,
   "metadata": {},
   "outputs": [],
   "source": [
    "g = MusicGeneration(styles[0])\n",
    "a = g.build_time_inputs()"
   ]
  },
  {
   "cell_type": "code",
   "execution_count": 63,
   "metadata": {},
   "outputs": [
    {
     "data": {
      "text/plain": [
       "tuple"
      ]
     },
     "execution_count": 63,
     "metadata": {},
     "output_type": "execute_result"
    }
   ],
   "source": [
    "type(a)"
   ]
  },
  {
   "cell_type": "code",
   "execution_count": 19,
   "metadata": {},
   "outputs": [
    {
     "name": "stdout",
     "output_type": "stream",
     "text": [
      "(128, 48, 3)\n",
      "(128, 16)\n",
      "(128, 1)\n"
     ]
    }
   ],
   "source": [
    "for i in a:\n",
    "    print(i.shape)"
   ]
  },
  {
   "cell_type": "code",
   "execution_count": 21,
   "metadata": {},
   "outputs": [
    {
     "data": {
      "text/plain": [
       "True"
      ]
     },
     "execution_count": 21,
     "metadata": {},
     "output_type": "execute_result"
    }
   ],
   "source": [
    "(a[0]==0).any()"
   ]
  },
  {
   "cell_type": "code",
   "execution_count": 29,
   "metadata": {},
   "outputs": [
    {
     "data": {
      "text/plain": [
       "True"
      ]
     },
     "execution_count": 29,
     "metadata": {},
     "output_type": "execute_result"
    }
   ],
   "source": [
    "(a[1]==0).any()"
   ]
  },
  {
   "cell_type": "code",
   "execution_count": 65,
   "metadata": {},
   "outputs": [
    {
     "name": "stdout",
     "output_type": "stream",
     "text": [
      "(1, 128, 48, 3)\n",
      "(1, 128, 16)\n",
      "(1, 128, 1)\n"
     ]
    }
   ],
   "source": [
    "for i in process_inputs([a]):\n",
    "    print(i.shape)"
   ]
  },
  {
   "cell_type": "code",
   "execution_count": 57,
   "metadata": {},
   "outputs": [
    {
     "data": {
      "text/plain": [
       "(1, 1, 48, 256)"
      ]
     },
     "execution_count": 57,
     "metadata": {},
     "output_type": "execute_result"
    }
   ],
   "source": [
    "models[1].predict(process_inputs([a]))[:, -1:, :].shape"
   ]
  },
  {
   "cell_type": "code",
   "execution_count": 74,
   "metadata": {},
   "outputs": [
    {
     "data": {
      "text/plain": [
       "(1, 48, 256)"
      ]
     },
     "execution_count": 74,
     "metadata": {},
     "output_type": "execute_result"
    }
   ],
   "source": [
    "note_features = models[1].predict(process_inputs([a]))[:, -1:, :]\n",
    "note_features[0, : ,: , :].shape"
   ]
  },
  {
   "cell_type": "code",
   "execution_count": 76,
   "metadata": {},
   "outputs": [
    {
     "name": "stdout",
     "output_type": "stream",
     "text": [
      "(1, 48, 256)\n",
      "(1, 48, 3)\n",
      "(1, 1)\n"
     ]
    }
   ],
   "source": [
    "b = g.build_note_inputs(note_features[0, : ,: , :])\n",
    "for i in b:\n",
    "    print(i.shape)"
   ]
  },
  {
   "cell_type": "code",
   "execution_count": 80,
   "metadata": {},
   "outputs": [],
   "source": [
    "# b"
   ]
  },
  {
   "cell_type": "code",
   "execution_count": 77,
   "metadata": {},
   "outputs": [
    {
     "name": "stdout",
     "output_type": "stream",
     "text": [
      "(1, 1, 48, 256)\n",
      "(1, 1, 48, 3)\n",
      "(1, 1, 1)\n"
     ]
    }
   ],
   "source": [
    "for i in process_inputs([b]):\n",
    "    print(i.shape)"
   ]
  },
  {
   "cell_type": "code",
   "execution_count": 85,
   "metadata": {},
   "outputs": [
    {
     "data": {
      "text/plain": [
       "(1, 1, 48, 3)"
      ]
     },
     "execution_count": 85,
     "metadata": {},
     "output_type": "execute_result"
    }
   ],
   "source": [
    "pr = np.array(models[2].predict(process_inputs([b])))\n",
    "pr.shape"
   ]
  },
  {
   "cell_type": "code",
   "execution_count": 94,
   "metadata": {},
   "outputs": [],
   "source": [
    "pr2 = pr[0][-1]"
   ]
  },
  {
   "cell_type": "code",
   "execution_count": 96,
   "metadata": {},
   "outputs": [
    {
     "data": {
      "text/plain": [
       "-0.0836291"
      ]
     },
     "execution_count": 96,
     "metadata": {},
     "output_type": "execute_result"
    }
   ],
   "source": [
    "pr2[2, -1]"
   ]
  },
  {
   "cell_type": "code",
   "execution_count": 98,
   "metadata": {},
   "outputs": [],
   "source": [
    "prob = apply_temperature(pr2[2, :-1], g.temperature)"
   ]
  },
  {
   "cell_type": "code",
   "execution_count": 99,
   "metadata": {},
   "outputs": [
    {
     "data": {
      "text/plain": [
       "array([0.49578953, 0.4675863 ], dtype=float32)"
      ]
     },
     "execution_count": 99,
     "metadata": {},
     "output_type": "execute_result"
    }
   ],
   "source": [
    "prob"
   ]
  },
  {
   "cell_type": "code",
   "execution_count": 89,
   "metadata": {},
   "outputs": [],
   "source": [
    "g.choose(pr[0][-1], 0)"
   ]
  },
  {
   "cell_type": "code",
   "execution_count": null,
   "metadata": {},
   "outputs": [],
   "source": []
  }
 ],
 "metadata": {
  "kernelspec": {
   "display_name": "Python 3",
   "language": "python",
   "name": "python3"
  },
  "language_info": {
   "codemirror_mode": {
    "name": "ipython",
    "version": 3
   },
   "file_extension": ".py",
   "mimetype": "text/x-python",
   "name": "python",
   "nbconvert_exporter": "python",
   "pygments_lexer": "ipython3",
   "version": "3.6.4"
  }
 },
 "nbformat": 4,
 "nbformat_minor": 2
}
